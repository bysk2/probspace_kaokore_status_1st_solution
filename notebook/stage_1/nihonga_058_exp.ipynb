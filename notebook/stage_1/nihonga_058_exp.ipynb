{
  "cells": [
    {
      "cell_type": "code",
      "execution_count": 12,
      "metadata": {
        "colab": {
          "base_uri": "https://localhost:8080/"
        },
        "id": "csoDeA95Cs9f",
        "outputId": "6b71ac4d-71e6-4337-e9ce-63f032c74fcc"
      },
      "outputs": [
        {
          "output_type": "stream",
          "name": "stdout",
          "text": [
            "Mon Aug  8 23:33:31 2022       \n",
            "+-----------------------------------------------------------------------------+\n",
            "| NVIDIA-SMI 460.32.03    Driver Version: 460.32.03    CUDA Version: 11.2     |\n",
            "|-------------------------------+----------------------+----------------------+\n",
            "| GPU  Name        Persistence-M| Bus-Id        Disp.A | Volatile Uncorr. ECC |\n",
            "| Fan  Temp  Perf  Pwr:Usage/Cap|         Memory-Usage | GPU-Util  Compute M. |\n",
            "|                               |                      |               MIG M. |\n",
            "|===============================+======================+======================|\n",
            "|   0  Tesla P100-PCIE...  Off  | 00000000:00:04.0 Off |                    0 |\n",
            "| N/A   42C    P0    27W / 250W |      2MiB / 16280MiB |      0%      Default |\n",
            "|                               |                      |                  N/A |\n",
            "+-------------------------------+----------------------+----------------------+\n",
            "                                                                               \n",
            "+-----------------------------------------------------------------------------+\n",
            "| Processes:                                                                  |\n",
            "|  GPU   GI   CI        PID   Type   Process name                  GPU Memory |\n",
            "|        ID   ID                                                   Usage      |\n",
            "|=============================================================================|\n",
            "|  No running processes found                                                 |\n",
            "+-----------------------------------------------------------------------------+\n"
          ]
        }
      ],
      "source": [
        "!nvidia-smi"
      ]
    },
    {
      "cell_type": "code",
      "execution_count": 13,
      "metadata": {
        "colab": {
          "base_uri": "https://localhost:8080/"
        },
        "id": "qzdg0cpICseL",
        "outputId": "714b92b8-328f-402d-eeff-5eb370ecf461"
      },
      "outputs": [
        {
          "output_type": "stream",
          "name": "stdout",
          "text": [
            "fatal: destination path 'dino' already exists and is not an empty directory.\n"
          ]
        }
      ],
      "source": [
        "! git clone https://github.com/facebookresearch/dino.git"
      ]
    },
    {
      "cell_type": "code",
      "execution_count": 3,
      "metadata": {
        "colab": {
          "base_uri": "https://localhost:8080/"
        },
        "id": "jwfUWNYxC_Zt",
        "outputId": "dc6a6b00-28c3-4910-f9c6-45e0b99ee17c"
      },
      "outputs": [
        {
          "output_type": "stream",
          "name": "stdout",
          "text": [
            "\u001b[?25l\r\u001b[K     |▋                               | 10 kB 23.6 MB/s eta 0:00:01\r\u001b[K     |█▎                              | 20 kB 13.3 MB/s eta 0:00:01\r\u001b[K     |██                              | 30 kB 10.1 MB/s eta 0:00:01\r\u001b[K     |██▋                             | 40 kB 8.9 MB/s eta 0:00:01\r\u001b[K     |███▏                            | 51 kB 6.3 MB/s eta 0:00:01\r\u001b[K     |███▉                            | 61 kB 7.4 MB/s eta 0:00:01\r\u001b[K     |████▌                           | 71 kB 6.9 MB/s eta 0:00:01\r\u001b[K     |█████▏                          | 81 kB 6.2 MB/s eta 0:00:01\r\u001b[K     |█████▉                          | 92 kB 6.8 MB/s eta 0:00:01\r\u001b[K     |██████▍                         | 102 kB 7.5 MB/s eta 0:00:01\r\u001b[K     |███████                         | 112 kB 7.5 MB/s eta 0:00:01\r\u001b[K     |███████▊                        | 122 kB 7.5 MB/s eta 0:00:01\r\u001b[K     |████████▍                       | 133 kB 7.5 MB/s eta 0:00:01\r\u001b[K     |█████████                       | 143 kB 7.5 MB/s eta 0:00:01\r\u001b[K     |█████████▋                      | 153 kB 7.5 MB/s eta 0:00:01\r\u001b[K     |██████████▎                     | 163 kB 7.5 MB/s eta 0:00:01\r\u001b[K     |███████████                     | 174 kB 7.5 MB/s eta 0:00:01\r\u001b[K     |███████████▋                    | 184 kB 7.5 MB/s eta 0:00:01\r\u001b[K     |████████████▏                   | 194 kB 7.5 MB/s eta 0:00:01\r\u001b[K     |████████████▉                   | 204 kB 7.5 MB/s eta 0:00:01\r\u001b[K     |█████████████▌                  | 215 kB 7.5 MB/s eta 0:00:01\r\u001b[K     |██████████████▏                 | 225 kB 7.5 MB/s eta 0:00:01\r\u001b[K     |██████████████▉                 | 235 kB 7.5 MB/s eta 0:00:01\r\u001b[K     |███████████████▍                | 245 kB 7.5 MB/s eta 0:00:01\r\u001b[K     |████████████████                | 256 kB 7.5 MB/s eta 0:00:01\r\u001b[K     |████████████████▊               | 266 kB 7.5 MB/s eta 0:00:01\r\u001b[K     |█████████████████▍              | 276 kB 7.5 MB/s eta 0:00:01\r\u001b[K     |██████████████████              | 286 kB 7.5 MB/s eta 0:00:01\r\u001b[K     |██████████████████▋             | 296 kB 7.5 MB/s eta 0:00:01\r\u001b[K     |███████████████████▎            | 307 kB 7.5 MB/s eta 0:00:01\r\u001b[K     |████████████████████            | 317 kB 7.5 MB/s eta 0:00:01\r\u001b[K     |████████████████████▋           | 327 kB 7.5 MB/s eta 0:00:01\r\u001b[K     |█████████████████████▏          | 337 kB 7.5 MB/s eta 0:00:01\r\u001b[K     |█████████████████████▉          | 348 kB 7.5 MB/s eta 0:00:01\r\u001b[K     |██████████████████████▌         | 358 kB 7.5 MB/s eta 0:00:01\r\u001b[K     |███████████████████████▏        | 368 kB 7.5 MB/s eta 0:00:01\r\u001b[K     |███████████████████████▊        | 378 kB 7.5 MB/s eta 0:00:01\r\u001b[K     |████████████████████████▍       | 389 kB 7.5 MB/s eta 0:00:01\r\u001b[K     |█████████████████████████       | 399 kB 7.5 MB/s eta 0:00:01\r\u001b[K     |█████████████████████████▊      | 409 kB 7.5 MB/s eta 0:00:01\r\u001b[K     |██████████████████████████▍     | 419 kB 7.5 MB/s eta 0:00:01\r\u001b[K     |███████████████████████████     | 430 kB 7.5 MB/s eta 0:00:01\r\u001b[K     |███████████████████████████▋    | 440 kB 7.5 MB/s eta 0:00:01\r\u001b[K     |████████████████████████████▎   | 450 kB 7.5 MB/s eta 0:00:01\r\u001b[K     |█████████████████████████████   | 460 kB 7.5 MB/s eta 0:00:01\r\u001b[K     |█████████████████████████████▋  | 471 kB 7.5 MB/s eta 0:00:01\r\u001b[K     |██████████████████████████████▏ | 481 kB 7.5 MB/s eta 0:00:01\r\u001b[K     |██████████████████████████████▉ | 491 kB 7.5 MB/s eta 0:00:01\r\u001b[K     |███████████████████████████████▌| 501 kB 7.5 MB/s eta 0:00:01\r\u001b[K     |████████████████████████████████| 509 kB 7.5 MB/s \n",
            "\u001b[?25h"
          ]
        }
      ],
      "source": [
        "! pip -q install timm"
      ]
    },
    {
      "cell_type": "code",
      "execution_count": 4,
      "metadata": {
        "colab": {
          "base_uri": "https://localhost:8080/"
        },
        "id": "FuiiYteEDIhV",
        "outputId": "cab9c038-ee7f-446d-c329-465c7810551b"
      },
      "outputs": [
        {
          "output_type": "stream",
          "name": "stdout",
          "text": [
            "Mounted at /content/drive\n"
          ]
        }
      ],
      "source": [
        "from google.colab import drive\n",
        "drive.mount('/content/drive')"
      ]
    },
    {
      "cell_type": "code",
      "execution_count": 5,
      "metadata": {
        "id": "n4W-1lPcDWOd"
      },
      "outputs": [],
      "source": [
        "import warnings\n",
        "warnings.simplefilter('ignore')\n",
        "\n",
        "import os\n",
        "import gc\n",
        "gc.enable()\n",
        "import sys\n",
        "import glob\n",
        "import math\n",
        "import time\n",
        "import random\n",
        "\n",
        "import numpy as np\n",
        "import pandas as pd\n",
        "from PIL import Image\n",
        "import matplotlib.pyplot as plt\n",
        "%matplotlib inline\n",
        "\n",
        "import torch\n",
        "import torch.nn as nn\n",
        "import torch.nn.functional as F\n",
        "import torch.optim as optim\n",
        "import torchvision\n",
        "from torchvision import datasets, models, transforms\n",
        "from sklearn.model_selection import GroupKFold, StratifiedKFold\n",
        "from sklearn.metrics import mean_squared_error\n",
        "\n",
        "from datetime import datetime\n",
        "from tqdm.auto import tqdm as tqdmp\n",
        "from tqdm.autonotebook import tqdm as tqdm\n",
        "tqdmp.pandas()\n",
        "\n",
        "# Augmentation\n",
        "#import albumentations as A\n",
        "#from albumentations.pytorch import ToTensorV2\n",
        "\n",
        "# Model\n",
        "import timm\n",
        "# import lightly\n",
        "\n",
        "# TTA\n",
        "# import ttach as tta"
      ]
    },
    {
      "cell_type": "code",
      "execution_count": 6,
      "metadata": {
        "id": "HebG6HxPDkic"
      },
      "outputs": [],
      "source": [
        "class CFG:\n",
        "  def __init__(self):\n",
        "\n",
        "      self.wandb = False\n",
        "      self.debug = False\n",
        "      self.early_stop_flg = True\n",
        "      self.early_stop_round = 4\n",
        "      self.exp_name = '058_exp'\n",
        "      self.seed = 55\n",
        "      self.n_fold = 4\n",
        "      self.num_workers = 1\n",
        "      self.model_name = 'vit_base'\n",
        "      self.mode = 'Classification'\n",
        "      self.padding = False\n",
        "      self.multitask = False\n",
        "      self.SSL = False\n",
        "      self.size = 384\n",
        "      self.fold = []\n",
        "\n",
        "      self.epochs = 15\n",
        "      self.batch_size = 4\n",
        "      self.lr = 1e-4\n",
        "      self.weight_decay = 1e-5\n",
        "      self.scheduler = 'scheduler:CosineAneelingLR'\n",
        "      self.eta_min = 0\n",
        "      self.T_max = self.epochs\n",
        "      self.MIXUP = False\n",
        "      self.TTA = False\n",
        "      self.alpha = 1.0\n",
        "      self.device = torch.device('cuda' if torch.cuda.is_available() else 'cpu')\n",
        "      self.n_tta = 10\n",
        "      self.accumulation_steps = 8\n",
        "      self.N_MSD = 10\n",
        "      self.MIXOUT = 0.5\n",
        "\n",
        "CONFIG = CFG()"
      ]
    },
    {
      "cell_type": "code",
      "execution_count": 7,
      "metadata": {
        "id": "F28dq-ENDklB"
      },
      "outputs": [],
      "source": [
        "def seed_everything(seed:int==42):\n",
        "    random.seed(seed)\n",
        "    os.environ['PYTHONHASHSEED'] = str(seed)\n",
        "    np.random.seed(seed)\n",
        "    \n",
        "    torch.manual_seed(seed)\n",
        "    torch.cuda.manual_seed_all(seed)\n",
        "    torch.backends.cudnn.deterministic = True\n",
        "\n",
        "seed_everything(CONFIG.seed)"
      ]
    },
    {
      "cell_type": "code",
      "source": [
        "INPUT_DIR = \"/content/drive/MyDrive/nihonga/data/\"\n",
        "\n",
        "EXP_NAME = f'{CONFIG.exp_name}'\n",
        "OUTPUT_DIR = f'/content/drive/MyDrive/nihonga/interim/{EXP_NAME}/'\n",
        "MODEL_DIR = f'/content/drive/MyDrive/nihonga/model/{EXP_NAME}/'\n",
        "OOF_DIR = f'/content/drive/MyDrive/nihonga/oof/{EXP_NAME}/'\n",
        "SUB_DIR = f'/content/drive/MyDrive/nihonga/sub/{EXP_NAME}/'\n",
        "\n",
        "os.makedirs(OUTPUT_DIR, exist_ok=True)\n",
        "os.makedirs(MODEL_DIR, exist_ok=True)\n",
        "os.makedirs(OOF_DIR, exist_ok=True)\n",
        "os.makedirs(SUB_DIR, exist_ok=True)\n",
        "\n",
        "print(f'INPUT_DIR: {INPUT_DIR}')\n",
        "print(f'OUTPUT_DIR: {OUTPUT_DIR}')\n",
        "print(f'MODEL_DIR: {MODEL_DIR}')\n",
        "print(f'OOF_DIR: {OOF_DIR}')\n",
        "print(f'SUB_DIR: {SUB_DIR}')"
      ],
      "metadata": {
        "id": "1BRmIiFq1so2"
      },
      "execution_count": null,
      "outputs": []
    },
    {
      "cell_type": "code",
      "execution_count": 9,
      "metadata": {
        "id": "dLfvvI2qDkqv"
      },
      "outputs": [],
      "source": [
        "train_img = np.load(os.path.join(INPUT_DIR,\n",
        "                                'train_data.npz'))\n",
        "test_img = np.load(os.path.join(INPUT_DIR,\n",
        "                                'test_data.npz'))\n",
        "sub_df = pd.read_csv(os.path.join(INPUT_DIR,\n",
        "                                'submission.csv'))"
      ]
    },
    {
      "cell_type": "code",
      "execution_count": null,
      "metadata": {
        "id": "9tsL3lj5DDgx"
      },
      "outputs": [],
      "source": [
        "!mkdir -p /content/drive/MyDrive/nihonga/data/train/0 \n",
        "for i in tqdm(range(len(train_img['arr_0']))):\n",
        "\n",
        "    img = Image.fromarray(train_img['arr_0'][i])\n",
        "    img.save(f\"/content/drive/MyDrive/nihonga/data/train/0/{i:04d}.png\")\n"
      ]
    },
    {
      "cell_type": "code",
      "source": [
        "! cd /content/dino/ && python -m torch.distributed.launch --nproc_per_node=1 main_dino_058_exp.py \\\n",
        "--arch 'vit_base' \\\n",
        "--data_path='/content/drive/MyDrive/nihonga/data' \\\n",
        "--output_dir='/content/drive/MyDrive/nihonga/model/058_exp' \\\n",
        "--epochs=500 \\\n",
        "--saveckp_freq=100 \\\n",
        "--batch_size_per_gpu=32"
      ],
      "metadata": {
        "id": "r0EsfbOBxIYr",
        "colab": {
          "base_uri": "https://localhost:8080/"
        },
        "outputId": "60faf719-932d-4f5c-ddf0-2481f672cf85"
      },
      "execution_count": 11,
      "outputs": [
        {
          "output_type": "stream",
          "name": "stdout",
          "text": [
            "/usr/local/lib/python3.7/dist-packages/torch/distributed/launch.py:186: FutureWarning: The module torch.distributed.launch is deprecated\n",
            "and will be removed in future. Use torchrun.\n",
            "Note that --use_env is set by default in torchrun.\n",
            "If your script expects `--local_rank` argument to be set, please\n",
            "change it to read from `os.environ['LOCAL_RANK']` instead. See \n",
            "https://pytorch.org/docs/stable/distributed.html#launch-utility for \n",
            "further instructions\n",
            "\n",
            "  FutureWarning,\n",
            "/usr/bin/python3: can't open file 'main_dino.py': [Errno 2] No such file or directory\n",
            "ERROR:torch.distributed.elastic.multiprocessing.api:failed (exitcode: 2) local_rank: 0 (pid: 8815) of binary: /usr/bin/python3\n",
            "Traceback (most recent call last):\n",
            "  File \"/usr/lib/python3.7/runpy.py\", line 193, in _run_module_as_main\n",
            "    \"__main__\", mod_spec)\n",
            "  File \"/usr/lib/python3.7/runpy.py\", line 85, in _run_code\n",
            "    exec(code, run_globals)\n",
            "  File \"/usr/local/lib/python3.7/dist-packages/torch/distributed/launch.py\", line 193, in <module>\n",
            "    main()\n",
            "  File \"/usr/local/lib/python3.7/dist-packages/torch/distributed/launch.py\", line 189, in main\n",
            "    launch(args)\n",
            "  File \"/usr/local/lib/python3.7/dist-packages/torch/distributed/launch.py\", line 174, in launch\n",
            "    run(args)\n",
            "  File \"/usr/local/lib/python3.7/dist-packages/torch/distributed/run.py\", line 755, in run\n",
            "    )(*cmd_args)\n",
            "  File \"/usr/local/lib/python3.7/dist-packages/torch/distributed/launcher/api.py\", line 131, in __call__\n",
            "    return launch_agent(self._config, self._entrypoint, list(args))\n",
            "  File \"/usr/local/lib/python3.7/dist-packages/torch/distributed/launcher/api.py\", line 247, in launch_agent\n",
            "    failures=result.failures,\n",
            "torch.distributed.elastic.multiprocessing.errors.ChildFailedError: \n",
            "============================================================\n",
            "main_dino.py FAILED\n",
            "------------------------------------------------------------\n",
            "Failures:\n",
            "  <NO_OTHER_FAILURES>\n",
            "------------------------------------------------------------\n",
            "Root Cause (first observed failure):\n",
            "[0]:\n",
            "  time      : 2022-08-08_22:14:24\n",
            "  host      : 057cfd84a60b\n",
            "  rank      : 0 (local_rank: 0)\n",
            "  exitcode  : 2 (pid: 8815)\n",
            "  error_file: <N/A>\n",
            "  traceback : To enable traceback see: https://pytorch.org/docs/stable/elastic/errors.html\n",
            "============================================================\n"
          ]
        }
      ]
    }
  ],
  "metadata": {
    "accelerator": "GPU",
    "colab": {
      "collapsed_sections": [],
      "machine_shape": "hm",
      "name": "nihonga_058_exp.ipynb のコピー",
      "provenance": []
    },
    "gpuClass": "standard",
    "kernelspec": {
      "display_name": "Python 3",
      "name": "python3"
    },
    "language_info": {
      "name": "python"
    }
  },
  "nbformat": 4,
  "nbformat_minor": 0
}