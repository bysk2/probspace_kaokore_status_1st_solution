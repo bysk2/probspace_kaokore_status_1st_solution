{
  "cells": [
    {
      "cell_type": "markdown",
      "metadata": {
        "id": "hUI1fRqVRC6B"
      },
      "source": [
        "# Settings"
      ]
    },
    {
      "cell_type": "code",
      "execution_count": null,
      "metadata": {
        "colab": {
          "base_uri": "https://localhost:8080/"
        },
        "id": "Kj_toaaJQg9A",
        "outputId": "a1d472a5-43fd-4c7e-b3a6-f59d4a4a3ea8"
      },
      "outputs": [
        {
          "output_type": "stream",
          "name": "stdout",
          "text": [
            "Tue Jul 19 13:38:29 2022       \n",
            "+-----------------------------------------------------------------------------+\n",
            "| NVIDIA-SMI 460.32.03    Driver Version: 460.32.03    CUDA Version: 11.2     |\n",
            "|-------------------------------+----------------------+----------------------+\n",
            "| GPU  Name        Persistence-M| Bus-Id        Disp.A | Volatile Uncorr. ECC |\n",
            "| Fan  Temp  Perf  Pwr:Usage/Cap|         Memory-Usage | GPU-Util  Compute M. |\n",
            "|                               |                      |               MIG M. |\n",
            "|===============================+======================+======================|\n",
            "|   0  Tesla P100-PCIE...  Off  | 00000000:00:04.0 Off |                    0 |\n",
            "| N/A   40C    P0    30W / 250W |      0MiB / 16280MiB |      0%      Default |\n",
            "|                               |                      |                  N/A |\n",
            "+-------------------------------+----------------------+----------------------+\n",
            "                                                                               \n",
            "+-----------------------------------------------------------------------------+\n",
            "| Processes:                                                                  |\n",
            "|  GPU   GI   CI        PID   Type   Process name                  GPU Memory |\n",
            "|        ID   ID                                                   Usage      |\n",
            "|=============================================================================|\n",
            "|  No running processes found                                                 |\n",
            "+-----------------------------------------------------------------------------+\n"
          ]
        }
      ],
      "source": [
        "!nvidia-smi"
      ]
    },
    {
      "cell_type": "markdown",
      "metadata": {
        "id": "SHLuMxbyRFN0"
      },
      "source": [
        "# Google Drive Mount"
      ]
    },
    {
      "cell_type": "code",
      "execution_count": null,
      "metadata": {
        "colab": {
          "base_uri": "https://localhost:8080/"
        },
        "id": "_NqPaz7tRE9F",
        "outputId": "1bf1c666-63ce-4081-978d-5e1239621f71"
      },
      "outputs": [
        {
          "output_type": "stream",
          "name": "stdout",
          "text": [
            "Mounted at /content/drive\n"
          ]
        }
      ],
      "source": [
        "from google.colab import drive\n",
        "drive.mount('/content/drive')"
      ]
    },
    {
      "cell_type": "markdown",
      "metadata": {
        "id": "poIg-nmZRSWK"
      },
      "source": [
        "# 必要なライブラリのインストール"
      ]
    },
    {
      "cell_type": "code",
      "execution_count": null,
      "metadata": {
        "colab": {
          "base_uri": "https://localhost:8080/"
        },
        "id": "_yx8YP9N0VjV",
        "outputId": "7267e3e9-f186-4927-f130-a55cb1e5da95"
      },
      "outputs": [
        {
          "output_type": "stream",
          "name": "stdout",
          "text": [
            "\n",
            "Usage:   \n",
            "  pip3 download [options] <requirement specifier> [package-index-options] ...\n",
            "  pip3 download [options] -r <requirements file> [package-index-options] ...\n",
            "  pip3 download [options] <vcs project url> ...\n",
            "  pip3 download [options] <local project path> ...\n",
            "  pip3 download [options] <archive url/path> ...\n",
            "\n",
            "no such option: -U\n"
          ]
        }
      ],
      "source": [
        "!pip download timm -Uq"
      ]
    },
    {
      "cell_type": "code",
      "execution_count": null,
      "metadata": {
        "colab": {
          "base_uri": "https://localhost:8080/"
        },
        "id": "9I8H57b2RV_e",
        "outputId": "78c6d549-a75e-46e9-a309-a48e0806d544"
      },
      "outputs": [
        {
          "output_type": "stream",
          "name": "stdout",
          "text": [
            "Found existing installation: albumentations 0.1.12\n",
            "Uninstalling albumentations-0.1.12:\n",
            "  Successfully uninstalled albumentations-0.1.12\n",
            "\u001b[K     |████████████████████████████████| 116 kB 4.2 MB/s \n",
            "\u001b[K     |████████████████████████████████| 48.3 MB 1.3 MB/s \n",
            "\u001b[K     |████████████████████████████████| 512 kB 4.1 MB/s \n",
            "\u001b[?25h"
          ]
        }
      ],
      "source": [
        "!pip uninstall albumentations -y\n",
        "!pip install albumentations -Uq\n",
        "!pip install timm -Uq"
      ]
    },
    {
      "cell_type": "code",
      "execution_count": null,
      "metadata": {
        "colab": {
          "base_uri": "https://localhost:8080/"
        },
        "id": "8qSCZvQnwZp4",
        "outputId": "15a1ff56-3d86-43e3-c649-46148c197d3f"
      },
      "outputs": [
        {
          "output_type": "stream",
          "name": "stdout",
          "text": [
            "Looking in indexes: https://pypi.org/simple, https://us-python.pkg.dev/colab-wheels/public/simple/\n",
            "Collecting opencv-python-headless==4.1.2.30\n",
            "  Downloading opencv_python_headless-4.1.2.30-cp37-cp37m-manylinux1_x86_64.whl (21.8 MB)\n",
            "\u001b[K     |████████████████████████████████| 21.8 MB 1.3 MB/s \n",
            "\u001b[?25hRequirement already satisfied: numpy>=1.14.5 in /usr/local/lib/python3.7/dist-packages (from opencv-python-headless==4.1.2.30) (1.21.6)\n",
            "Installing collected packages: opencv-python-headless\n",
            "  Attempting uninstall: opencv-python-headless\n",
            "    Found existing installation: opencv-python-headless 4.6.0.66\n",
            "    Uninstalling opencv-python-headless-4.6.0.66:\n",
            "      Successfully uninstalled opencv-python-headless-4.6.0.66\n",
            "Successfully installed opencv-python-headless-4.1.2.30\n"
          ]
        }
      ],
      "source": [
        "!pip install opencv-python-headless==4.1.2.30"
      ]
    },
    {
      "cell_type": "code",
      "execution_count": null,
      "metadata": {
        "colab": {
          "base_uri": "https://localhost:8080/"
        },
        "id": "Res_OZhHPUsn",
        "outputId": "089f2d21-5fab-4a22-862f-40fd51987a1c"
      },
      "outputs": [
        {
          "output_type": "stream",
          "name": "stdout",
          "text": [
            "Cloning into 'dino'...\n",
            "remote: Enumerating objects: 168, done.\u001b[K\n",
            "remote: Total 168 (delta 0), reused 0 (delta 0), pack-reused 168\u001b[K\n",
            "Receiving objects: 100% (168/168), 24.44 MiB | 13.93 MiB/s, done.\n",
            "Resolving deltas: 100% (106/106), done.\n"
          ]
        }
      ],
      "source": [
        "! git clone https://github.com/facebookresearch/dino.git"
      ]
    },
    {
      "cell_type": "code",
      "execution_count": null,
      "metadata": {
        "id": "YvyvzScpnEZL"
      },
      "outputs": [],
      "source": [
        "import os\n",
        "import sys\n",
        "sys.path.append(\"/content/dino\")"
      ]
    },
    {
      "cell_type": "code",
      "execution_count": null,
      "metadata": {
        "id": "3jwhXa5PQ-_4"
      },
      "outputs": [],
      "source": [
        "import warnings\n",
        "warnings.simplefilter('ignore')\n",
        "\n",
        "import os\n",
        "import gc\n",
        "gc.enable()\n",
        "import sys\n",
        "import glob\n",
        "import math\n",
        "import time\n",
        "import random\n",
        "\n",
        "import numpy as np\n",
        "import pandas as pd\n",
        "from PIL import Image\n",
        "import matplotlib.pyplot as plt\n",
        "%matplotlib inline\n",
        "\n",
        "import torch\n",
        "import torch.nn as nn\n",
        "import torch.nn.functional as F\n",
        "import torch.optim as optim\n",
        "import torchvision\n",
        "from torchvision import datasets, models, transforms\n",
        "from sklearn.model_selection import GroupKFold, StratifiedKFold\n",
        "from sklearn.metrics import mean_squared_error\n",
        "\n",
        "from datetime import datetime\n",
        "from tqdm.auto import tqdm as tqdmp\n",
        "from tqdm.autonotebook import tqdm as tqdm\n",
        "tqdmp.pandas()\n",
        "\n",
        "# Augmentation\n",
        "import albumentations as A\n",
        "from albumentations.pytorch import ToTensorV2\n",
        "\n",
        "# Model\n",
        "import timm\n",
        "# import lightly\n",
        "\n",
        "# TTA\n",
        "# import ttach as tta\n",
        "import dino.vision_transformer as vits"
      ]
    },
    {
      "cell_type": "markdown",
      "metadata": {
        "id": "gVpOpLEyRZMu"
      },
      "source": [
        "# Config"
      ]
    },
    {
      "cell_type": "code",
      "execution_count": null,
      "metadata": {
        "id": "II_G2VmoRYEF"
      },
      "outputs": [],
      "source": [
        "class CFG:\n",
        "  def __init__(self):\n",
        "\n",
        "      self.dino_path = '/content/drive/MyDrive/nihonga/model/058_exp/checkpoint.pth'\n",
        "      self.wandb = True\n",
        "      self.debug = False\n",
        "      self.early_stop_flg = True\n",
        "      self.early_stop_round = 4\n",
        "      self.exp_name = '062_exp'\n",
        "      self.seed = 55\n",
        "      self.n_fold = 4\n",
        "      self.num_workers = 1\n",
        "      self.model_name = 'vit_base'\n",
        "      self.mode = 'Classification'\n",
        "      self.padding = False\n",
        "      self.multitask = False\n",
        "      self.SSL = False\n",
        "      self.size = 384\n",
        "      self.fold = [0,1,2,3]\n",
        "\n",
        "      self.epochs = 30\n",
        "      self.batch_size = 8\n",
        "      self.lr = 1e-5\n",
        "      self.weight_decay = 1e-6\n",
        "      self.scheduler = 'scheduler:CosineAneelingLR'\n",
        "      self.eta_min = 0\n",
        "      self.T_max = self.epochs\n",
        "      self.MIXUP = False\n",
        "      self.TTA = False\n",
        "      self.alpha = 1.0\n",
        "      self.device = torch.device('cuda' if torch.cuda.is_available() else 'cpu')\n",
        "      self.n_tta = 10\n",
        "      self.accumulation_steps = 8\n",
        "      self.N_MSD = 10\n",
        "      self.MIXOUT = 0.5\n",
        "\n",
        "CONFIG = CFG()"
      ]
    },
    {
      "cell_type": "markdown",
      "metadata": {
        "id": "X7-kgW0JRfMd"
      },
      "source": [
        "# W&B"
      ]
    },
    {
      "cell_type": "code",
      "execution_count": null,
      "metadata": {
        "id": "m8By_DI-Rgec",
        "colab": {
          "base_uri": "https://localhost:8080/"
        },
        "outputId": "4e7640d9-8b7e-473d-e1e3-2fdcb8879252"
      },
      "outputs": [
        {
          "output_type": "stream",
          "name": "stdout",
          "text": [
            "\u001b[K     |████████████████████████████████| 1.8 MB 4.2 MB/s \n",
            "\u001b[K     |████████████████████████████████| 181 kB 68.2 MB/s \n",
            "\u001b[K     |████████████████████████████████| 147 kB 71.8 MB/s \n",
            "\u001b[K     |████████████████████████████████| 63 kB 1.8 MB/s \n",
            "\u001b[?25h  Building wheel for pathtools (setup.py) ... \u001b[?25l\u001b[?25hdone\n"
          ]
        }
      ],
      "source": [
        "!pip install wandb -Uq"
      ]
    },
    {
      "cell_type": "code",
      "source": [
        "import wandb\n",
        "\n",
        "config_dict = {key: value for key,value in CONFIG.__dict__.items()}\n",
        "\n",
        "if CONFIG.wandb==True:\n",
        "    wandb.init(project='XXX', \n",
        "               entity='XXX',\n",
        "               name = CONFIG.exp_name)\n",
        "    wandb.config.update(config_dict)"
      ],
      "metadata": {
        "id": "k9zJZ1ouv0Q7"
      },
      "execution_count": null,
      "outputs": []
    },
    {
      "cell_type": "code",
      "execution_count": null,
      "metadata": {
        "id": "BYYI9JiZRljE"
      },
      "outputs": [],
      "source": [
        "def seed_everything(seed:int==42):\n",
        "    random.seed(seed)\n",
        "    os.environ['PYTHONHASHSEED'] = str(seed)\n",
        "    np.random.seed(seed)\n",
        "    \n",
        "    torch.manual_seed(seed)\n",
        "    torch.cuda.manual_seed_all(seed)\n",
        "    torch.backends.cudnn.deterministic = True\n",
        "\n",
        "seed_everything(CONFIG.seed)"
      ]
    },
    {
      "cell_type": "markdown",
      "metadata": {
        "id": "UY0A5Ke-R0EW"
      },
      "source": [
        "# Data Load"
      ]
    },
    {
      "cell_type": "code",
      "execution_count": null,
      "metadata": {
        "colab": {
          "base_uri": "https://localhost:8080/"
        },
        "id": "l6nJ0nnxSFvd",
        "outputId": "2701196d-aa88-41f9-af2e-cabbfc3cc7cb"
      },
      "outputs": [
        {
          "output_type": "stream",
          "name": "stdout",
          "text": [
            "INPUT_DIR: /content/drive/MyDrive/nihonga/data/\n",
            "OUTPUT_DIR: /content/drive/MyDrive/nihonga/interim/062_exp/\n",
            "MODEL_DIR: /content/drive/MyDrive/nihonga/model/062_exp/\n",
            "OOF_DIR: /content/drive/MyDrive/nihonga/oof/062_exp/\n",
            "SUB_DIR: /content/drive/MyDrive/nihonga/sub/062_exp/\n"
          ]
        }
      ],
      "source": [
        "INPUT_DIR = \"/content/drive/MyDrive/nihonga/data/\"\n",
        "\n",
        "EXP_NAME = f'{CONFIG.exp_name}'\n",
        "OUTPUT_DIR = f'/content/drive/MyDrive/nihonga/interim/{EXP_NAME}/'\n",
        "MODEL_DIR = f'/content/drive/MyDrive/nihonga/model/{EXP_NAME}/'\n",
        "OOF_DIR = f'/content/drive/MyDrive/nihonga/oof/{EXP_NAME}/'\n",
        "SUB_DIR = f'/content/drive/MyDrive/nihonga/sub/{EXP_NAME}/'\n",
        "\n",
        "os.makedirs(OUTPUT_DIR, exist_ok=True)\n",
        "os.makedirs(MODEL_DIR, exist_ok=True)\n",
        "os.makedirs(OOF_DIR, exist_ok=True)\n",
        "os.makedirs(SUB_DIR, exist_ok=True)\n",
        "\n",
        "print(f'INPUT_DIR: {INPUT_DIR}')\n",
        "print(f'OUTPUT_DIR: {OUTPUT_DIR}')\n",
        "print(f'MODEL_DIR: {MODEL_DIR}')\n",
        "print(f'OOF_DIR: {OOF_DIR}')\n",
        "print(f'SUB_DIR: {SUB_DIR}')"
      ]
    },
    {
      "cell_type": "code",
      "execution_count": null,
      "metadata": {
        "colab": {
          "base_uri": "https://localhost:8080/"
        },
        "id": "5itxfhm-UIaE",
        "outputId": "9f45684c-00ae-40f1-fb5a-33c416be6b08"
      },
      "outputs": [
        {
          "output_type": "stream",
          "name": "stdout",
          "text": [
            "0 /content/drive/MyDrive/nihonga/data/submission.csv\n",
            "1 /content/drive/MyDrive/nihonga/data/test_data.npz\n",
            "2 /content/drive/MyDrive/nihonga/data/train_data.npz\n",
            "3 /content/drive/MyDrive/nihonga/data/train\n"
          ]
        }
      ],
      "source": [
        "for i, file in enumerate(glob.glob(os.path.join(INPUT_DIR, '*'))):\n",
        "\n",
        "    print(i,file)"
      ]
    },
    {
      "cell_type": "code",
      "execution_count": null,
      "metadata": {
        "id": "UvXf0VKBUSdW"
      },
      "outputs": [],
      "source": [
        "train_img = np.load(os.path.join(INPUT_DIR,\n",
        "                                'train_data.npz'))\n",
        "test_img = np.load(os.path.join(INPUT_DIR,\n",
        "                                'test_data.npz'))\n",
        "sub_df = pd.read_csv(os.path.join(INPUT_DIR,\n",
        "                                'submission.csv'))"
      ]
    },
    {
      "cell_type": "code",
      "execution_count": null,
      "metadata": {
        "colab": {
          "base_uri": "https://localhost:8080/",
          "height": 206
        },
        "id": "s4SsfZnZDLjX",
        "outputId": "91e93e37-0af4-4eb6-b34e-7524e08eb59f"
      },
      "outputs": [
        {
          "output_type": "execute_result",
          "data": {
            "text/plain": [
              "   id  label\n",
              "0   0      1\n",
              "1   1      1\n",
              "2   2      0\n",
              "3   3      3\n",
              "4   4      0"
            ],
            "text/html": [
              "\n",
              "  <div id=\"df-6acb3654-c00e-4d3c-ba3a-ef74daf4dffd\">\n",
              "    <div class=\"colab-df-container\">\n",
              "      <div>\n",
              "<style scoped>\n",
              "    .dataframe tbody tr th:only-of-type {\n",
              "        vertical-align: middle;\n",
              "    }\n",
              "\n",
              "    .dataframe tbody tr th {\n",
              "        vertical-align: top;\n",
              "    }\n",
              "\n",
              "    .dataframe thead th {\n",
              "        text-align: right;\n",
              "    }\n",
              "</style>\n",
              "<table border=\"1\" class=\"dataframe\">\n",
              "  <thead>\n",
              "    <tr style=\"text-align: right;\">\n",
              "      <th></th>\n",
              "      <th>id</th>\n",
              "      <th>label</th>\n",
              "    </tr>\n",
              "  </thead>\n",
              "  <tbody>\n",
              "    <tr>\n",
              "      <th>0</th>\n",
              "      <td>0</td>\n",
              "      <td>1</td>\n",
              "    </tr>\n",
              "    <tr>\n",
              "      <th>1</th>\n",
              "      <td>1</td>\n",
              "      <td>1</td>\n",
              "    </tr>\n",
              "    <tr>\n",
              "      <th>2</th>\n",
              "      <td>2</td>\n",
              "      <td>0</td>\n",
              "    </tr>\n",
              "    <tr>\n",
              "      <th>3</th>\n",
              "      <td>3</td>\n",
              "      <td>3</td>\n",
              "    </tr>\n",
              "    <tr>\n",
              "      <th>4</th>\n",
              "      <td>4</td>\n",
              "      <td>0</td>\n",
              "    </tr>\n",
              "  </tbody>\n",
              "</table>\n",
              "</div>\n",
              "      <button class=\"colab-df-convert\" onclick=\"convertToInteractive('df-6acb3654-c00e-4d3c-ba3a-ef74daf4dffd')\"\n",
              "              title=\"Convert this dataframe to an interactive table.\"\n",
              "              style=\"display:none;\">\n",
              "        \n",
              "  <svg xmlns=\"http://www.w3.org/2000/svg\" height=\"24px\"viewBox=\"0 0 24 24\"\n",
              "       width=\"24px\">\n",
              "    <path d=\"M0 0h24v24H0V0z\" fill=\"none\"/>\n",
              "    <path d=\"M18.56 5.44l.94 2.06.94-2.06 2.06-.94-2.06-.94-.94-2.06-.94 2.06-2.06.94zm-11 1L8.5 8.5l.94-2.06 2.06-.94-2.06-.94L8.5 2.5l-.94 2.06-2.06.94zm10 10l.94 2.06.94-2.06 2.06-.94-2.06-.94-.94-2.06-.94 2.06-2.06.94z\"/><path d=\"M17.41 7.96l-1.37-1.37c-.4-.4-.92-.59-1.43-.59-.52 0-1.04.2-1.43.59L10.3 9.45l-7.72 7.72c-.78.78-.78 2.05 0 2.83L4 21.41c.39.39.9.59 1.41.59.51 0 1.02-.2 1.41-.59l7.78-7.78 2.81-2.81c.8-.78.8-2.07 0-2.86zM5.41 20L4 18.59l7.72-7.72 1.47 1.35L5.41 20z\"/>\n",
              "  </svg>\n",
              "      </button>\n",
              "      \n",
              "  <style>\n",
              "    .colab-df-container {\n",
              "      display:flex;\n",
              "      flex-wrap:wrap;\n",
              "      gap: 12px;\n",
              "    }\n",
              "\n",
              "    .colab-df-convert {\n",
              "      background-color: #E8F0FE;\n",
              "      border: none;\n",
              "      border-radius: 50%;\n",
              "      cursor: pointer;\n",
              "      display: none;\n",
              "      fill: #1967D2;\n",
              "      height: 32px;\n",
              "      padding: 0 0 0 0;\n",
              "      width: 32px;\n",
              "    }\n",
              "\n",
              "    .colab-df-convert:hover {\n",
              "      background-color: #E2EBFA;\n",
              "      box-shadow: 0px 1px 2px rgba(60, 64, 67, 0.3), 0px 1px 3px 1px rgba(60, 64, 67, 0.15);\n",
              "      fill: #174EA6;\n",
              "    }\n",
              "\n",
              "    [theme=dark] .colab-df-convert {\n",
              "      background-color: #3B4455;\n",
              "      fill: #D2E3FC;\n",
              "    }\n",
              "\n",
              "    [theme=dark] .colab-df-convert:hover {\n",
              "      background-color: #434B5C;\n",
              "      box-shadow: 0px 1px 3px 1px rgba(0, 0, 0, 0.15);\n",
              "      filter: drop-shadow(0px 1px 2px rgba(0, 0, 0, 0.3));\n",
              "      fill: #FFFFFF;\n",
              "    }\n",
              "  </style>\n",
              "\n",
              "      <script>\n",
              "        const buttonEl =\n",
              "          document.querySelector('#df-6acb3654-c00e-4d3c-ba3a-ef74daf4dffd button.colab-df-convert');\n",
              "        buttonEl.style.display =\n",
              "          google.colab.kernel.accessAllowed ? 'block' : 'none';\n",
              "\n",
              "        async function convertToInteractive(key) {\n",
              "          const element = document.querySelector('#df-6acb3654-c00e-4d3c-ba3a-ef74daf4dffd');\n",
              "          const dataTable =\n",
              "            await google.colab.kernel.invokeFunction('convertToInteractive',\n",
              "                                                     [key], {});\n",
              "          if (!dataTable) return;\n",
              "\n",
              "          const docLinkHtml = 'Like what you see? Visit the ' +\n",
              "            '<a target=\"_blank\" href=https://colab.research.google.com/notebooks/data_table.ipynb>data table notebook</a>'\n",
              "            + ' to learn more about interactive tables.';\n",
              "          element.innerHTML = '';\n",
              "          dataTable['output_type'] = 'display_data';\n",
              "          await google.colab.output.renderOutput(dataTable, element);\n",
              "          const docLink = document.createElement('div');\n",
              "          docLink.innerHTML = docLinkHtml;\n",
              "          element.appendChild(docLink);\n",
              "        }\n",
              "      </script>\n",
              "    </div>\n",
              "  </div>\n",
              "  "
            ]
          },
          "metadata": {},
          "execution_count": 17
        }
      ],
      "source": [
        "train_df = pd.DataFrame(range(6446),columns=['id'])\n",
        "train_df['label'] = train_img['arr_1']\n",
        "train_df.head()"
      ]
    },
    {
      "cell_type": "code",
      "execution_count": null,
      "metadata": {
        "colab": {
          "base_uri": "https://localhost:8080/",
          "height": 206
        },
        "id": "K8QKZTb_NNsO",
        "outputId": "d7a85a09-9b90-41ec-cd08-b619171185f2"
      },
      "outputs": [
        {
          "output_type": "execute_result",
          "data": {
            "text/plain": [
              "   id\n",
              "0   0\n",
              "1   1\n",
              "2   2\n",
              "3   3\n",
              "4   4"
            ],
            "text/html": [
              "\n",
              "  <div id=\"df-89f123be-64c5-4293-9278-efc04990dcc8\">\n",
              "    <div class=\"colab-df-container\">\n",
              "      <div>\n",
              "<style scoped>\n",
              "    .dataframe tbody tr th:only-of-type {\n",
              "        vertical-align: middle;\n",
              "    }\n",
              "\n",
              "    .dataframe tbody tr th {\n",
              "        vertical-align: top;\n",
              "    }\n",
              "\n",
              "    .dataframe thead th {\n",
              "        text-align: right;\n",
              "    }\n",
              "</style>\n",
              "<table border=\"1\" class=\"dataframe\">\n",
              "  <thead>\n",
              "    <tr style=\"text-align: right;\">\n",
              "      <th></th>\n",
              "      <th>id</th>\n",
              "    </tr>\n",
              "  </thead>\n",
              "  <tbody>\n",
              "    <tr>\n",
              "      <th>0</th>\n",
              "      <td>0</td>\n",
              "    </tr>\n",
              "    <tr>\n",
              "      <th>1</th>\n",
              "      <td>1</td>\n",
              "    </tr>\n",
              "    <tr>\n",
              "      <th>2</th>\n",
              "      <td>2</td>\n",
              "    </tr>\n",
              "    <tr>\n",
              "      <th>3</th>\n",
              "      <td>3</td>\n",
              "    </tr>\n",
              "    <tr>\n",
              "      <th>4</th>\n",
              "      <td>4</td>\n",
              "    </tr>\n",
              "  </tbody>\n",
              "</table>\n",
              "</div>\n",
              "      <button class=\"colab-df-convert\" onclick=\"convertToInteractive('df-89f123be-64c5-4293-9278-efc04990dcc8')\"\n",
              "              title=\"Convert this dataframe to an interactive table.\"\n",
              "              style=\"display:none;\">\n",
              "        \n",
              "  <svg xmlns=\"http://www.w3.org/2000/svg\" height=\"24px\"viewBox=\"0 0 24 24\"\n",
              "       width=\"24px\">\n",
              "    <path d=\"M0 0h24v24H0V0z\" fill=\"none\"/>\n",
              "    <path d=\"M18.56 5.44l.94 2.06.94-2.06 2.06-.94-2.06-.94-.94-2.06-.94 2.06-2.06.94zm-11 1L8.5 8.5l.94-2.06 2.06-.94-2.06-.94L8.5 2.5l-.94 2.06-2.06.94zm10 10l.94 2.06.94-2.06 2.06-.94-2.06-.94-.94-2.06-.94 2.06-2.06.94z\"/><path d=\"M17.41 7.96l-1.37-1.37c-.4-.4-.92-.59-1.43-.59-.52 0-1.04.2-1.43.59L10.3 9.45l-7.72 7.72c-.78.78-.78 2.05 0 2.83L4 21.41c.39.39.9.59 1.41.59.51 0 1.02-.2 1.41-.59l7.78-7.78 2.81-2.81c.8-.78.8-2.07 0-2.86zM5.41 20L4 18.59l7.72-7.72 1.47 1.35L5.41 20z\"/>\n",
              "  </svg>\n",
              "      </button>\n",
              "      \n",
              "  <style>\n",
              "    .colab-df-container {\n",
              "      display:flex;\n",
              "      flex-wrap:wrap;\n",
              "      gap: 12px;\n",
              "    }\n",
              "\n",
              "    .colab-df-convert {\n",
              "      background-color: #E8F0FE;\n",
              "      border: none;\n",
              "      border-radius: 50%;\n",
              "      cursor: pointer;\n",
              "      display: none;\n",
              "      fill: #1967D2;\n",
              "      height: 32px;\n",
              "      padding: 0 0 0 0;\n",
              "      width: 32px;\n",
              "    }\n",
              "\n",
              "    .colab-df-convert:hover {\n",
              "      background-color: #E2EBFA;\n",
              "      box-shadow: 0px 1px 2px rgba(60, 64, 67, 0.3), 0px 1px 3px 1px rgba(60, 64, 67, 0.15);\n",
              "      fill: #174EA6;\n",
              "    }\n",
              "\n",
              "    [theme=dark] .colab-df-convert {\n",
              "      background-color: #3B4455;\n",
              "      fill: #D2E3FC;\n",
              "    }\n",
              "\n",
              "    [theme=dark] .colab-df-convert:hover {\n",
              "      background-color: #434B5C;\n",
              "      box-shadow: 0px 1px 3px 1px rgba(0, 0, 0, 0.15);\n",
              "      filter: drop-shadow(0px 1px 2px rgba(0, 0, 0, 0.3));\n",
              "      fill: #FFFFFF;\n",
              "    }\n",
              "  </style>\n",
              "\n",
              "      <script>\n",
              "        const buttonEl =\n",
              "          document.querySelector('#df-89f123be-64c5-4293-9278-efc04990dcc8 button.colab-df-convert');\n",
              "        buttonEl.style.display =\n",
              "          google.colab.kernel.accessAllowed ? 'block' : 'none';\n",
              "\n",
              "        async function convertToInteractive(key) {\n",
              "          const element = document.querySelector('#df-89f123be-64c5-4293-9278-efc04990dcc8');\n",
              "          const dataTable =\n",
              "            await google.colab.kernel.invokeFunction('convertToInteractive',\n",
              "                                                     [key], {});\n",
              "          if (!dataTable) return;\n",
              "\n",
              "          const docLinkHtml = 'Like what you see? Visit the ' +\n",
              "            '<a target=\"_blank\" href=https://colab.research.google.com/notebooks/data_table.ipynb>data table notebook</a>'\n",
              "            + ' to learn more about interactive tables.';\n",
              "          element.innerHTML = '';\n",
              "          dataTable['output_type'] = 'display_data';\n",
              "          await google.colab.output.renderOutput(dataTable, element);\n",
              "          const docLink = document.createElement('div');\n",
              "          docLink.innerHTML = docLinkHtml;\n",
              "          element.appendChild(docLink);\n",
              "        }\n",
              "      </script>\n",
              "    </div>\n",
              "  </div>\n",
              "  "
            ]
          },
          "metadata": {},
          "execution_count": 18
        }
      ],
      "source": [
        "test_df = pd.DataFrame(range(test_img['arr_0'].shape[0]),columns=['id'])\n",
        "test_df.head()"
      ]
    },
    {
      "cell_type": "code",
      "execution_count": null,
      "metadata": {
        "id": "ADs0AFM9U4tp"
      },
      "outputs": [],
      "source": [
        "def expand_padding(img_path) -> (np.array, np.array):\n",
        "\n",
        "    img = Image.open(img_path)\n",
        "    width, height = img.size\n",
        "\n",
        "    left = (224 - width) // 2\n",
        "    top = (224 - height) // 2\n",
        "\n",
        "    new_img = Image.new(img.mode , (224,224) , (0,0,0))\n",
        "    new_img.paste(img, (left,top))\n",
        "\n",
        "    return np.array(img) , np.array(new_img)"
      ]
    },
    {
      "cell_type": "code",
      "execution_count": null,
      "metadata": {
        "id": "0Q9gnc-pdYvD"
      },
      "outputs": [],
      "source": [
        "if CONFIG.debug:\n",
        "    train_df = train_df.head(100)\n",
        "    test_df = test_df.head(50)"
      ]
    },
    {
      "cell_type": "code",
      "execution_count": null,
      "metadata": {
        "colab": {
          "base_uri": "https://localhost:8080/",
          "height": 280
        },
        "id": "CQiDGk6MCpm2",
        "outputId": "b9ebec9d-26ec-45c2-dbbf-b4e10e08e4a3"
      },
      "outputs": [
        {
          "output_type": "execute_result",
          "data": {
            "text/plain": [
              "<matplotlib.axes._subplots.AxesSubplot at 0x7f9ef26ea110>"
            ]
          },
          "metadata": {},
          "execution_count": 21
        },
        {
          "output_type": "display_data",
          "data": {
            "text/plain": [
              "<Figure size 432x288 with 1 Axes>"
            ],
            "image/png": "[encoded data removed]"
          },
          "metadata": {
            "needs_background": "light"
          }
        }
      ],
      "source": [
        "train_df['fold'] = -1\n",
        "strat_kfold = StratifiedKFold(n_splits=CONFIG.n_fold, random_state=CONFIG.seed, shuffle=True)\n",
        "for i, (_, train_index) in enumerate(strat_kfold.split(train_df.index, train_df['label'])):\n",
        "    train_df.iloc[train_index, -1] = i\n",
        "    \n",
        "train_df['fold'] = train_df['fold'].astype('int')\n",
        "\n",
        "train_df.fold.value_counts().plot.bar()"
      ]
    },
    {
      "cell_type": "code",
      "execution_count": null,
      "metadata": {
        "colab": {
          "base_uri": "https://localhost:8080/"
        },
        "id": "UOw9K1AZC74D",
        "outputId": "d3dd7b2f-7e94-46f6-a55f-efc6d577d2d4"
      },
      "outputs": [
        {
          "output_type": "execute_result",
          "data": {
            "text/plain": [
              "0    754\n",
              "1    550\n",
              "2    155\n",
              "3    153\n",
              "Name: label, dtype: int64"
            ]
          },
          "metadata": {},
          "execution_count": 22
        }
      ],
      "source": [
        "train_df[train_df['fold']==1]['label'].value_counts()"
      ]
    },
    {
      "cell_type": "code",
      "execution_count": null,
      "metadata": {
        "id": "TGsrI4BCWone"
      },
      "outputs": [],
      "source": [
        "class nihongaDataset:\n",
        "\n",
        "    def __init__(self, img, label = None, is_train = True , is_padding=True, transform=None):\n",
        "\n",
        "        self.img = img\n",
        "        self.is_train = is_train\n",
        "        self.is_padding = is_padding\n",
        "        self.transform = transform\n",
        "        self.label = label\n",
        "#        if is_train:\n",
        "#          self.train_img = train_img\n",
        "#        else:\n",
        "#          self.train_img = test_img\n",
        "\n",
        "    def __len__(self):\n",
        "        return len(self.img)\n",
        "\n",
        "    def __getitem__(self, item):\n",
        "\n",
        "#        _img = self.train_img['arr_0'][item]\n",
        "        _img = self.img[item]\n",
        "        ##Zero Paddingするかどうか\n",
        "        if self.is_padding:\n",
        "          _ , _img = expand_padding(_img)\n",
        "\n",
        "        ## Augmentationするかどうか\n",
        "        if self.transform is not None:\n",
        "            transformed = self.transform(image = _img)\n",
        "            image = transformed['image']\n",
        "\n",
        "        else:\n",
        "            image = _img\n",
        "        \n",
        "        ## Train / Test\n",
        "        if self.is_train:\n",
        "#            target = self.train_img['arr_1'][item]\n",
        "            target = self.label[item]\n",
        "\n",
        "            return {\n",
        "                'image' : torch.tensor(image, dtype=torch.float),\n",
        "                'label' : torch.tensor(target, dtype=torch.float),\n",
        "            }\n",
        "\n",
        "        else:\n",
        "          return {\n",
        "                'image' : torch.tensor(image, dtype=torch.float),\n",
        "          }"
      ]
    },
    {
      "cell_type": "code",
      "execution_count": null,
      "metadata": {
        "id": "JMDK7R-uXgud"
      },
      "outputs": [],
      "source": [
        "from albumentations.augmentations.transforms import VerticalFlip\n",
        "##Image Netの平均と分散\n",
        "MEAN = [0.485, 0.456, 0.406]\n",
        "STD = [0.229, 0.224, 0.225]\n",
        "\n",
        "## Blurはどこまで効果あるのかな\n",
        "## ShiftScaleRotateは多分外した方がいい\n",
        "## RandomBrightnessContrastはパラメータ指定してあげた方がいいかも\n",
        "## Augmentationした画像は一回目視で見ておいた方がいい\n",
        "\n",
        "def get_transforms(*, data):\n",
        "\n",
        "    if data == 'train':\n",
        "        return A.Compose([\n",
        "            A.Resize(CONFIG.size, CONFIG.size, p=1),\n",
        "            A.ShiftScaleRotate(shift_limit=0.1, scale_limit= 0.1, rotate_limit=15),\n",
        "            A.HorizontalFlip(p=0.5),\n",
        "            A.Blur(blur_limit=(3,7), p = 0.3),\n",
        "            A.Rotate(always_apply=False, p=0.3, limit=(-90, 90), interpolation=0, border_mode=0, value=(0, 0, 0), mask_value=None),\n",
        "            A.HueSaturationValue(always_apply=False, p=0.3, hue_shift_limit=(-20, 20), sat_shift_limit=(-30, 30), val_shift_limit=(-20, 20)),\n",
        "            A.Normalize(mean=MEAN, std=STD, max_pixel_value=255.0),\n",
        "            ToTensorV2(),\n",
        "        ])\n",
        "\n",
        "    elif data == 'valid':\n",
        "        return A.Compose([\n",
        "            A.Resize(CONFIG.size, CONFIG.size, p=1),\n",
        "            A.Normalize(mean=MEAN, std=STD),\n",
        "            ToTensorV2()\n",
        "        ])\n",
        "\n",
        "    elif data == 'TTA':\n",
        "        \n",
        "        return A.Compose([\n",
        "            A.Resize(CONFIG.size, CONFIG.size, p=1),\n",
        "            #A.ShiftScaleRotate(shift_limit=0.1, scale_limit=0.1, rotate_limit=15),\n",
        "            #A.HorizontalFlip(p=0.5),\n",
        "            #A.VerticalFlip(p=0.5),\n",
        "            #A.Blur(blur_limit=3),\n",
        "            #A.RandomBrightnessContrast(),\n",
        "            #A.HueSaturationValue(always_apply=False, p=1.0, hue_shift_limit=(-20, 20), sat_shift_limit=(-30, 30), val_shift_limit=(-20, 20)),\n",
        "            A.Normalize(mean=MEAN, std=STD, max_pixel_value=255.0),\n",
        "            ToTensorV2(),\n",
        "        ])"
      ]
    },
    {
      "cell_type": "code",
      "execution_count": null,
      "metadata": {
        "id": "r4KKfUemfHAT"
      },
      "outputs": [],
      "source": [
        "## 目視で確認用\n",
        "#train_dataset = nihongaDataset(img=train_df, is_train=True, is_padding=False,transform=get_transforms(data=\"train\"))\n",
        "train_dataset = nihongaDataset(img=train_img['arr_0'],label = train_img['arr_1'],  is_train=True, is_padding=False,transform=get_transforms(data=\"train\"))\n",
        "train_loader = torch.utils.data.DataLoader(\n",
        "            train_dataset,\n",
        "            batch_size=CONFIG.batch_size,\n",
        "            num_workers=CONFIG.num_workers,\n",
        "            pin_memory=True,\n",
        "            shuffle=True\n",
        "            )\n",
        "\n",
        "# 1Batch分だけ、train_loaderを回す\n",
        "for data in train_loader:\n",
        "    break"
      ]
    },
    {
      "cell_type": "code",
      "execution_count": null,
      "metadata": {
        "colab": {
          "base_uri": "https://localhost:8080/",
          "height": 213
        },
        "id": "lPSap8WHfG6o",
        "outputId": "8fffaf2c-b8fc-44fe-f12f-7039c1427693"
      },
      "outputs": [
        {
          "output_type": "stream",
          "name": "stderr",
          "text": [
            "Clipping input data to the valid range for imshow with RGB data ([0..1] for floats or [0..255] for integers).\n",
            "Clipping input data to the valid range for imshow with RGB data ([0..1] for floats or [0..255] for integers).\n"
          ]
        },
        {
          "output_type": "display_data",
          "data": {
            "text/plain": [
              "<Figure size 576x504 with 2 Axes>"
            ],
            "image/png": "[encoded data removed]"
          },
          "metadata": {
            "needs_background": "light"
          }
        }
      ],
      "source": [
        "## Augmentationした結果を可視化\n",
        "\n",
        "img = data['image']\n",
        "target = data['label']\n",
        "img = np.array(img)\n",
        "img = np.transpose(img, (0, 2, 3, 1)) # (Batch, width, height, ch)\n",
        "\n",
        "\n",
        "plt.figure(figsize=(8, 7))\n",
        "for i in range(2):\n",
        "    plt.subplot(3, 3, i+1)\n",
        "    plt.imshow(img[i])\n",
        "    plt.title(f'target = {target[i]:.2f}', fontsize=14)\n",
        "plt.show()"
      ]
    },
    {
      "cell_type": "markdown",
      "metadata": {
        "id": "3s8YE2oYYa9C"
      },
      "source": [
        "# Model"
      ]
    },
    {
      "cell_type": "code",
      "execution_count": null,
      "metadata": {
        "id": "UeDY0HpXQapE"
      },
      "outputs": [],
      "source": [
        "import os\n",
        "import sys\n",
        "from pathlib import Path"
      ]
    },
    {
      "cell_type": "code",
      "execution_count": null,
      "metadata": {
        "id": "VHYUoFlHYYva"
      },
      "outputs": [],
      "source": [
        "class BasicModel(nn.Module):\n",
        "\n",
        "    def __init__(\n",
        "        self, base_name,\n",
        "        pretrained = True, in_channels = 3,\n",
        "    ):\n",
        "\n",
        "        \"\"\"Initialize\"\"\"\n",
        "        self.base_name = base_name\n",
        "        super(BasicModel, self).__init__()\n",
        "\n",
        "        # # prepare backbone\n",
        "        backbone = vits.__dict__['vit_base'](patch_size=16, num_classes = 0)\n",
        "        state_dict = torch.load(CONFIG.dino_path, map_location = 'cpu')\n",
        "        state_dict = state_dict['teacher']\n",
        "\n",
        "        state_dict = {k.replace(\"module.\", \"\"):v for k, v in state_dict.items()}\n",
        "        state_dict = {k.replace(\"backbone.\", \"\"): v for k, v in state_dict.items()}\n",
        "        backbone.load_state_dict(state_dict, strict=False)\n",
        "        \n",
        "        self.base_model =  backbone \n",
        "        print(f\"Use Model: {base_name} | Embedding Vectors: {768}\")\n",
        "        self.fc_dropouts = nn.ModuleList([nn.Dropout(0.5) for _ in range(CONFIG.N_MSD)])\n",
        "        self.head = nn.Linear(768, 4)\n",
        "    def forward(self, x):\n",
        "        \"\"\"Forward\"\"\"\n",
        "        feat = self.base_model(x)\n",
        "        output = sum([self.head(dropout(feat)) for dropout in self.fc_dropouts])/CONFIG.N_MSD\n",
        "\n",
        "        return output\n"
      ]
    },
    {
      "cell_type": "markdown",
      "metadata": {
        "id": "6GfeOF5KYkbG"
      },
      "source": [
        "# Helper Function"
      ]
    },
    {
      "cell_type": "code",
      "execution_count": null,
      "metadata": {
        "id": "8wZeQM5hYjDJ"
      },
      "outputs": [],
      "source": [
        "class AverageMeter(object):\n",
        "    \"\"\"Computes and stores the average and current value\"\"\"\n",
        "\n",
        "    def __init__(self):\n",
        "        self.reset()\n",
        "\n",
        "    def reset(self):\n",
        "        self.val = 0\n",
        "        self.avg = 0\n",
        "        self.sum = 0\n",
        "        self.count = 0\n",
        "\n",
        "    def update(self, val, n=1):\n",
        "        self.val = val\n",
        "        self.sum += val * n\n",
        "        self.count += n\n",
        "        self.avg = self.sum / self.count"
      ]
    },
    {
      "cell_type": "code",
      "execution_count": null,
      "metadata": {
        "id": "pL2LMVzxR0od"
      },
      "outputs": [],
      "source": [
        "class FocalLoss(nn.Module):\n",
        "    def __init__(self, gamma=2):\n",
        "        super(FocalLoss, self).__init__()\n",
        "        self.gamma = gamma\n",
        "\n",
        "    def forward(self, input, target):\n",
        "        target = target.float()\n",
        "\n",
        "        # BCELossWithLogits\n",
        "        max_val = (-input).clamp(min=0)\n",
        "        loss = input - input * target + max_val + \\\n",
        "               ((-max_val).exp() + (-input - max_val).exp()).log()\n",
        "\n",
        "        invprobs = F.logsigmoid(-input * (target * 2.0 - 1.0))\n",
        "        loss = (invprobs * self.gamma).exp() * loss\n",
        "        if len(loss.size()) == 2:\n",
        "            loss = loss.sum(dim=1)\n",
        "        return loss.mean()\n",
        "\n",
        "def make_one_hot(labels, C=2):\n",
        "    one_hot = w(torch.FloatTensor(labels.size(0), C, labels.size(2), labels.size(3)).zero_())\n",
        "    target = one_hot.scatter_(1, labels.data, 1)\n",
        "    \n",
        "    target = w(Variable(target))\n",
        "        \n",
        "    return target\n",
        "\n",
        "class FocalLossMultiLabel(nn.Module):\n",
        "    def __init__(self, gamma=2, weight=None):\n",
        "        super().__init__()\n",
        "        self.gamma = gamma\n",
        "        self.nll = nn.NLLLoss(weight=weight, reduce=False)\n",
        "        \n",
        "    def forward(self, input, target):\n",
        "        loss = self.nll(input, target)\n",
        "        \n",
        "        one_hot = make_one_hot(target.unsqueeze(dim=1), input.size()[1])\n",
        "        inv_probs = 1 - input.exp()\n",
        "        focal_weights = (inv_probs * one_hot).sum(dim=1) ** self.gamma\n",
        "        loss = loss * focal_weights\n",
        "        \n",
        "        return loss.mean()"
      ]
    },
    {
      "cell_type": "code",
      "execution_count": null,
      "metadata": {
        "id": "8YqgWWYE--2s"
      },
      "outputs": [],
      "source": [
        "from torch.utils.data.dataset import Dataset\n",
        "from torch.nn.modules.module import Module\n",
        "class CutMix(Dataset):\n",
        "    def __init__(self, dataset, num_class, num_mix=1, beta=1., prob=1.0):\n",
        "        self.dataset = dataset\n",
        "        self.num_class = num_class\n",
        "        self.num_mix = num_mix\n",
        "        self.beta = beta\n",
        "        self.prob = prob\n",
        "\n",
        "    def __getitem__(self, index):\n",
        "        img, lb = self.dataset[index]['image'], self.dataset[index]['label'].to(torch.long)\n",
        "        lb_onehot = onehot(self.num_class, lb)\n",
        "\n",
        "        for _ in range(self.num_mix):\n",
        "            r = np.random.rand(1)\n",
        "            if self.beta <= 0 or r > self.prob:\n",
        "                continue\n",
        "\n",
        "            # generate mixed sample\n",
        "            lam = np.random.beta(self.beta, self.beta)\n",
        "            rand_index = random.choice(range(len(self)))\n",
        "\n",
        "            img2, lb2 = self.dataset[rand_index]['image'], self.dataset[rand_index]['label'].to(torch.long)\n",
        "            lb2_onehot = onehot(self.num_class, lb2)\n",
        "\n",
        "            bbx1, bby1, bbx2, bby2 = rand_bbox(img.size(), lam)\n",
        "            img[:, bbx1:bbx2, bby1:bby2] = img2[:, bbx1:bbx2, bby1:bby2]\n",
        "            lam = 1 - ((bbx2 - bbx1) * (bby2 - bby1) / (img.size()[-1] * img.size()[-2]))\n",
        "            lb_onehot = lb_onehot * lam + lb2_onehot * (1. - lam)\n",
        "\n",
        "        return img, lb_onehot\n",
        "\n",
        "    def __len__(self):\n",
        "        return len(self.dataset)\n",
        "\n",
        "class CutMixCrossEntropyLoss(Module):\n",
        "    def __init__(self, size_average=True):\n",
        "        super().__init__()\n",
        "        self.size_average = size_average\n",
        "\n",
        "    def forward(self, input, target):\n",
        "        if len(target.size()) == 1:\n",
        "            target = torch.nn.functional.one_hot(target, num_classes=input.size(-1))\n",
        "            target = target.float().cuda()\n",
        "        return cross_entropy(input, target, self.size_average)\n",
        "  \n",
        "def cross_entropy(input, target, size_average=True):\n",
        "    \"\"\" Cross entropy that accepts soft targets\n",
        "    Args:\n",
        "         pred: predictions for neural network\n",
        "         targets: targets, can be soft\n",
        "         size_average: if false, sum is returned instead of mean\n",
        "    Examples::\n",
        "        input = torch.FloatTensor([[1.1, 2.8, 1.3], [1.1, 2.1, 4.8]])\n",
        "        input = torch.autograd.Variable(out, requires_grad=True)\n",
        "        target = torch.FloatTensor([[0.05, 0.9, 0.05], [0.05, 0.05, 0.9]])\n",
        "        target = torch.autograd.Variable(y1)\n",
        "        loss = cross_entropy(input, target)\n",
        "        loss.backward()\n",
        "    \"\"\"\n",
        "    logsoftmax = torch.nn.LogSoftmax(dim=1)\n",
        "    if size_average:\n",
        "        return torch.mean(torch.sum(-target * logsoftmax(input), dim=1))\n",
        "    else:\n",
        "        return torch.sum(torch.sum(-target * logsoftmax(input), dim=1))\n",
        "\n",
        "\n",
        "def onehot(size, target):\n",
        "    vec = torch.zeros(size, dtype=torch.float32)\n",
        "    vec[target] = 1.\n",
        "    return vec\n",
        "\n",
        "\n",
        "def rand_bbox(size, lam):\n",
        "    if len(size) == 4:\n",
        "        W = size[2]\n",
        "        H = size[3]\n",
        "    elif len(size) == 3:\n",
        "        W = size[1]\n",
        "        H = size[2]\n",
        "    else:\n",
        "        raise Exception\n",
        "\n",
        "    cut_rat = np.sqrt(1. - lam)\n",
        "    cut_w = np.int(W * cut_rat)\n",
        "    cut_h = np.int(H * cut_rat)\n",
        "\n",
        "    # uniform\n",
        "    cx = np.random.randint(W)\n",
        "    cy = np.random.randint(H)\n",
        "\n",
        "    bbx1 = np.clip(cx - cut_w // 2, 0, W)\n",
        "    bby1 = np.clip(cy - cut_h // 2, 0, H)\n",
        "    bbx2 = np.clip(cx + cut_w // 2, 0, W)\n",
        "    bby2 = np.clip(cy + cut_h // 2, 0, H)\n",
        "\n",
        "    return bbx1, bby1, bbx2, bby2"
      ]
    },
    {
      "cell_type": "code",
      "execution_count": null,
      "metadata": {
        "colab": {
          "base_uri": "https://localhost:8080/",
          "height": 213
        },
        "id": "kBGOCuiM_DO7",
        "outputId": "011a08b3-a6b3-40f7-8706-018a90359431"
      },
      "outputs": [
        {
          "output_type": "stream",
          "name": "stderr",
          "text": [
            "Clipping input data to the valid range for imshow with RGB data ([0..1] for floats or [0..255] for integers).\n",
            "Clipping input data to the valid range for imshow with RGB data ([0..1] for floats or [0..255] for integers).\n"
          ]
        },
        {
          "output_type": "display_data",
          "data": {
            "text/plain": [
              "<Figure size 576x504 with 2 Axes>"
            ],
            "image/png": "[encoded data removed]"
          },
          "metadata": {
            "needs_background": "light"
          }
        }
      ],
      "source": [
        "## 目視で確認用\n",
        "train_dataset = nihongaDataset(img=train_img['arr_0'],label = train_img['arr_1'],  is_train=True, is_padding=False,transform=get_transforms(data=\"train\"))\n",
        "train_dataset = CutMix(train_dataset, num_class=4, beta=1.0, prob=0.5, num_mix=2)\n",
        "train_loader = torch.utils.data.DataLoader(\n",
        "            train_dataset,\n",
        "            batch_size=CONFIG.batch_size,\n",
        "            num_workers=CONFIG.num_workers,\n",
        "            pin_memory=True,\n",
        "            shuffle=True\n",
        "            )\n",
        "\n",
        "# 1Batch分だけ、train_loaderを回す\n",
        "for i,(data, label) in enumerate(train_loader):\n",
        "    break\n",
        "\n",
        "## Augmentationした結果を可視化\n",
        "\n",
        "img = data\n",
        "target = label\n",
        "#img = np.array(img)\n",
        "img = np.transpose(img, (0, 2, 3, 1)) # (Batch, width, height, ch)\n",
        "\n",
        "\n",
        "plt.figure(figsize=(8, 7))\n",
        "for i in range(2):\n",
        "    plt.subplot(3, 3, i+1)\n",
        "    plt.imshow(img[i])\n",
        "    plt.title(f'target = {np.argmax(target[i]):.2f}', fontsize=14)\n",
        "plt.show()"
      ]
    },
    {
      "cell_type": "code",
      "execution_count": null,
      "metadata": {
        "id": "IYIPEU2KYnbp"
      },
      "outputs": [],
      "source": [
        "def train_func(model, optimizer, scheduler, loss_fn, dataloader, device, epoch):\n",
        "\n",
        "    losses = AverageMeter()\n",
        "\n",
        "    model.train()\n",
        "    tq = tqdm(dataloader, total= len(dataloader))\n",
        "    train_preds = []\n",
        "    train_labels = []\n",
        "    softmax = nn.Softmax()\n",
        "    optimizer.zero_grad()\n",
        "    for step, (data, label) in enumerate(tq):\n",
        "\n",
        "        s_t = time.time()\n",
        "        optimizer.zero_grad()\n",
        "\n",
        "        image = data.to(device)\n",
        "        #target = label.to(torch.long).to(device)\n",
        "        target = label.to(device)\n",
        "        bsz = target.shape[0] # Batch Size\n",
        "        output = model(image)\n",
        "\n",
        "        loss = loss_fn(output, target)\n",
        "\n",
        "        preds = softmax(output)\n",
        "        preds = torch.max(preds, 1)[1]\n",
        "\n",
        "        e_t = time.time() - s_t\n",
        "\n",
        "        loss.backward()\n",
        "        optimizer.step()\n",
        "        scheduler.step()\n",
        "        losses.update(loss.item(), bsz)\n",
        "\n",
        "        train_preds.append(preds.detach().cpu().numpy())\n",
        "        train_labels.append(target.detach().cpu().numpy())\n",
        "\n",
        "        if CONFIG.wandb == True:\n",
        "            wandb.log({f'[fold{fold+1}] epoch': epoch+1, f'[fold{fold+1}] step_loss': loss})\n",
        "            wandb.log({f'[fold{fold+1}] epoch': epoch+1, f'[fold{fold+1}] Learning Rate': optimizer.param_groups[0][\"lr\"]})\n",
        "        \n",
        "        tq.set_description(f\"Train Epoch: {epoch+1:2d} | Loss{losses.avg:.5f}\")\n",
        "\n",
        "    tq.close()\n",
        "    _ = gc.collect()\n",
        "    train_preds = np.concatenate(train_preds)\n",
        "    train_labels = np.concatenate(train_labels)\n",
        "\n",
        "    return losses.avg, train_preds, train_labels"
      ]
    },
    {
      "cell_type": "code",
      "execution_count": null,
      "metadata": {
        "id": "sZKOPW44Yo2S"
      },
      "outputs": [],
      "source": [
        "def valid_func(model, loss_fn, dataloader, device, epoch):\n",
        "\n",
        "    losses = AverageMeter()\n",
        "    model.eval()\n",
        "    tq = tqdm(dataloader, total=len(dataloader))\n",
        "    valid_preds = []\n",
        "    valid_probs = []\n",
        "    softmax = nn.Softmax()\n",
        "\n",
        "    for step, data in enumerate(tq):\n",
        "\n",
        "      s_t = time.time()\n",
        "      image = data['image'].to(device)\n",
        "      target = data['label'].to(torch.long).to(device)\n",
        "      bsz = target.shape[0]\n",
        "\n",
        "      output = model(image)\n",
        "      loss = loss_fn( output, target)\n",
        "      preds = softmax(output)\n",
        "      valid_probs.append(preds.detach().cpu().numpy())\n",
        "      preds = torch.max(preds, 1)[1]\n",
        "      e_t = time.time() - s_t\n",
        "\n",
        "      valid_preds.append(preds.detach().cpu().numpy())\n",
        "      losses.update(loss.item(), bsz)\n",
        "      tq.set_description(f\"Valid Epoch: {epoch+1:2d} | Loss{losses.avg:.5f}\")\n",
        "\n",
        "    tq.close()\n",
        "    _ = gc.collect()\n",
        "    valid_preds = np.concatenate(valid_preds)\n",
        "    valid_probs = np.concatenate(valid_probs)\n",
        "\n",
        "    return losses.avg, valid_preds, valid_probs"
      ]
    },
    {
      "cell_type": "code",
      "execution_count": null,
      "metadata": {
        "id": "wG1AgXysYqeQ"
      },
      "outputs": [],
      "source": [
        "def test_func(model, dataloader, device):\n",
        "\n",
        "    model.eval()\n",
        "    test_preds = []\n",
        "    softmax = nn.Softmax()\n",
        "\n",
        "    for data in tqdm(dataloader, total = len(dataloader)):\n",
        "\n",
        "        image = data[('image')].to(device)\n",
        "        with torch.no_grad():\n",
        "            preds = model(image)\n",
        "            preds = softmax(preds)\n",
        "\n",
        "        test_preds.append(preds.detach().cpu().numpy())\n",
        "\n",
        "    test_preds = np.concatenate(test_preds)\n",
        "\n",
        "    return test_preds"
      ]
    },
    {
      "cell_type": "markdown",
      "metadata": {
        "id": "JM7DlSGmYslT"
      },
      "source": [
        "# Train"
      ]
    },
    {
      "cell_type": "code",
      "execution_count": null,
      "metadata": {
        "id": "Ev6BmcL2Yrpe"
      },
      "outputs": [],
      "source": [
        "class RMSELoss(nn.Module):\n",
        "    def __init__(self):\n",
        "        super().__init__()\n",
        "        self.mse = nn.MSELoss()\n",
        "\n",
        "    def forward(self,yhat,y):\n",
        "        return torch.sqrt(self.mse(yhat, y))\n",
        "from sklearn.metrics import f1_score\n",
        "\n",
        "def get_score(y_true, y_pred):\n",
        "    score = f1_score(y_true, y_pred,average='macro')\n",
        "    return score"
      ]
    },
    {
      "cell_type": "code",
      "source": [
        "CV = StratifiedKFold(n_splits=CONFIG.n_fold, shuffle=True, random_state=CONFIG.seed)\n",
        "\n",
        "oof = np.zeros(len(train_df))\n",
        "pred = np.zeros((CONFIG.n_tta, len(test_df), 4))\n",
        "oof_probs = np.zeros((len(train_df), 4))\n",
        "OOF = np.zeros(len(train_df))\n",
        "\n",
        "device = CONFIG.device\n",
        "\n",
        "for fold, (tr, va) in enumerate(CV.split(train_df,train_df['label'])):\n",
        "\n",
        "    print(f'================================= Fold {fold+1} =================================')\n",
        "\n",
        "    if fold in CONFIG.fold:\n",
        "\n",
        "        tr_df = train_df.loc[tr].reset_index(drop=True)\n",
        "        va_df = train_df.loc[va].reset_index(drop=True)\n",
        "        tr_img = train_img['arr_0'][tr]\n",
        "        va_img = train_img['arr_0'][va]\n",
        "        tr_label = train_img['arr_1'][tr]\n",
        "        va_label = train_img['arr_1'][va]\n",
        "\n",
        "\n",
        "        train_dataset = nihongaDataset(img = tr_img,\n",
        "                                       label = tr_label,\n",
        "                      is_train = True,\n",
        "                      is_padding = CONFIG.padding,\n",
        "                      transform = get_transforms(data = 'train')\n",
        "                      )\n",
        "\n",
        "\n",
        "        valid_dataset = nihongaDataset(img = va_img,\n",
        "                                       label = va_label,\n",
        "                                    is_train = True,\n",
        "                                    is_padding = CONFIG.padding,\n",
        "                                    transform = get_transforms(data = 'valid')\n",
        "                                    )\n",
        "\n",
        "        train_loader = torch.utils.data.DataLoader(\n",
        "            train_dataset,\n",
        "            batch_size = CONFIG.batch_size,\n",
        "            num_workers = CONFIG.num_workers,\n",
        "            pin_memory = True,\n",
        "            shuffle = True,\n",
        "        )\n",
        "\n",
        "        valid_loader = torch.utils.data.DataLoader(\n",
        "            valid_dataset,\n",
        "            batch_size = CONFIG.batch_size,\n",
        "            num_workers = CONFIG.num_workers,\n",
        "            pin_memory  = True,\n",
        "            shuffle = False,\n",
        "        )\n",
        "\n",
        "        base_model = BasicModel(base_name = CONFIG.model_name, pretrained = False)\n",
        "        base_model.to(device)\n",
        "\n",
        "        #MODEL_PATH = f\"{CONFIG.dino_path}\"\n",
        "        #base_model.load_state_dict(torch.load(MODEL_PATH))\n",
        "\n",
        "        # 全パラメータで学習\n",
        "        print(f'       All Parameter Learning ------>>>>>')\n",
        "\n",
        "        if CONFIG.debug:\n",
        "            n_epoch = 3 * len(train_loader)\n",
        "        else:\n",
        "            n_epoch = CONFIG.epochs * len(train_loader)\n",
        "\n",
        "        loss_fn = CutMixCrossEntropyLoss(True)\n",
        "        best_score = 0\n",
        "\n",
        "        optimizer = torch.optim.AdamW(\n",
        "            base_model.parameters(),\n",
        "            lr = CONFIG.lr,\n",
        "        )\n",
        "\n",
        "        scheduler = torch.optim.lr_scheduler.CosineAnnealingLR(\n",
        "            optimizer,\n",
        "            T_max = n_epoch,\n",
        "            eta_min = CONFIG.eta_min,\n",
        "            last_epoch = -1,\n",
        "        )\n",
        "\n",
        "        aug_flg = True\n",
        "        for epoch in range(CONFIG.epochs):\n",
        "\n",
        "              start_time = time.time()\n",
        "\n",
        "              #初めの数エポックと終わりの数エポックはAugmentationを掛けない\n",
        "              if (epoch<=3-1) | (epoch>=19-1):\n",
        "                  train_dataset = nihongaDataset(img = tr_img,\n",
        "                                                label = tr_label,\n",
        "                                is_train = True,\n",
        "                                is_padding = CONFIG.padding,\n",
        "                                transform = get_transforms(data = 'valid')\n",
        "                                )\n",
        "                  train_dataset = CutMix(train_dataset, num_class=4, beta=1.0, prob=0.5, num_mix=2)\n",
        "                  aug_flg = False\n",
        "              else:\n",
        "                  train_dataset = nihongaDataset(img = tr_img,\n",
        "                                                label = tr_label,\n",
        "                                is_train = True,\n",
        "                                is_padding = CONFIG.padding,\n",
        "                                transform = get_transforms(data = 'train')\n",
        "                                )\n",
        "                  train_dataset = CutMix(train_dataset, num_class=4, beta=1.0, prob=0.5, num_mix=2)\n",
        "                  aug_flg = True\n",
        "\n",
        "\n",
        "              train_loader = torch.utils.data.DataLoader(\n",
        "                  train_dataset,\n",
        "                  batch_size = CONFIG.batch_size,\n",
        "                  num_workers = CONFIG.num_workers,\n",
        "                  pin_memory = True,\n",
        "                  shuffle = True,\n",
        "              )\n",
        "\n",
        "              train_loss, train_preds, train_labels  = train_func(base_model,\n",
        "                                                                  optimizer,\n",
        "                                                                  scheduler,\n",
        "                                                                    loss_fn,\n",
        "                                                                  train_loader,\n",
        "                                                                    device,\n",
        "                                                                  epoch\n",
        "                                                                    )\n",
        "              valid_loss, valid_preds, valid_probs = valid_func(base_model,\n",
        "                                                  loss_fn,\n",
        "                                                  valid_loader,\n",
        "                                                  device,\n",
        "                                                  epoch\n",
        "                                                  )\n",
        "              train_score = get_score(np.argmax(train_labels,axis=1), train_preds)\n",
        "              score = get_score(va_df['label'].values, valid_preds)\n",
        "\n",
        "              if CONFIG.wandb == True:\n",
        "\n",
        "                    wandb.log({f'[fold{fold+1}] epoch': epoch+1, f'[fold{fold+1}] train_loss': train_loss})\n",
        "                    wandb.log({f'[fold{fold+1}] epoch': epoch+1, f'[fold{fold+1}] valid_loss': valid_loss})\n",
        "                    wandb.log({f'[fold{fold+1}] epoch': epoch+1, f'[fold{fold+1}] train_score': train_score})\n",
        "                    wandb.log({f'[fold{fold+1}] epoch': epoch+1, f'[fold{fold+1}] valid_score': score})\n",
        "\n",
        "              end_time = time.time() - start_time\n",
        "\n",
        "              if score > best_score:\n",
        "\n",
        "                  best_score = score\n",
        "                  oof[va] = valid_preds\n",
        "                  oof_probs[va] = valid_probs\n",
        "\n",
        "                  MODEL_PATH = f\"{MODEL_DIR}{CONFIG.exp_name}_fold{fold+1}.pth\"\n",
        "                  torch.save(base_model.state_dict(), MODEL_PATH)\n",
        "\n",
        "\n",
        "              print(f\"FOLD: {fold+1} | EPOCH:{epoch+1:3d} | Aug:{aug_flg} | train_loss:{train_loss:.6f} | train_score:{train_score:.6f} | valid_loss:{valid_loss:.6f} | valid_score:{score:.6f} | Best: {best_score:.6f} | time:{end_time:.1f}s \")\n",
        "\n",
        "        del train_dataset, valid_dataset, train_loader, valid_loader, train_preds, valid_preds\n",
        "        _ = gc.collect()\n",
        "\n",
        "        ## Predict\n",
        "        base_model.load_state_dict(torch.load(MODEL_PATH))\n",
        "\n",
        "        test_dataset = nihongaDataset(img=test_img['arr_0'],\n",
        "                                      label = None,\n",
        "                                      is_train=False,\n",
        "                                      is_padding=False,\n",
        "                                      transform=get_transforms(data='TTA')\n",
        "                                    )\n",
        "        test_loader = torch.utils.data.DataLoader(test_dataset,\n",
        "                                                  batch_size=CONFIG.batch_size*2,\n",
        "                                                  pin_memory=True,\n",
        "                                                  shuffle=False)\n",
        "        \n",
        "        if CONFIG.TTA == False:\n",
        "            CONFIG.n_tta = 1\n",
        "\n",
        "        _test_preds = np.zeros((CONFIG.n_tta, len(test_df), 4))\n",
        "\n",
        "        for n in range(CONFIG.n_tta):\n",
        "\n",
        "\n",
        "            test_preds = test_func(\n",
        "                base_model, \n",
        "                test_loader, \n",
        "                device,\n",
        "            )\n",
        "            _test_preds[n] = test_preds\n",
        "\n",
        "        pred += _test_preds.mean(axis=0)/CONFIG.n_fold\n",
        "        #oof += oof / CONFIG.n_fold\n",
        "        del test_dataset, test_loader, base_model\n",
        "    \n",
        "    else:\n",
        "        epoch = 1\n",
        "        print(f'Fold {fold+1} is done.')\n",
        "        va_df = train_df.loc[va].reset_index(drop=True)\n",
        "        va_img = train_img['arr_0'][va]\n",
        "        va_label = train_img['arr_1'][va]\n",
        "\n",
        "        base_model = BasicModel(base_name = CONFIG.model_name, pretrained = False)\n",
        "        base_model.to(device)\n",
        "\n",
        "        valid_dataset = nihongaDataset(img = va_img,\n",
        "                                       label = va_label,\n",
        "                                    is_train = True,\n",
        "                                    is_padding = CONFIG.padding,\n",
        "                                    transform = get_transforms(data = 'valid')\n",
        "                                    )\n",
        "\n",
        "        valid_loader = torch.utils.data.DataLoader(\n",
        "            valid_dataset,\n",
        "            batch_size = CONFIG.batch_size,\n",
        "            num_workers = CONFIG.num_workers,\n",
        "            pin_memory  = True,\n",
        "            shuffle = False,\n",
        "        )\n",
        "\n",
        "        MODEL_PATH = f\"{MODEL_DIR}{CONFIG.exp_name}_fold{fold+1}.pth\"\n",
        "        base_model.load_state_dict(torch.load(MODEL_PATH))\n",
        "\n",
        "        loss_fn = nn.CrossEntropyLoss()\n",
        "\n",
        "        valid_loss, valid_preds, valid_probs = valid_func(base_model,\n",
        "                                            loss_fn,\n",
        "                                            valid_loader,\n",
        "                                            device,\n",
        "                                            epoch\n",
        "                                            )\n",
        "        score = get_score(va_df['label'].values, valid_preds)\n",
        "        oof[va] = valid_preds\n",
        "        oof_probs[va] = valid_probs\n",
        "\n",
        "        if CONFIG.wandb == True:\n",
        "\n",
        "              wandb.log({ f'[fold{fold+1}] valid_loss': valid_loss})\n",
        "              wandb.log({ f'[fold{fold+1}] valid_score': score})\n",
        "\n",
        "\n",
        "        print(f\"FOLD: {fold+1} | valid_loss:{valid_loss:.6f} | valid_score:{score:.6f} \")\n",
        "\n",
        "        test_dataset = nihongaDataset(img=test_img['arr_0'],\n",
        "                                      label = None,\n",
        "                                      is_train=False,\n",
        "                                      is_padding=False,\n",
        "                                      transform=get_transforms(data='TTA')\n",
        "                                    )\n",
        "        test_loader = torch.utils.data.DataLoader(test_dataset,\n",
        "                                                  batch_size=CONFIG.batch_size*2,\n",
        "                                                  pin_memory=True,\n",
        "                                                  shuffle=False)\n",
        "        \n",
        "        if CONFIG.TTA == False:\n",
        "            CONFIG.n_tta = 1\n",
        "\n",
        "        _test_preds = np.zeros((CONFIG.n_tta, len(test_df), 4))\n",
        "\n",
        "        for n in range(CONFIG.n_tta):\n",
        "\n",
        "\n",
        "            test_preds = test_func(\n",
        "                base_model, \n",
        "                test_loader, \n",
        "                device,\n",
        "            )\n",
        "            _test_preds[n] = test_preds\n",
        "\n",
        "        pred += _test_preds.mean(axis=0)/CONFIG.n_fold\n",
        "        #oof += oof / CONFIG.n_fold\n",
        "        del test_dataset, test_loader, base_model"
      ],
      "metadata": {
        "id": "ZpzrIFwNwONZ"
      },
      "execution_count": null,
      "outputs": []
    },
    {
      "cell_type": "code",
      "execution_count": null,
      "metadata": {
        "id": "b301uYivahMZ",
        "colab": {
          "base_uri": "https://localhost:8080/"
        },
        "outputId": "9a6758dd-93fc-4557-e46b-324cc5e69344"
      },
      "outputs": [
        {
          "output_type": "stream",
          "name": "stdout",
          "text": [
            "★★★★★★★★★★★★★★★★★★★★★★★★★★★★★★★★★★★★★★★★\n",
            "Total CV Score: 0.86057\n"
          ]
        }
      ],
      "source": [
        "print(\"★\"*40)\n",
        "total_score =get_score(train_img['arr_1'], oof)\n",
        "print(f'Total CV Score: {total_score:.5f}')\n",
        "\n",
        "if CONFIG.wandb:\n",
        "  wandb.log({'CV Score': total_score})"
      ]
    },
    {
      "cell_type": "code",
      "source": [
        "if CONFIG.wandb:\n",
        "    wandb.finish()"
      ],
      "metadata": {
        "id": "_J6eazq2wKXz"
      },
      "execution_count": null,
      "outputs": []
    },
    {
      "cell_type": "code",
      "execution_count": null,
      "metadata": {
        "id": "2uni2mCWOMTY"
      },
      "outputs": [],
      "source": [
        "oof_df = pd.DataFrame(oof_probs)\n",
        "oof_df.columns = ['label_0','label_1','label_2','label_3']\n",
        "oof_df = pd.concat([train_df,oof_df], axis=1)\n",
        "oof_df.to_csv(os.path.join(OOF_DIR, f'{CONFIG.exp_name}_oof_preds_{total_score:.5f}.csv'), index= False)\n",
        "test = pd.DataFrame(pred[0,:,:])\n",
        "test.columns =['label_0','label_1','label_2','label_3']\n",
        "test = pd.concat([test_df,test], axis=1)\n",
        "test.to_csv(os.path.join(SUB_DIR, f'{CONFIG.exp_name}_sub_preds_{total_score:.5f}.csv'),index=False)\n",
        "\n",
        "display(\n",
        "    oof_df.head(),\n",
        "    test.head()\n",
        ")"
      ]
    },
    {
      "cell_type": "code",
      "execution_count": null,
      "metadata": {
        "id": "vnsUtTBhX23K"
      },
      "outputs": [],
      "source": [
        "test_pred = torch.max(torch.from_numpy(pred[n].astype(np.float32)),1)[1]"
      ]
    },
    {
      "cell_type": "code",
      "execution_count": null,
      "metadata": {
        "id": "9Q62FPEqajJX"
      },
      "outputs": [],
      "source": [
        "oof_df = pd.DataFrame(columns={'label', 'pred'})\n",
        "oof_df['label'] = train_df['label']\n",
        "oof_df['pred'] = oof\n",
        "oof_df.to_csv(os.path.join(OOF_DIR, f'{CONFIG.exp_name}_oof_{total_score:.5f}.csv'), index= False)"
      ]
    },
    {
      "cell_type": "code",
      "execution_count": null,
      "metadata": {
        "id": "7-G3-5lIas5-"
      },
      "outputs": [],
      "source": [
        "sub_df['y'] = test_pred\n",
        "sub_df.to_csv(os.path.join(SUB_DIR, f'{CONFIG.exp_name}_sub_{total_score:.5f}.csv'),index=False)"
      ]
    },
    {
      "cell_type": "code",
      "execution_count": null,
      "metadata": {
        "id": "_XclIdoF2wMe",
        "colab": {
          "base_uri": "https://localhost:8080/",
          "height": 424
        },
        "outputId": "072bf81c-deec-4f04-9409-4c8154ca3c29"
      },
      "outputs": [
        {
          "output_type": "execute_result",
          "data": {
            "text/plain": [
              "        id  y\n",
              "0        1  1\n",
              "1        2  0\n",
              "2        3  0\n",
              "3        4  2\n",
              "4        5  2\n",
              "...    ... ..\n",
              "1995  1996  1\n",
              "1996  1997  1\n",
              "1997  1998  2\n",
              "1998  1999  1\n",
              "1999  2000  1\n",
              "\n",
              "[2000 rows x 2 columns]"
            ],
            "text/html": [
              "\n",
              "  <div id=\"df-85535e87-cdbb-4ef1-9469-180016ed0f86\">\n",
              "    <div class=\"colab-df-container\">\n",
              "      <div>\n",
              "<style scoped>\n",
              "    .dataframe tbody tr th:only-of-type {\n",
              "        vertical-align: middle;\n",
              "    }\n",
              "\n",
              "    .dataframe tbody tr th {\n",
              "        vertical-align: top;\n",
              "    }\n",
              "\n",
              "    .dataframe thead th {\n",
              "        text-align: right;\n",
              "    }\n",
              "</style>\n",
              "<table border=\"1\" class=\"dataframe\">\n",
              "  <thead>\n",
              "    <tr style=\"text-align: right;\">\n",
              "      <th></th>\n",
              "      <th>id</th>\n",
              "      <th>y</th>\n",
              "    </tr>\n",
              "  </thead>\n",
              "  <tbody>\n",
              "    <tr>\n",
              "      <th>0</th>\n",
              "      <td>1</td>\n",
              "      <td>1</td>\n",
              "    </tr>\n",
              "    <tr>\n",
              "      <th>1</th>\n",
              "      <td>2</td>\n",
              "      <td>0</td>\n",
              "    </tr>\n",
              "    <tr>\n",
              "      <th>2</th>\n",
              "      <td>3</td>\n",
              "      <td>0</td>\n",
              "    </tr>\n",
              "    <tr>\n",
              "      <th>3</th>\n",
              "      <td>4</td>\n",
              "      <td>2</td>\n",
              "    </tr>\n",
              "    <tr>\n",
              "      <th>4</th>\n",
              "      <td>5</td>\n",
              "      <td>2</td>\n",
              "    </tr>\n",
              "    <tr>\n",
              "      <th>...</th>\n",
              "      <td>...</td>\n",
              "      <td>...</td>\n",
              "    </tr>\n",
              "    <tr>\n",
              "      <th>1995</th>\n",
              "      <td>1996</td>\n",
              "      <td>1</td>\n",
              "    </tr>\n",
              "    <tr>\n",
              "      <th>1996</th>\n",
              "      <td>1997</td>\n",
              "      <td>1</td>\n",
              "    </tr>\n",
              "    <tr>\n",
              "      <th>1997</th>\n",
              "      <td>1998</td>\n",
              "      <td>2</td>\n",
              "    </tr>\n",
              "    <tr>\n",
              "      <th>1998</th>\n",
              "      <td>1999</td>\n",
              "      <td>1</td>\n",
              "    </tr>\n",
              "    <tr>\n",
              "      <th>1999</th>\n",
              "      <td>2000</td>\n",
              "      <td>1</td>\n",
              "    </tr>\n",
              "  </tbody>\n",
              "</table>\n",
              "<p>2000 rows × 2 columns</p>\n",
              "</div>\n",
              "      <button class=\"colab-df-convert\" onclick=\"convertToInteractive('df-85535e87-cdbb-4ef1-9469-180016ed0f86')\"\n",
              "              title=\"Convert this dataframe to an interactive table.\"\n",
              "              style=\"display:none;\">\n",
              "        \n",
              "  <svg xmlns=\"http://www.w3.org/2000/svg\" height=\"24px\"viewBox=\"0 0 24 24\"\n",
              "       width=\"24px\">\n",
              "    <path d=\"M0 0h24v24H0V0z\" fill=\"none\"/>\n",
              "    <path d=\"M18.56 5.44l.94 2.06.94-2.06 2.06-.94-2.06-.94-.94-2.06-.94 2.06-2.06.94zm-11 1L8.5 8.5l.94-2.06 2.06-.94-2.06-.94L8.5 2.5l-.94 2.06-2.06.94zm10 10l.94 2.06.94-2.06 2.06-.94-2.06-.94-.94-2.06-.94 2.06-2.06.94z\"/><path d=\"M17.41 7.96l-1.37-1.37c-.4-.4-.92-.59-1.43-.59-.52 0-1.04.2-1.43.59L10.3 9.45l-7.72 7.72c-.78.78-.78 2.05 0 2.83L4 21.41c.39.39.9.59 1.41.59.51 0 1.02-.2 1.41-.59l7.78-7.78 2.81-2.81c.8-.78.8-2.07 0-2.86zM5.41 20L4 18.59l7.72-7.72 1.47 1.35L5.41 20z\"/>\n",
              "  </svg>\n",
              "      </button>\n",
              "      \n",
              "  <style>\n",
              "    .colab-df-container {\n",
              "      display:flex;\n",
              "      flex-wrap:wrap;\n",
              "      gap: 12px;\n",
              "    }\n",
              "\n",
              "    .colab-df-convert {\n",
              "      background-color: #E8F0FE;\n",
              "      border: none;\n",
              "      border-radius: 50%;\n",
              "      cursor: pointer;\n",
              "      display: none;\n",
              "      fill: #1967D2;\n",
              "      height: 32px;\n",
              "      padding: 0 0 0 0;\n",
              "      width: 32px;\n",
              "    }\n",
              "\n",
              "    .colab-df-convert:hover {\n",
              "      background-color: #E2EBFA;\n",
              "      box-shadow: 0px 1px 2px rgba(60, 64, 67, 0.3), 0px 1px 3px 1px rgba(60, 64, 67, 0.15);\n",
              "      fill: #174EA6;\n",
              "    }\n",
              "\n",
              "    [theme=dark] .colab-df-convert {\n",
              "      background-color: #3B4455;\n",
              "      fill: #D2E3FC;\n",
              "    }\n",
              "\n",
              "    [theme=dark] .colab-df-convert:hover {\n",
              "      background-color: #434B5C;\n",
              "      box-shadow: 0px 1px 3px 1px rgba(0, 0, 0, 0.15);\n",
              "      filter: drop-shadow(0px 1px 2px rgba(0, 0, 0, 0.3));\n",
              "      fill: #FFFFFF;\n",
              "    }\n",
              "  </style>\n",
              "\n",
              "      <script>\n",
              "        const buttonEl =\n",
              "          document.querySelector('#df-85535e87-cdbb-4ef1-9469-180016ed0f86 button.colab-df-convert');\n",
              "        buttonEl.style.display =\n",
              "          google.colab.kernel.accessAllowed ? 'block' : 'none';\n",
              "\n",
              "        async function convertToInteractive(key) {\n",
              "          const element = document.querySelector('#df-85535e87-cdbb-4ef1-9469-180016ed0f86');\n",
              "          const dataTable =\n",
              "            await google.colab.kernel.invokeFunction('convertToInteractive',\n",
              "                                                     [key], {});\n",
              "          if (!dataTable) return;\n",
              "\n",
              "          const docLinkHtml = 'Like what you see? Visit the ' +\n",
              "            '<a target=\"_blank\" href=https://colab.research.google.com/notebooks/data_table.ipynb>data table notebook</a>'\n",
              "            + ' to learn more about interactive tables.';\n",
              "          element.innerHTML = '';\n",
              "          dataTable['output_type'] = 'display_data';\n",
              "          await google.colab.output.renderOutput(dataTable, element);\n",
              "          const docLink = document.createElement('div');\n",
              "          docLink.innerHTML = docLinkHtml;\n",
              "          element.appendChild(docLink);\n",
              "        }\n",
              "      </script>\n",
              "    </div>\n",
              "  </div>\n",
              "  "
            ]
          },
          "metadata": {},
          "execution_count": 45
        }
      ],
      "source": [
        "sub_df"
      ]
    }
  ],
  "metadata": {
    "accelerator": "GPU",
    "colab": {
      "collapsed_sections": [],
      "machine_shape": "hm",
      "name": "nihonga_062_exp.ipynb のコピー",
      "provenance": []
    },
    "gpuClass": "standard",
    "kernelspec": {
      "display_name": "Python 3",
      "name": "python3"
    },
    "language_info": {
      "name": "python"
    }
  },
  "nbformat": 4,
  "nbformat_minor": 0
}
