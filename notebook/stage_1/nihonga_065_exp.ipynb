{
  "cells": [
    {
      "cell_type": "markdown",
      "metadata": {
        "id": "hUI1fRqVRC6B"
      },
      "source": [
        "# Settings"
      ]
    },
    {
      "cell_type": "code",
      "execution_count": null,
      "metadata": {
        "colab": {
          "base_uri": "https://localhost:8080/"
        },
        "id": "Kj_toaaJQg9A",
        "outputId": "57351a34-a05b-4be7-bd41-eda4e52efdcb"
      },
      "outputs": [
        {
          "output_type": "stream",
          "name": "stdout",
          "text": [
            "NVIDIA-SMI has failed because it couldn't communicate with the NVIDIA driver. Make sure that the latest NVIDIA driver is installed and running.\n",
            "\n"
          ]
        }
      ],
      "source": [
        "!nvidia-smi"
      ]
    },
    {
      "cell_type": "markdown",
      "metadata": {
        "id": "SHLuMxbyRFN0"
      },
      "source": [
        "# Google Drive Mount"
      ]
    },
    {
      "cell_type": "code",
      "execution_count": null,
      "metadata": {
        "colab": {
          "base_uri": "https://localhost:8080/"
        },
        "id": "_NqPaz7tRE9F",
        "outputId": "48fa06ef-cfed-4b5e-c39e-59595d7c76be"
      },
      "outputs": [
        {
          "output_type": "stream",
          "name": "stdout",
          "text": [
            "Mounted at /content/drive\n"
          ]
        }
      ],
      "source": [
        "from google.colab import drive\n",
        "drive.mount('/content/drive')"
      ]
    },
    {
      "cell_type": "markdown",
      "metadata": {
        "id": "poIg-nmZRSWK"
      },
      "source": [
        "# 必要なライブラリのインストール"
      ]
    },
    {
      "cell_type": "code",
      "execution_count": null,
      "metadata": {
        "id": "3jwhXa5PQ-_4"
      },
      "outputs": [],
      "source": [
        "import warnings\n",
        "warnings.simplefilter('ignore')\n",
        "\n",
        "import os\n",
        "import gc\n",
        "gc.enable()\n",
        "import sys\n",
        "import glob\n",
        "import math\n",
        "import time\n",
        "import random\n",
        "\n",
        "import numpy as np\n",
        "import pandas as pd\n",
        "from PIL import Image\n",
        "import matplotlib.pyplot as plt\n",
        "%matplotlib inline\n",
        "\n",
        "from sklearn.model_selection import GroupKFold, StratifiedKFold\n",
        "from sklearn.metrics import mean_squared_error\n",
        "\n",
        "from datetime import datetime\n",
        "from tqdm.auto import tqdm as tqdmp\n",
        "from tqdm.autonotebook import tqdm as tqdm\n",
        "tqdmp.pandas()\n",
        "\n",
        "# import lightly\n",
        "\n",
        "# TTA\n",
        "# import ttach as tta"
      ]
    },
    {
      "cell_type": "markdown",
      "metadata": {
        "id": "gVpOpLEyRZMu"
      },
      "source": [
        "# Config"
      ]
    },
    {
      "cell_type": "code",
      "execution_count": null,
      "metadata": {
        "id": "II_G2VmoRYEF"
      },
      "outputs": [],
      "source": [
        "class CFG:\n",
        "  def __init__(self):\n",
        "\n",
        "      self.wandb = False\n",
        "      self.debug = False\n",
        "      self.early_stop_flg = True\n",
        "      self.early_stop_round = 4\n",
        "      self.exp_name = '065_exp'\n",
        "      self.seed = 55\n",
        "      self.n_fold = 4\n",
        "      self.num_workers = 1\n",
        "      self.model_name = 'vit_large_patch16_384'\n",
        "      self.mode = 'Classification'\n",
        "      self.padding = False\n",
        "      self.multitask = False\n",
        "      self.SSL = False\n",
        "      self.size = 384\n",
        "      self.fold = []\n",
        "\n",
        "      self.epochs = 10\n",
        "      self.batch_size = 2\n",
        "      self.lr = 1e-5\n",
        "      self.weight_decay = 1e-6\n",
        "      self.scheduler = 'scheduler:CosineAneelingLR'\n",
        "      self.eta_min = 0\n",
        "      self.T_max = self.epochs\n",
        "      self.MIXUP = False\n",
        "      self.TTA = False\n",
        "      self.alpha = 1.0\n",
        "      self.n_tta = 10\n",
        "      self.accumulation_steps = 8\n",
        "      self.N_MSD = 10\n",
        "      self.MIXOUT = 0.5\n",
        "\n",
        "CONFIG = CFG()"
      ]
    },
    {
      "cell_type": "code",
      "execution_count": null,
      "metadata": {
        "id": "BYYI9JiZRljE"
      },
      "outputs": [],
      "source": [
        "def seed_everything(seed:int==42):\n",
        "    random.seed(seed)\n",
        "    os.environ['PYTHONHASHSEED'] = str(seed)\n",
        "    np.random.seed(seed)\n",
        "\n",
        "seed_everything(CONFIG.seed)"
      ]
    },
    {
      "cell_type": "markdown",
      "metadata": {
        "id": "UY0A5Ke-R0EW"
      },
      "source": [
        "# Data Load"
      ]
    },
    {
      "cell_type": "code",
      "execution_count": null,
      "metadata": {
        "id": "l6nJ0nnxSFvd",
        "colab": {
          "base_uri": "https://localhost:8080/"
        },
        "outputId": "621934a0-67df-4ab4-c294-55526e9fd86d"
      },
      "outputs": [
        {
          "output_type": "stream",
          "name": "stdout",
          "text": [
            "INPUT_DIR: /content/drive/MyDrive/nihonga/data/\n",
            "OUTPUT_DIR: /content/drive/MyDrive/nihonga/interim/065_exp/\n",
            "MODEL_DIR: /content/drive/MyDrive/nihonga/model/065_exp/\n",
            "OOF_DIR: /content/drive/MyDrive/nihonga/oof/065_exp/\n",
            "SUB_DIR: /content/drive/MyDrive/nihonga/sub/065_exp/\n"
          ]
        }
      ],
      "source": [
        "INPUT_DIR = \"/content/drive/MyDrive/nihonga/data/\"\n",
        "\n",
        "EXP_NAME = f'{CONFIG.exp_name}'\n",
        "OUTPUT_DIR = f'/content/drive/MyDrive/nihonga/interim/{EXP_NAME}/'\n",
        "MODEL_DIR = f'/content/drive/MyDrive/nihonga/model/{EXP_NAME}/'\n",
        "OOF_DIR = f'/content/drive/MyDrive/nihonga/oof/{EXP_NAME}/'\n",
        "SUB_DIR = f'/content/drive/MyDrive/nihonga/sub/{EXP_NAME}/'\n",
        "\n",
        "os.makedirs(OUTPUT_DIR, exist_ok=True)\n",
        "os.makedirs(MODEL_DIR, exist_ok=True)\n",
        "os.makedirs(OOF_DIR, exist_ok=True)\n",
        "os.makedirs(SUB_DIR, exist_ok=True)\n",
        "\n",
        "print(f'INPUT_DIR: {INPUT_DIR}')\n",
        "print(f'OUTPUT_DIR: {OUTPUT_DIR}')\n",
        "print(f'MODEL_DIR: {MODEL_DIR}')\n",
        "print(f'OOF_DIR: {OOF_DIR}')\n",
        "print(f'SUB_DIR: {SUB_DIR}')"
      ]
    },
    {
      "cell_type": "code",
      "execution_count": null,
      "metadata": {
        "id": "UvXf0VKBUSdW"
      },
      "outputs": [],
      "source": [
        "train_img = np.load(os.path.join(INPUT_DIR,\n",
        "                                'train_data.npz'))\n",
        "test_img = np.load(os.path.join(INPUT_DIR,\n",
        "                                'test_data.npz'))\n",
        "sub_df = pd.read_csv(os.path.join(INPUT_DIR,\n",
        "                                'submission.csv'))"
      ]
    },
    {
      "cell_type": "code",
      "execution_count": null,
      "metadata": {
        "id": "s4SsfZnZDLjX"
      },
      "outputs": [],
      "source": [
        "train_df = pd.DataFrame(range(6446),columns=['id'])\n",
        "train_df['label'] = train_img['arr_1']\n",
        "test_df = pd.DataFrame(range(test_img['arr_0'].shape[0]),columns=['id'])\n",
        "if CONFIG.debug:\n",
        "    train_df = train_df.head(100)\n",
        "    test_df = test_df.head(50)"
      ]
    },
    {
      "cell_type": "code",
      "execution_count": null,
      "metadata": {
        "id": "CQiDGk6MCpm2",
        "colab": {
          "base_uri": "https://localhost:8080/",
          "height": 280
        },
        "outputId": "03f8ea36-82f6-41d3-ccee-4f59d12ea763"
      },
      "outputs": [
        {
          "output_type": "execute_result",
          "data": {
            "text/plain": [
              "<matplotlib.axes._subplots.AxesSubplot at 0x7fb1a79df750>"
            ]
          },
          "metadata": {},
          "execution_count": 9
        },
        {
          "output_type": "display_data",
          "data": {
            "text/plain": [
              "<Figure size 432x288 with 1 Axes>"
            ],
            "image/png": "[encoded data removed]"
          },
          "metadata": {
            "needs_background": "light"
          }
        }
      ],
      "source": [
        "train_df['fold'] = -1\n",
        "strat_kfold = StratifiedKFold(n_splits=CONFIG.n_fold, random_state=CONFIG.seed, shuffle=True)\n",
        "for i, (_, train_index) in enumerate(strat_kfold.split(train_df.index, train_df['label'])):\n",
        "    train_df.iloc[train_index, -1] = i\n",
        "    \n",
        "train_df['fold'] = train_df['fold'].astype('int')\n",
        "\n",
        "train_df.fold.value_counts().plot.bar()"
      ]
    },
    {
      "cell_type": "code",
      "execution_count": null,
      "metadata": {
        "id": "UOw9K1AZC74D",
        "colab": {
          "base_uri": "https://localhost:8080/"
        },
        "outputId": "2e7b6334-8144-45f0-f2f1-6ffa2ba2f9c9"
      },
      "outputs": [
        {
          "output_type": "execute_result",
          "data": {
            "text/plain": [
              "0    754\n",
              "1    550\n",
              "2    155\n",
              "3    153\n",
              "Name: label, dtype: int64"
            ]
          },
          "metadata": {},
          "execution_count": 10
        }
      ],
      "source": [
        "train_df[train_df['fold']==1]['label'].value_counts()"
      ]
    },
    {
      "cell_type": "markdown",
      "source": [
        "## 各種実験のcsvファイルを読み込む"
      ],
      "metadata": {
        "id": "L7hgaVeg60Eg"
      }
    },
    {
      "cell_type": "code",
      "execution_count": null,
      "metadata": {
        "id": "Ev6BmcL2Yrpe"
      },
      "outputs": [],
      "source": [
        "from sklearn.metrics import f1_score\n",
        "\n",
        "def get_score(y_true, y_pred):\n",
        "    score = f1_score(y_true, y_pred,average='macro')\n",
        "    return score"
      ]
    },
    {
      "cell_type": "code",
      "source": [
        "oof_23 = pd.read_csv('/content/drive/MyDrive/nihonga/oof/023_exp/023_exp_oof_preds_0.86753.csv')\n",
        "sub_23 = pd.read_csv('/content/drive/MyDrive/nihonga/sub/023_exp/023_exp_sub_preds_0.86753.csv')\n",
        "oof_30 = pd.read_csv('/content/drive/MyDrive/nihonga/oof/030_exp/030_exp_oof_preds_0.87357.csv')\n",
        "sub_30 = pd.read_csv('/content/drive/MyDrive/nihonga/sub/030_exp/030_exp_sub_preds_0.87357.csv')\n",
        "oof_49 = pd.read_csv('/content/drive/MyDrive/nihonga/oof/049_exp/049_exp_oof_preds_0.86111.csv')\n",
        "sub_49 = pd.read_csv('/content/drive/MyDrive/nihonga/sub/049_exp/049_exp_sub_preds_0.86111.csv')\n",
        "oof_57 = pd.read_csv('/content/drive/MyDrive/nihonga/oof/057_exp/057_exp_oof_preds_0.87841.csv')\n",
        "sub_57 = pd.read_csv('/content/drive/MyDrive/nihonga/sub/057_exp/057_exp_sub_preds_0.87841.csv')\n",
        "oof_62 = pd.read_csv('/content/drive/MyDrive/nihonga/oof/062_exp/062_exp_oof_preds_0.86057.csv')\n",
        "sub_62 = pd.read_csv('/content/drive/MyDrive/nihonga/sub/062_exp/062_exp_sub_preds_0.86057.csv')"
      ],
      "metadata": {
        "id": "n1bId3V367L4"
      },
      "execution_count": null,
      "outputs": []
    },
    {
      "cell_type": "code",
      "source": [
        "p_list = [0,0.1,0.2,0.3,0.4,0.5,0.6,0.7,0.8,0.9]\n",
        "\n",
        "col_list = ['label_0','label_1','label_2','label_3']\n",
        "gt = oof_23['label'].values\n",
        "best_score = 0\n",
        "for p in p_list:\n",
        "    for q in p_list:\n",
        "      if np.round(p + q,1) > 1:\n",
        "        continue\n",
        "      for r in p_list:\n",
        "        if np.round(p + q + r,1) > 1:\n",
        "          continue\n",
        "        for s in p_list:\n",
        "          if np.round(p + q + r + s,1) > 1:\n",
        "            continue\n",
        "          for t in p_list:\n",
        "            oof_v = oof_49[col_list].values * p + oof_57[col_list].values * q + oof_30[col_list].values * r + oof_62[col_list].values * s + oof_23[col_list].values * t + oof_52[col_list].values * (1-p-q-r-s-t)\n",
        "            oof_pred = np.argmax(oof_v, axis=1)\n",
        "            score = get_score(gt,oof_pred)\n",
        "            if best_score < score:\n",
        "              best_score = score\n",
        "              print(f'oof_49:{p} | oof_57:{q} | oof_30:{r} | oof_62:{s} | oof_23:{t} | oof_52:{1-p-q-r-s-t:.1f} | score: {score:.5f}')"
      ],
      "metadata": {
        "colab": {
          "base_uri": "https://localhost:8080/"
        },
        "id": "o36lDkeLoJ4M",
        "outputId": "b4f2a690-e3da-4d1d-aee2-e850c85fb0d8"
      },
      "execution_count": null,
      "outputs": [
        {
          "output_type": "stream",
          "name": "stdout",
          "text": [
            "oof_49:0 | oof_57:0 | oof_30:0 | oof_62:0 | oof_23:0 | oof_52:1.0 | score: 0.88048\n",
            "oof_49:0 | oof_57:0 | oof_30:0 | oof_62:0 | oof_23:0.4 | oof_52:0.6 | score: 0.88082\n",
            "oof_49:0 | oof_57:0 | oof_30:0 | oof_62:0.1 | oof_23:0.3 | oof_52:0.6 | score: 0.88245\n",
            "oof_49:0 | oof_57:0 | oof_30:0 | oof_62:0.1 | oof_23:0.4 | oof_52:0.5 | score: 0.88602\n",
            "oof_49:0 | oof_57:0 | oof_30:0 | oof_62:0.2 | oof_23:0.3 | oof_52:0.5 | score: 0.88607\n",
            "oof_49:0 | oof_57:0 | oof_30:0 | oof_62:0.3 | oof_23:0.2 | oof_52:0.5 | score: 0.88728\n",
            "oof_49:0 | oof_57:0 | oof_30:0 | oof_62:0.3 | oof_23:0.3 | oof_52:0.4 | score: 0.89041\n",
            "oof_49:0 | oof_57:0 | oof_30:0 | oof_62:0.5 | oof_23:0.2 | oof_52:0.3 | score: 0.89091\n",
            "oof_49:0 | oof_57:0 | oof_30:0 | oof_62:0.5 | oof_23:0.3 | oof_52:0.2 | score: 0.89270\n",
            "oof_49:0 | oof_57:0 | oof_30:0.2 | oof_62:0.4 | oof_23:0.2 | oof_52:0.2 | score: 0.89322\n",
            "oof_49:0 | oof_57:0 | oof_30:0.3 | oof_62:0.5 | oof_23:0 | oof_52:0.2 | score: 0.89343\n",
            "oof_49:0 | oof_57:0 | oof_30:0.3 | oof_62:0.5 | oof_23:0.1 | oof_52:0.1 | score: 0.89433\n",
            "oof_49:0 | oof_57:0.1 | oof_30:0.1 | oof_62:0.4 | oof_23:0.2 | oof_52:0.2 | score: 0.89614\n",
            "oof_49:0 | oof_57:0.2 | oof_30:0 | oof_62:0.4 | oof_23:0.2 | oof_52:0.2 | score: 0.89623\n",
            "oof_49:0 | oof_57:0.2 | oof_30:0.1 | oof_62:0.4 | oof_23:0.1 | oof_52:0.2 | score: 0.89648\n",
            "oof_49:0 | oof_57:0.2 | oof_30:0.1 | oof_62:0.4 | oof_23:0.2 | oof_52:0.1 | score: 0.89786\n",
            "oof_49:0 | oof_57:0.3 | oof_30:0.1 | oof_62:0.3 | oof_23:0.1 | oof_52:0.2 | score: 0.89820\n",
            "oof_49:0.1 | oof_57:0.2 | oof_30:0.1 | oof_62:0.3 | oof_23:0.1 | oof_52:0.2 | score: 0.89890\n",
            "oof_49:0.1 | oof_57:0.2 | oof_30:0.1 | oof_62:0.3 | oof_23:0.2 | oof_52:0.1 | score: 0.89942\n",
            "oof_49:0.1 | oof_57:0.3 | oof_30:0.1 | oof_62:0.3 | oof_23:0.1 | oof_52:0.1 | score: 0.89944\n",
            "oof_49:0.2 | oof_57:0.2 | oof_30:0.1 | oof_62:0.4 | oof_23:0.1 | oof_52:0.0 | score: 0.89997\n"
          ]
        }
      ]
    },
    {
      "cell_type": "code",
      "source": [
        "sub = sub_49[col_list].values * 0.2 + sub_30[col_list].values * 0.1 + sub_57[col_list].values * 0.2 + sub_23[col_list].values * 0.1 + sub_62[col_list].values * 0.4\n",
        "sub_pred = np.argmax(sub, axis=1)\n",
        "sub_pred"
      ],
      "metadata": {
        "colab": {
          "base_uri": "https://localhost:8080/"
        },
        "id": "kr_H3UAfNjTF",
        "outputId": "8cb95b06-f061-4886-e844-6f7777568543"
      },
      "execution_count": null,
      "outputs": [
        {
          "output_type": "execute_result",
          "data": {
            "text/plain": [
              "array([1, 0, 0, ..., 2, 1, 1])"
            ]
          },
          "metadata": {},
          "execution_count": 15
        }
      ]
    },
    {
      "cell_type": "code",
      "source": [
        "pseudo_df = pd.DataFrame(sub)\n",
        "pseudo_df.columns = ['label_0','label_1','label_2','label_3']\n",
        "pseudo_df['label'] = np.argmax(sub, axis=1)\n",
        "pseudo_df = pd.concat([test_df,pseudo_df], axis=1)\n",
        "pseudo_df.to_csv(os.path.join(OUTPUT_DIR, f'{CONFIG.exp_name}_pseudo_{best_score:.5f}.csv'),index=False)\n",
        "pseudo_df.head()"
      ],
      "metadata": {
        "colab": {
          "base_uri": "https://localhost:8080/",
          "height": 206
        },
        "id": "EZ7rl-EsnALH",
        "outputId": "2379c508-5852-42b4-db82-d79a502f62bc"
      },
      "execution_count": null,
      "outputs": [
        {
          "output_type": "execute_result",
          "data": {
            "text/plain": [
              "   id   label_0   label_1   label_2   label_3  label\n",
              "0   0  0.002095  0.990006  0.000793  0.007106      1\n",
              "1   1  0.904510  0.091105  0.001927  0.002457      0\n",
              "2   2  0.992745  0.002890  0.003510  0.000854      0\n",
              "3   3  0.047024  0.002705  0.891481  0.058790      2\n",
              "4   4  0.019404  0.752677  0.226373  0.001547      1"
            ],
            "text/html": [
              "\n",
              "  <div id=\"df-080c0e24-9908-432a-9afc-5fe737574191\">\n",
              "    <div class=\"colab-df-container\">\n",
              "      <div>\n",
              "<style scoped>\n",
              "    .dataframe tbody tr th:only-of-type {\n",
              "        vertical-align: middle;\n",
              "    }\n",
              "\n",
              "    .dataframe tbody tr th {\n",
              "        vertical-align: top;\n",
              "    }\n",
              "\n",
              "    .dataframe thead th {\n",
              "        text-align: right;\n",
              "    }\n",
              "</style>\n",
              "<table border=\"1\" class=\"dataframe\">\n",
              "  <thead>\n",
              "    <tr style=\"text-align: right;\">\n",
              "      <th></th>\n",
              "      <th>id</th>\n",
              "      <th>label_0</th>\n",
              "      <th>label_1</th>\n",
              "      <th>label_2</th>\n",
              "      <th>label_3</th>\n",
              "      <th>label</th>\n",
              "    </tr>\n",
              "  </thead>\n",
              "  <tbody>\n",
              "    <tr>\n",
              "      <th>0</th>\n",
              "      <td>0</td>\n",
              "      <td>0.002095</td>\n",
              "      <td>0.990006</td>\n",
              "      <td>0.000793</td>\n",
              "      <td>0.007106</td>\n",
              "      <td>1</td>\n",
              "    </tr>\n",
              "    <tr>\n",
              "      <th>1</th>\n",
              "      <td>1</td>\n",
              "      <td>0.904510</td>\n",
              "      <td>0.091105</td>\n",
              "      <td>0.001927</td>\n",
              "      <td>0.002457</td>\n",
              "      <td>0</td>\n",
              "    </tr>\n",
              "    <tr>\n",
              "      <th>2</th>\n",
              "      <td>2</td>\n",
              "      <td>0.992745</td>\n",
              "      <td>0.002890</td>\n",
              "      <td>0.003510</td>\n",
              "      <td>0.000854</td>\n",
              "      <td>0</td>\n",
              "    </tr>\n",
              "    <tr>\n",
              "      <th>3</th>\n",
              "      <td>3</td>\n",
              "      <td>0.047024</td>\n",
              "      <td>0.002705</td>\n",
              "      <td>0.891481</td>\n",
              "      <td>0.058790</td>\n",
              "      <td>2</td>\n",
              "    </tr>\n",
              "    <tr>\n",
              "      <th>4</th>\n",
              "      <td>4</td>\n",
              "      <td>0.019404</td>\n",
              "      <td>0.752677</td>\n",
              "      <td>0.226373</td>\n",
              "      <td>0.001547</td>\n",
              "      <td>1</td>\n",
              "    </tr>\n",
              "  </tbody>\n",
              "</table>\n",
              "</div>\n",
              "      <button class=\"colab-df-convert\" onclick=\"convertToInteractive('df-080c0e24-9908-432a-9afc-5fe737574191')\"\n",
              "              title=\"Convert this dataframe to an interactive table.\"\n",
              "              style=\"display:none;\">\n",
              "        \n",
              "  <svg xmlns=\"http://www.w3.org/2000/svg\" height=\"24px\"viewBox=\"0 0 24 24\"\n",
              "       width=\"24px\">\n",
              "    <path d=\"M0 0h24v24H0V0z\" fill=\"none\"/>\n",
              "    <path d=\"M18.56 5.44l.94 2.06.94-2.06 2.06-.94-2.06-.94-.94-2.06-.94 2.06-2.06.94zm-11 1L8.5 8.5l.94-2.06 2.06-.94-2.06-.94L8.5 2.5l-.94 2.06-2.06.94zm10 10l.94 2.06.94-2.06 2.06-.94-2.06-.94-.94-2.06-.94 2.06-2.06.94z\"/><path d=\"M17.41 7.96l-1.37-1.37c-.4-.4-.92-.59-1.43-.59-.52 0-1.04.2-1.43.59L10.3 9.45l-7.72 7.72c-.78.78-.78 2.05 0 2.83L4 21.41c.39.39.9.59 1.41.59.51 0 1.02-.2 1.41-.59l7.78-7.78 2.81-2.81c.8-.78.8-2.07 0-2.86zM5.41 20L4 18.59l7.72-7.72 1.47 1.35L5.41 20z\"/>\n",
              "  </svg>\n",
              "      </button>\n",
              "      \n",
              "  <style>\n",
              "    .colab-df-container {\n",
              "      display:flex;\n",
              "      flex-wrap:wrap;\n",
              "      gap: 12px;\n",
              "    }\n",
              "\n",
              "    .colab-df-convert {\n",
              "      background-color: #E8F0FE;\n",
              "      border: none;\n",
              "      border-radius: 50%;\n",
              "      cursor: pointer;\n",
              "      display: none;\n",
              "      fill: #1967D2;\n",
              "      height: 32px;\n",
              "      padding: 0 0 0 0;\n",
              "      width: 32px;\n",
              "    }\n",
              "\n",
              "    .colab-df-convert:hover {\n",
              "      background-color: #E2EBFA;\n",
              "      box-shadow: 0px 1px 2px rgba(60, 64, 67, 0.3), 0px 1px 3px 1px rgba(60, 64, 67, 0.15);\n",
              "      fill: #174EA6;\n",
              "    }\n",
              "\n",
              "    [theme=dark] .colab-df-convert {\n",
              "      background-color: #3B4455;\n",
              "      fill: #D2E3FC;\n",
              "    }\n",
              "\n",
              "    [theme=dark] .colab-df-convert:hover {\n",
              "      background-color: #434B5C;\n",
              "      box-shadow: 0px 1px 3px 1px rgba(0, 0, 0, 0.15);\n",
              "      filter: drop-shadow(0px 1px 2px rgba(0, 0, 0, 0.3));\n",
              "      fill: #FFFFFF;\n",
              "    }\n",
              "  </style>\n",
              "\n",
              "      <script>\n",
              "        const buttonEl =\n",
              "          document.querySelector('#df-080c0e24-9908-432a-9afc-5fe737574191 button.colab-df-convert');\n",
              "        buttonEl.style.display =\n",
              "          google.colab.kernel.accessAllowed ? 'block' : 'none';\n",
              "\n",
              "        async function convertToInteractive(key) {\n",
              "          const element = document.querySelector('#df-080c0e24-9908-432a-9afc-5fe737574191');\n",
              "          const dataTable =\n",
              "            await google.colab.kernel.invokeFunction('convertToInteractive',\n",
              "                                                     [key], {});\n",
              "          if (!dataTable) return;\n",
              "\n",
              "          const docLinkHtml = 'Like what you see? Visit the ' +\n",
              "            '<a target=\"_blank\" href=https://colab.research.google.com/notebooks/data_table.ipynb>data table notebook</a>'\n",
              "            + ' to learn more about interactive tables.';\n",
              "          element.innerHTML = '';\n",
              "          dataTable['output_type'] = 'display_data';\n",
              "          await google.colab.output.renderOutput(dataTable, element);\n",
              "          const docLink = document.createElement('div');\n",
              "          docLink.innerHTML = docLinkHtml;\n",
              "          element.appendChild(docLink);\n",
              "        }\n",
              "      </script>\n",
              "    </div>\n",
              "  </div>\n",
              "  "
            ]
          },
          "metadata": {},
          "execution_count": 21
        }
      ]
    },
    {
      "cell_type": "code",
      "source": [
        "sub_df['y'] = np.argmax(sub, axis=1)\n",
        "sub_df.to_csv(os.path.join(SUB_DIR, f'{CONFIG.exp_name}_sub_ensenble_49_30_57_23_62_{best_score:.5f}.csv'),index=False)\n",
        "sub_df"
      ],
      "metadata": {
        "colab": {
          "base_uri": "https://localhost:8080/",
          "height": 424
        },
        "id": "7B4yPHtGNlMS",
        "outputId": "57c69805-b2f7-48ef-dac8-e31334310ad3"
      },
      "execution_count": null,
      "outputs": [
        {
          "output_type": "execute_result",
          "data": {
            "text/plain": [
              "        id  y\n",
              "0        1  1\n",
              "1        2  0\n",
              "2        3  0\n",
              "3        4  2\n",
              "4        5  1\n",
              "...    ... ..\n",
              "1995  1996  1\n",
              "1996  1997  1\n",
              "1997  1998  2\n",
              "1998  1999  1\n",
              "1999  2000  1\n",
              "\n",
              "[2000 rows x 2 columns]"
            ],
            "text/html": [
              "\n",
              "  <div id=\"df-c10d590a-4eff-436d-b10e-a519d8b105cb\">\n",
              "    <div class=\"colab-df-container\">\n",
              "      <div>\n",
              "<style scoped>\n",
              "    .dataframe tbody tr th:only-of-type {\n",
              "        vertical-align: middle;\n",
              "    }\n",
              "\n",
              "    .dataframe tbody tr th {\n",
              "        vertical-align: top;\n",
              "    }\n",
              "\n",
              "    .dataframe thead th {\n",
              "        text-align: right;\n",
              "    }\n",
              "</style>\n",
              "<table border=\"1\" class=\"dataframe\">\n",
              "  <thead>\n",
              "    <tr style=\"text-align: right;\">\n",
              "      <th></th>\n",
              "      <th>id</th>\n",
              "      <th>y</th>\n",
              "    </tr>\n",
              "  </thead>\n",
              "  <tbody>\n",
              "    <tr>\n",
              "      <th>0</th>\n",
              "      <td>1</td>\n",
              "      <td>1</td>\n",
              "    </tr>\n",
              "    <tr>\n",
              "      <th>1</th>\n",
              "      <td>2</td>\n",
              "      <td>0</td>\n",
              "    </tr>\n",
              "    <tr>\n",
              "      <th>2</th>\n",
              "      <td>3</td>\n",
              "      <td>0</td>\n",
              "    </tr>\n",
              "    <tr>\n",
              "      <th>3</th>\n",
              "      <td>4</td>\n",
              "      <td>2</td>\n",
              "    </tr>\n",
              "    <tr>\n",
              "      <th>4</th>\n",
              "      <td>5</td>\n",
              "      <td>1</td>\n",
              "    </tr>\n",
              "    <tr>\n",
              "      <th>...</th>\n",
              "      <td>...</td>\n",
              "      <td>...</td>\n",
              "    </tr>\n",
              "    <tr>\n",
              "      <th>1995</th>\n",
              "      <td>1996</td>\n",
              "      <td>1</td>\n",
              "    </tr>\n",
              "    <tr>\n",
              "      <th>1996</th>\n",
              "      <td>1997</td>\n",
              "      <td>1</td>\n",
              "    </tr>\n",
              "    <tr>\n",
              "      <th>1997</th>\n",
              "      <td>1998</td>\n",
              "      <td>2</td>\n",
              "    </tr>\n",
              "    <tr>\n",
              "      <th>1998</th>\n",
              "      <td>1999</td>\n",
              "      <td>1</td>\n",
              "    </tr>\n",
              "    <tr>\n",
              "      <th>1999</th>\n",
              "      <td>2000</td>\n",
              "      <td>1</td>\n",
              "    </tr>\n",
              "  </tbody>\n",
              "</table>\n",
              "<p>2000 rows × 2 columns</p>\n",
              "</div>\n",
              "      <button class=\"colab-df-convert\" onclick=\"convertToInteractive('df-c10d590a-4eff-436d-b10e-a519d8b105cb')\"\n",
              "              title=\"Convert this dataframe to an interactive table.\"\n",
              "              style=\"display:none;\">\n",
              "        \n",
              "  <svg xmlns=\"http://www.w3.org/2000/svg\" height=\"24px\"viewBox=\"0 0 24 24\"\n",
              "       width=\"24px\">\n",
              "    <path d=\"M0 0h24v24H0V0z\" fill=\"none\"/>\n",
              "    <path d=\"M18.56 5.44l.94 2.06.94-2.06 2.06-.94-2.06-.94-.94-2.06-.94 2.06-2.06.94zm-11 1L8.5 8.5l.94-2.06 2.06-.94-2.06-.94L8.5 2.5l-.94 2.06-2.06.94zm10 10l.94 2.06.94-2.06 2.06-.94-2.06-.94-.94-2.06-.94 2.06-2.06.94z\"/><path d=\"M17.41 7.96l-1.37-1.37c-.4-.4-.92-.59-1.43-.59-.52 0-1.04.2-1.43.59L10.3 9.45l-7.72 7.72c-.78.78-.78 2.05 0 2.83L4 21.41c.39.39.9.59 1.41.59.51 0 1.02-.2 1.41-.59l7.78-7.78 2.81-2.81c.8-.78.8-2.07 0-2.86zM5.41 20L4 18.59l7.72-7.72 1.47 1.35L5.41 20z\"/>\n",
              "  </svg>\n",
              "      </button>\n",
              "      \n",
              "  <style>\n",
              "    .colab-df-container {\n",
              "      display:flex;\n",
              "      flex-wrap:wrap;\n",
              "      gap: 12px;\n",
              "    }\n",
              "\n",
              "    .colab-df-convert {\n",
              "      background-color: #E8F0FE;\n",
              "      border: none;\n",
              "      border-radius: 50%;\n",
              "      cursor: pointer;\n",
              "      display: none;\n",
              "      fill: #1967D2;\n",
              "      height: 32px;\n",
              "      padding: 0 0 0 0;\n",
              "      width: 32px;\n",
              "    }\n",
              "\n",
              "    .colab-df-convert:hover {\n",
              "      background-color: #E2EBFA;\n",
              "      box-shadow: 0px 1px 2px rgba(60, 64, 67, 0.3), 0px 1px 3px 1px rgba(60, 64, 67, 0.15);\n",
              "      fill: #174EA6;\n",
              "    }\n",
              "\n",
              "    [theme=dark] .colab-df-convert {\n",
              "      background-color: #3B4455;\n",
              "      fill: #D2E3FC;\n",
              "    }\n",
              "\n",
              "    [theme=dark] .colab-df-convert:hover {\n",
              "      background-color: #434B5C;\n",
              "      box-shadow: 0px 1px 3px 1px rgba(0, 0, 0, 0.15);\n",
              "      filter: drop-shadow(0px 1px 2px rgba(0, 0, 0, 0.3));\n",
              "      fill: #FFFFFF;\n",
              "    }\n",
              "  </style>\n",
              "\n",
              "      <script>\n",
              "        const buttonEl =\n",
              "          document.querySelector('#df-c10d590a-4eff-436d-b10e-a519d8b105cb button.colab-df-convert');\n",
              "        buttonEl.style.display =\n",
              "          google.colab.kernel.accessAllowed ? 'block' : 'none';\n",
              "\n",
              "        async function convertToInteractive(key) {\n",
              "          const element = document.querySelector('#df-c10d590a-4eff-436d-b10e-a519d8b105cb');\n",
              "          const dataTable =\n",
              "            await google.colab.kernel.invokeFunction('convertToInteractive',\n",
              "                                                     [key], {});\n",
              "          if (!dataTable) return;\n",
              "\n",
              "          const docLinkHtml = 'Like what you see? Visit the ' +\n",
              "            '<a target=\"_blank\" href=https://colab.research.google.com/notebooks/data_table.ipynb>data table notebook</a>'\n",
              "            + ' to learn more about interactive tables.';\n",
              "          element.innerHTML = '';\n",
              "          dataTable['output_type'] = 'display_data';\n",
              "          await google.colab.output.renderOutput(dataTable, element);\n",
              "          const docLink = document.createElement('div');\n",
              "          docLink.innerHTML = docLinkHtml;\n",
              "          element.appendChild(docLink);\n",
              "        }\n",
              "      </script>\n",
              "    </div>\n",
              "  </div>\n",
              "  "
            ]
          },
          "metadata": {},
          "execution_count": 25
        }
      ]
    }
  ],
  "metadata": {
    "colab": {
      "collapsed_sections": [],
      "name": "nihonga_065_exp.ipynb のコピー",
      "provenance": [],
      "machine_shape": "hm"
    },
    "kernelspec": {
      "display_name": "Python 3",
      "name": "python3"
    },
    "language_info": {
      "name": "python"
    },
    "gpuClass": "standard"
  },
  "nbformat": 4,
  "nbformat_minor": 0
}