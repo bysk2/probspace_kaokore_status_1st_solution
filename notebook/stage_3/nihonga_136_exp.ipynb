{
  "cells": [
    {
      "cell_type": "markdown",
      "metadata": {
        "id": "hUI1fRqVRC6B"
      },
      "source": [
        "# Settings"
      ]
    },
    {
      "cell_type": "code",
      "execution_count": null,
      "metadata": {
        "colab": {
          "base_uri": "https://localhost:8080/"
        },
        "id": "Kj_toaaJQg9A",
        "outputId": "37f9c853-1675-45a2-8cbd-5226a4bff82a"
      },
      "outputs": [
        {
          "output_type": "stream",
          "name": "stdout",
          "text": [
            "NVIDIA-SMI has failed because it couldn't communicate with the NVIDIA driver. Make sure that the latest NVIDIA driver is installed and running.\n",
            "\n"
          ]
        }
      ],
      "source": [
        "!nvidia-smi"
      ]
    },
    {
      "cell_type": "markdown",
      "metadata": {
        "id": "SHLuMxbyRFN0"
      },
      "source": [
        "# Google Drive Mount"
      ]
    },
    {
      "cell_type": "code",
      "execution_count": null,
      "metadata": {
        "colab": {
          "base_uri": "https://localhost:8080/"
        },
        "id": "_NqPaz7tRE9F",
        "outputId": "aaf44ac2-debe-42b2-c01e-815a76d5f460"
      },
      "outputs": [
        {
          "output_type": "stream",
          "name": "stdout",
          "text": [
            "Mounted at /content/drive\n"
          ]
        }
      ],
      "source": [
        "from google.colab import drive\n",
        "drive.mount('/content/drive')"
      ]
    },
    {
      "cell_type": "markdown",
      "metadata": {
        "id": "poIg-nmZRSWK"
      },
      "source": [
        "# 必要なライブラリのインストール"
      ]
    },
    {
      "cell_type": "code",
      "execution_count": null,
      "metadata": {
        "id": "3jwhXa5PQ-_4"
      },
      "outputs": [],
      "source": [
        "import warnings\n",
        "warnings.simplefilter('ignore')\n",
        "\n",
        "import os\n",
        "import gc\n",
        "gc.enable()\n",
        "import sys\n",
        "import glob\n",
        "import math\n",
        "import time\n",
        "import random\n",
        "\n",
        "import numpy as np\n",
        "import pandas as pd\n",
        "from PIL import Image\n",
        "import matplotlib.pyplot as plt\n",
        "%matplotlib inline\n",
        "\n",
        "from sklearn.model_selection import GroupKFold, StratifiedKFold\n",
        "from sklearn.metrics import mean_squared_error\n",
        "\n",
        "from datetime import datetime\n",
        "from tqdm.auto import tqdm as tqdmp\n",
        "from tqdm.autonotebook import tqdm as tqdm\n",
        "tqdmp.pandas()\n",
        "\n",
        "# import lightly\n",
        "\n",
        "# TTA\n",
        "# import ttach as tta"
      ]
    },
    {
      "cell_type": "markdown",
      "metadata": {
        "id": "gVpOpLEyRZMu"
      },
      "source": [
        "# Config"
      ]
    },
    {
      "cell_type": "code",
      "execution_count": null,
      "metadata": {
        "id": "II_G2VmoRYEF"
      },
      "outputs": [],
      "source": [
        "class CFG:\n",
        "  def __init__(self):\n",
        "\n",
        "      self.wandb = False\n",
        "      self.debug = False\n",
        "      self.early_stop_flg = True\n",
        "      self.early_stop_round = 4\n",
        "      self.exp_name = '136_exp'\n",
        "      self.seed = 55\n",
        "      self.n_fold = 4\n",
        "      self.num_workers = 1\n",
        "      self.model_name = 'vit_large_patch16_384'\n",
        "      self.mode = 'Classification'\n",
        "      self.padding = False\n",
        "      self.multitask = False\n",
        "      self.SSL = False\n",
        "      self.size = 384\n",
        "      self.fold = []\n",
        "\n",
        "      self.epochs = 10\n",
        "      self.batch_size = 2\n",
        "      self.lr = 1e-5\n",
        "      self.weight_decay = 1e-6\n",
        "      self.scheduler = 'scheduler:CosineAneelingLR'\n",
        "      self.eta_min = 0\n",
        "      self.T_max = self.epochs\n",
        "      self.MIXUP = False\n",
        "      self.TTA = False\n",
        "      self.alpha = 1.0\n",
        "      self.n_tta = 10\n",
        "      self.accumulation_steps = 8\n",
        "      self.N_MSD = 10\n",
        "      self.MIXOUT = 0.5\n",
        "\n",
        "CONFIG = CFG()"
      ]
    },
    {
      "cell_type": "code",
      "execution_count": null,
      "metadata": {
        "id": "BYYI9JiZRljE"
      },
      "outputs": [],
      "source": [
        "def seed_everything(seed:int==42):\n",
        "    random.seed(seed)\n",
        "    os.environ['PYTHONHASHSEED'] = str(seed)\n",
        "    np.random.seed(seed)\n",
        "\n",
        "seed_everything(CONFIG.seed)"
      ]
    },
    {
      "cell_type": "markdown",
      "metadata": {
        "id": "UY0A5Ke-R0EW"
      },
      "source": [
        "## Data Load"
      ]
    },
    {
      "cell_type": "code",
      "execution_count": null,
      "metadata": {
        "colab": {
          "base_uri": "https://localhost:8080/"
        },
        "id": "l6nJ0nnxSFvd",
        "outputId": "b49c6b90-3a2f-4023-a1b4-407a9cc84967"
      },
      "outputs": [
        {
          "output_type": "stream",
          "name": "stdout",
          "text": [
            "INPUT_DIR: /content/drive/MyDrive/nihonga/data/\n",
            "OUTPUT_DIR: /content/drive/MyDrive/nihonga/interim/136_exp/\n",
            "MODEL_DIR: /content/drive/MyDrive/nihonga/model/136_exp/\n",
            "OOF_DIR: /content/drive/MyDrive/nihonga/oof/136_exp/\n",
            "SUB_DIR: /content/drive/MyDrive/nihonga/sub/136_exp/\n"
          ]
        }
      ],
      "source": [
        "INPUT_DIR = \"/content/drive/MyDrive/nihonga/data/\"\n",
        "\n",
        "EXP_NAME = f'{CONFIG.exp_name}'\n",
        "OUTPUT_DIR = f'/content/drive/MyDrive/nihonga/interim/{EXP_NAME}/'\n",
        "MODEL_DIR = f'/content/drive/MyDrive/nihonga/model/{EXP_NAME}/'\n",
        "OOF_DIR = f'/content/drive/MyDrive/nihonga/oof/{EXP_NAME}/'\n",
        "SUB_DIR = f'/content/drive/MyDrive/nihonga/sub/{EXP_NAME}/'\n",
        "\n",
        "os.makedirs(OUTPUT_DIR, exist_ok=True)\n",
        "os.makedirs(MODEL_DIR, exist_ok=True)\n",
        "os.makedirs(OOF_DIR, exist_ok=True)\n",
        "os.makedirs(SUB_DIR, exist_ok=True)\n",
        "\n",
        "print(f'INPUT_DIR: {INPUT_DIR}')\n",
        "print(f'OUTPUT_DIR: {OUTPUT_DIR}')\n",
        "print(f'MODEL_DIR: {MODEL_DIR}')\n",
        "print(f'OOF_DIR: {OOF_DIR}')\n",
        "print(f'SUB_DIR: {SUB_DIR}')"
      ]
    },
    {
      "cell_type": "code",
      "execution_count": null,
      "metadata": {
        "id": "UvXf0VKBUSdW"
      },
      "outputs": [],
      "source": [
        "train_img = np.load(os.path.join(INPUT_DIR,\n",
        "                                'train_data.npz'))\n",
        "test_img = np.load(os.path.join(INPUT_DIR,\n",
        "                                'test_data.npz'))\n",
        "sub_df = pd.read_csv(os.path.join(INPUT_DIR,\n",
        "                                'submission.csv'))"
      ]
    },
    {
      "cell_type": "code",
      "execution_count": null,
      "metadata": {
        "id": "s4SsfZnZDLjX"
      },
      "outputs": [],
      "source": [
        "train_df = pd.DataFrame(range(6446),columns=['id'])\n",
        "train_df['label'] = train_img['arr_1']\n",
        "test_df = pd.DataFrame(range(test_img['arr_0'].shape[0]),columns=['id'])\n",
        "if CONFIG.debug:\n",
        "    train_df = train_df.head(100)\n",
        "    test_df = test_df.head(50)"
      ]
    },
    {
      "cell_type": "code",
      "execution_count": null,
      "metadata": {
        "colab": {
          "base_uri": "https://localhost:8080/",
          "height": 280
        },
        "id": "CQiDGk6MCpm2",
        "outputId": "4b0c77d7-7074-48fe-ce5c-e82bc7ff8bee"
      },
      "outputs": [
        {
          "output_type": "execute_result",
          "data": {
            "text/plain": [
              "<matplotlib.axes._subplots.AxesSubplot at 0x7fb8f1e2d910>"
            ]
          },
          "metadata": {},
          "execution_count": 9
        },
        {
          "output_type": "display_data",
          "data": {
            "text/plain": [
              "<Figure size 432x288 with 1 Axes>"
            ],
            "image/png": "[encoded data removed]"
          },
          "metadata": {
            "needs_background": "light"
          }
        }
      ],
      "source": [
        "train_df['fold'] = -1\n",
        "strat_kfold = StratifiedKFold(n_splits=CONFIG.n_fold, random_state=CONFIG.seed, shuffle=True)\n",
        "for i, (_, train_index) in enumerate(strat_kfold.split(train_df.index, train_df['label'])):\n",
        "    train_df.iloc[train_index, -1] = i\n",
        "    \n",
        "train_df['fold'] = train_df['fold'].astype('int')\n",
        "\n",
        "train_df.fold.value_counts().plot.bar()"
      ]
    },
    {
      "cell_type": "markdown",
      "metadata": {
        "id": "8kXWma5zskXI"
      },
      "source": [
        "### Optuna(Selected)"
      ]
    },
    {
      "cell_type": "code",
      "source": [
        "noc_df = pd.read_csv(os.path.join(INPUT_DIR,\n",
        "                                'oof_whole_df_v2.csv'))\n",
        "no_chance_list = noc_df[noc_df['no_chance']==1].index\n",
        "no_chance_list\n",
        "not_no_chance = list(set(train_df.index) - set(no_chance_list))"
      ],
      "metadata": {
        "id": "KR1rvJwHfBZ3"
      },
      "execution_count": null,
      "outputs": []
    },
    {
      "cell_type": "code",
      "source": [
        "from sklearn.metrics import f1_score\n",
        "\n",
        "def get_score(y_true, y_pred):\n",
        "    score = f1_score(y_true, y_pred,average='macro')\n",
        "    return score"
      ],
      "metadata": {
        "id": "LoVp3fh8Y_MP"
      },
      "execution_count": null,
      "outputs": []
    },
    {
      "cell_type": "code",
      "source": [
        "!pip install optuna -Uq"
      ],
      "metadata": {
        "colab": {
          "base_uri": "https://localhost:8080/"
        },
        "id": "AeCVAC_hqQa0",
        "outputId": "c0c4436e-e76f-43fa-98ab-185b3de447dc"
      },
      "execution_count": null,
      "outputs": [
        {
          "output_type": "stream",
          "name": "stdout",
          "text": [
            "\u001b[K     |████████████████████████████████| 308 kB 7.5 MB/s \n",
            "\u001b[K     |████████████████████████████████| 81 kB 10.7 MB/s \n",
            "\u001b[K     |████████████████████████████████| 209 kB 61.7 MB/s \n",
            "\u001b[K     |████████████████████████████████| 78 kB 8.5 MB/s \n",
            "\u001b[K     |████████████████████████████████| 147 kB 64.1 MB/s \n",
            "\u001b[K     |████████████████████████████████| 49 kB 6.9 MB/s \n",
            "\u001b[K     |████████████████████████████████| 112 kB 78.0 MB/s \n",
            "\u001b[?25h  Building wheel for pyperclip (setup.py) ... \u001b[?25l\u001b[?25hdone\n"
          ]
        }
      ]
    },
    {
      "cell_type": "code",
      "execution_count": null,
      "metadata": {
        "id": "mbgQ47FatUAn"
      },
      "outputs": [],
      "source": [
        "oof_dict = {\n",
        "    '57':'/content/drive/MyDrive/nihonga/oof/057_exp/057_exp_oof_preds_0.87841.csv', # swin_large × CutMix\n",
        "    '62':'/content/drive/MyDrive/nihonga/oof/062_exp/062_exp_oof_preds_0.86057.csv', # DINO vit_base\n",
        "    '69':'/content/drive/MyDrive/nihonga/oof/069_exp/069_exp_oof_preds_0.89750.csv', # swin_large × Pseudo\n",
        "    '71':'/content/drive/MyDrive/nihonga/oof/071_exp/071_exp_oof_preds_0.87404.csv', # DINO × ImageNet × vit_base\n",
        "    '72':'/content/drive/MyDrive/nihonga/oof/072_exp/072_exp_oof_preds_0.90127.csv', # vit_large × Pseudo\n",
        "    '77':'/content/drive/MyDrive/nihonga/oof/077_exp/077_exp_oof_preds_0.88019.csv',  # swin_large × fold 8\n",
        "    '80':'/content/drive/MyDrive/nihonga/oof/080_exp/080_exp_oof_preds_0.89421.csv',  # vit_large except_no_chance\n",
        "    '90':'/content/drive/MyDrive/nihonga/oof/090_exp/090_exp_oof_preds_0.86506.csv',  # vit_large no Rotate ShiftScaleRotate\n",
        "    '91':'/content/drive/MyDrive/nihonga/oof/091_exp/091_exp_oof_preds_0.86952.csv',  # vit_large Clustering\n",
        "}\n",
        "\n",
        "oof = np.zeros((len(oof_dict), train_df.loc[not_no_chance].shape[0], 4))\n",
        "\n",
        "for i in range(oof.shape[0]):\n",
        "    df = pd.read_csv(list(oof_dict.values())[i]).rename(columns={'label_0':'prob_cls0','label_1':'prob_cls1','label_2':'prob_cls2','label_3':'prob_cls3'})\n",
        "    if list(oof_dict.keys())[i] in ['80']:\n",
        "      oof[i] = df.loc[:,['prob_cls0','prob_cls1','prob_cls2','prob_cls3']]\n",
        "    else:\n",
        "      oof[i] = df.loc[not_no_chance,['prob_cls0','prob_cls1','prob_cls2','prob_cls3']]#.reset_index(drop=True)"
      ]
    },
    {
      "cell_type": "code",
      "source": [
        "from numba import njit\n",
        "def log_loss_numpy(y_true, y_pred):\n",
        "\n",
        "\n",
        "    assert y_true.shape == (6371, ) # y_trainと同じ型\n",
        "    assert y_pred.shape == (6371, 4) # (data_size, num_classes)\n",
        "\n",
        "    y_true_ravel = np.asarray(y_true).ravel()\n",
        "    y_pred_ravel = np.asarray(np.argmax(y_pred, axis=1)).ravel()\n",
        "    loss = -f1_score(y_true_ravel, y_pred_ravel, average=\"macro\")\n",
        "\n",
        "    return loss.mean()"
      ],
      "metadata": {
        "id": "R0ekpeQup0AW"
      },
      "execution_count": null,
      "outputs": []
    },
    {
      "cell_type": "code",
      "source": [
        "log_loss_scores = {}\n",
        "oof_23 = pd.read_csv('/content/drive/MyDrive/nihonga/oof/023_exp/023_exp_oof_preds_0.86753.csv')\n",
        "y_train = oof_23.loc[not_no_chance,'label'].values\n",
        "\n",
        "for n, key in enumerate(oof_dict):\n",
        "    score_oof = log_loss_numpy(y_train, oof[n])\n",
        "    # log_loss_scores[key] = score_oof\n",
        "    print(f'{key} CV:\\t', score_oof)"
      ],
      "metadata": {
        "id": "MAk20Z2CoOB1",
        "colab": {
          "base_uri": "https://localhost:8080/"
        },
        "outputId": "c5e1a053-9832-4bca-ac8a-6077bd55f9db"
      },
      "execution_count": null,
      "outputs": [
        {
          "output_type": "stream",
          "name": "stdout",
          "text": [
            "57 CV:\t -0.8911836922132945\n",
            "62 CV:\t -0.8733256793129479\n",
            "69 CV:\t -0.9109026496181284\n",
            "71 CV:\t -0.886062875516114\n",
            "72 CV:\t -0.9142335994735787\n",
            "77 CV:\t -0.892108158367602\n",
            "80 CV:\t -0.8942121511712662\n",
            "90 CV:\t -0.876383021026518\n",
            "91 CV:\t -0.8810683123644206\n"
          ]
        }
      ]
    },
    {
      "cell_type": "code",
      "execution_count": null,
      "metadata": {
        "id": "lV8gL-4-soX3"
      },
      "outputs": [],
      "source": [
        "def objective(trial):\n",
        "\n",
        "    \"\"\"\n",
        "    trialで条件設定. returnにはscoreを設定.\n",
        "    \"\"\"\n",
        "\n",
        "    w_0 = trial.suggest_uniform('057', 0, 1)\n",
        "    w_1 = trial.suggest_uniform('062', 0, 1)\n",
        "    w_2 = trial.suggest_uniform('069', 0, 1)\n",
        "    w_3 = trial.suggest_uniform('071', 0, 1)\n",
        "    w_4 = trial.suggest_uniform('072', 0, 1)\n",
        "    w_5 = trial.suggest_uniform('077', 0, 1)\n",
        "    w_6 = trial.suggest_uniform('080', 0, 1)\n",
        "    w_7 = trial.suggest_uniform('090', 0, 1)\n",
        "    w_8 = trial.suggest_uniform('091', 0, 1)\n",
        "\n",
        "    pred_0 = oof[0]\n",
        "    pred_1 = oof[1]\n",
        "    pred_2 = oof[2]\n",
        "    pred_3 = oof[3]\n",
        "    pred_4 = oof[4]\n",
        "    pred_5 = oof[5]\n",
        "    pred_6 = oof[6]\n",
        "    pred_7 = oof[7]\n",
        "    pred_8 = oof[8]\n",
        "\n",
        "    pred = (\n",
        "        w_0*pred_0 + w_1*pred_1 + w_2*pred_2 + w_3*pred_3 + w_4*pred_4 + w_5*pred_5 + w_6*pred_6 + w_7*pred_7 + w_8*pred_8) / 9\n",
        "\n",
        "    score = f1_score(y_train, np.argmax(pred, axis=1), average=\"macro\")\n",
        "\n",
        "    return score"
      ]
    },
    {
      "cell_type": "code",
      "execution_count": null,
      "metadata": {
        "colab": {
          "base_uri": "https://localhost:8080/",
          "referenced_widgets": [
            "61d2d242ed274d8db9c3d430cb29651b",
            "74b2c6a3cdd34e218d094b18929b57ff",
            "d7d6d4d42c014b20860dd8a3eb764117",
            "32f59ae9579246888001a17402bf23c8",
            "c4282c701a404bf99b694e53d28570bd",
            "f97f9e5f04514b56b7eabb30833b6736",
            "f672ac92e70d45c1bf496c7ff22a2344",
            "3f0bff120e654ec4ad8e7fc9460bd60d",
            "342847bcf63149078fdc39064b203f82",
            "738adda2850d43da8a74abb388ee5f76",
            "6e39edfa319e46479ca84e60a1d24ee7"
          ],
          "height": 67
        },
        "id": "4aTKNyuHtwlB",
        "outputId": "a0d56a36-b3c9-45e8-ea55-14a54a20094c"
      },
      "outputs": [
        {
          "output_type": "stream",
          "name": "stderr",
          "text": [
            "\u001b[32m[I 2022-08-07 10:06:18,933]\u001b[0m A new study created in memory with name: no-name-8f683d02-3097-4f15-9ff7-5c2c31895684\u001b[0m\n"
          ]
        },
        {
          "output_type": "display_data",
          "data": {
            "text/plain": [
              "0it [00:00, ?it/s]"
            ],
            "application/vnd.jupyter.widget-view+json": {
              "version_major": 2,
              "version_minor": 0,
              "model_id": "61d2d242ed274d8db9c3d430cb29651b"
            }
          },
          "metadata": {}
        }
      ],
      "source": [
        "# Optuna\n",
        "import optuna\n",
        "study1 = optuna.create_study(direction=\"maximize\", sampler=optuna.samplers.TPESampler(seed=CONFIG.seed))\n",
        "optuna.logging.set_verbosity(0)\n",
        "study1.optimize(objective, n_trials=None, timeout=3600 , show_progress_bar=True)"
      ]
    },
    {
      "cell_type": "code",
      "execution_count": null,
      "metadata": {
        "colab": {
          "base_uri": "https://localhost:8080/"
        },
        "id": "SCCvLpWOt3WB",
        "outputId": "8a0bf2eb-e3b4-43ec-b9ab-a87d0b4c65b3"
      },
      "outputs": [
        {
          "output_type": "execute_result",
          "data": {
            "text/plain": [
              "(FrozenTrial(number=4082, values=[0.9248963284128384], datetime_start=datetime.datetime(2022, 8, 7, 10, 20, 45, 654878), datetime_complete=datetime.datetime(2022, 8, 7, 10, 20, 46, 92729), params={'057': 0.03662771435880145, '062': 0.6456895062010378, '069': 0.767585730424722, '071': 0.201966805061484, '072': 0.9177757523567417, '077': 0.1660469939934455, '080': 0.5467513584465835, '090': 0.4818722856865231, '091': 0.07396190365535829}, distributions={'057': UniformDistribution(high=1.0, low=0.0), '062': UniformDistribution(high=1.0, low=0.0), '069': UniformDistribution(high=1.0, low=0.0), '071': UniformDistribution(high=1.0, low=0.0), '072': UniformDistribution(high=1.0, low=0.0), '077': UniformDistribution(high=1.0, low=0.0), '080': UniformDistribution(high=1.0, low=0.0), '090': UniformDistribution(high=1.0, low=0.0), '091': UniformDistribution(high=1.0, low=0.0)}, user_attrs={}, system_attrs={}, intermediate_values={}, trial_id=4082, state=TrialState.COMPLETE, value=None),\n",
              " 0.9248963284128384)"
            ]
          },
          "metadata": {},
          "execution_count": 32
        }
      ],
      "source": [
        "study1.best_trial, study1.best_value"
      ]
    },
    {
      "cell_type": "code",
      "execution_count": null,
      "metadata": {
        "colab": {
          "base_uri": "https://localhost:8080/"
        },
        "id": "0DMFM6ZNt3fz",
        "outputId": "4ee5592c-8258-4cb4-e415-4dafc9d3b7be"
      },
      "outputs": [
        {
          "output_type": "stream",
          "name": "stdout",
          "text": [
            "CV Score is 0.92490\n"
          ]
        }
      ],
      "source": [
        "CV_SCORE = study1.best_trial.values[0]\n",
        "print(f\"CV Score is {CV_SCORE:.5f}\")"
      ]
    },
    {
      "cell_type": "code",
      "execution_count": null,
      "metadata": {
        "colab": {
          "base_uri": "https://localhost:8080/"
        },
        "id": "PxeT-6x7t6iv",
        "outputId": "702ce557-e0ad-4f41-cee2-7e614b5baaf9"
      },
      "outputs": [
        {
          "output_type": "stream",
          "name": "stdout",
          "text": [
            "| exp no.| weight |\n",
            "|:---------:|:----------:|\n",
            "| 057 | 0.03662771435880145 |\n",
            "| 062 | 0.6456895062010378 |\n",
            "| 069 | 0.767585730424722 |\n",
            "| 071 | 0.201966805061484 |\n",
            "| 072 | 0.9177757523567417 |\n",
            "| 077 | 0.1660469939934455 |\n",
            "| 080 | 0.5467513584465835 |\n",
            "| 090 | 0.4818722856865231 |\n",
            "| 091 | 0.07396190365535829 |\n"
          ]
        }
      ],
      "source": [
        "print(\"| exp no.| weight |\")\n",
        "print(\"|:---------:|:----------:|\")\n",
        "\n",
        "for k, v in study1.best_trial.params.items():\n",
        "    print(f\"| {k} | {v} |\")"
      ]
    },
    {
      "cell_type": "code",
      "execution_count": null,
      "metadata": {
        "id": "iqTzQe1nt91f"
      },
      "outputs": [],
      "source": [
        "sub_list = [\n",
        "    '/content/drive/MyDrive/nihonga/sub/057_exp/057_exp_sub_preds_0.87841.csv',\n",
        "    '/content/drive/MyDrive/nihonga/sub/062_exp/062_exp_sub_preds_0.86057.csv',\n",
        "    '/content/drive/MyDrive/nihonga/sub/069_exp/069_exp_sub_preds_0.89750.csv',\n",
        "    '/content/drive/MyDrive/nihonga/sub/071_exp/071_exp_sub_preds_0.87404.csv',\n",
        "    '/content/drive/MyDrive/nihonga/sub/072_exp/072_exp_sub_preds_0.90127.csv',\n",
        "    '/content/drive/MyDrive/nihonga/sub/077_exp/077_exp_sub_preds_0.88019.csv',\n",
        "    '/content/drive/MyDrive/nihonga/sub/080_exp/080_exp_sub_preds_0.89421.csv',\n",
        "    '/content/drive/MyDrive/nihonga/sub/090_exp/090_exp_sub_preds_0.86506.csv',\n",
        "    '/content/drive/MyDrive/nihonga/sub/091_exp/091_exp_sub_preds_0.86952.csv',\n",
        "]\n",
        "\n",
        "sub = []\n",
        "\n",
        "for i in range(len(sub_list)):\n",
        "\n",
        "    sub.append(pd.read_csv(sub_list[i]))"
      ]
    },
    {
      "cell_type": "code",
      "execution_count": null,
      "metadata": {
        "id": "Oee-DGzMuAAt"
      },
      "outputs": [],
      "source": [
        "opt_sub = np.zeros((2000,4))\n",
        "tmp = 0\n",
        "\n",
        "for n, (k, v) in enumerate(study1.best_trial.params.items()):\n",
        "\n",
        "    if \"id\" in sub[n].columns.tolist():\n",
        "        sub[n] = sub[n].drop(\"id\", axis=1)\n",
        "\n",
        "    opt_sub += sub[n].values *v\n",
        "    tmp += v\n",
        "opt_sub /= tmp"
      ]
    },
    {
      "cell_type": "code",
      "source": [
        "opt_oof = np.zeros((6371,4))\n",
        "tmp = 0\n",
        "for n, (k, v) in enumerate(study1.best_trial.params.items()):\n",
        "  \n",
        "  opt_oof += oof[n] * v\n",
        "  tmp += v\n",
        "opt_oof /= tmp"
      ],
      "metadata": {
        "id": "sn7rJnVqgyl_"
      },
      "execution_count": null,
      "outputs": []
    },
    {
      "cell_type": "code",
      "execution_count": null,
      "metadata": {
        "id": "xvt0_xduuEmi"
      },
      "outputs": [],
      "source": [
        "sub_df[\"y\"] = np.argmax(opt_sub, axis=1)\n",
        "sub_df.to_csv(os.path.join(SUB_DIR, f\"{CONFIG.exp_name}__sub__{CV_SCORE:.5f}_optuna_selected.csv\"), index=False)"
      ]
    },
    {
      "cell_type": "code",
      "source": [
        "sub_df[['label_0','label_1','label_2','label_3']] = opt_sub\n",
        "sub_df.to_csv(os.path.join(SUB_DIR, f\"{CONFIG.exp_name}__sub__prob__{CV_SCORE:.5f}_optuna_selected.csv\"), index=False)"
      ],
      "metadata": {
        "id": "8yM2OTAvgsiV"
      },
      "execution_count": null,
      "outputs": []
    },
    {
      "cell_type": "code",
      "source": [
        "oof_df = pd.DataFrame(opt_oof,columns=['label_0','label_1','label_2','label_3'])\n",
        "oof_df = pd.concat([train_df.loc[not_no_chance],oof_df],axis=1)\n",
        "oof_df.to_csv(os.path.join(OOF_DIR, f\"{CONFIG.exp_name}__oof__prob__{CV_SCORE:.5f}_optuna_selected.csv\"), index=False)"
      ],
      "metadata": {
        "id": "_wgb6b95w2ln"
      },
      "execution_count": null,
      "outputs": []
    },
    {
      "cell_type": "markdown",
      "source": [
        "### ローランドモデルを組み込んでOptuna"
      ],
      "metadata": {
        "id": "tIMM5KcGf3Ko"
      }
    },
    {
      "cell_type": "code",
      "source": [
        "score_oof = log_loss_numpy(y_train, opt_oof)\n",
        "print(f'CV:\\t', score_oof)"
      ],
      "metadata": {
        "colab": {
          "base_uri": "https://localhost:8080/"
        },
        "id": "5zHSFgbcMQUB",
        "outputId": "012aa1e7-5f64-431a-b91f-9a88eaa19723"
      },
      "execution_count": null,
      "outputs": [
        {
          "output_type": "stream",
          "name": "stdout",
          "text": [
            "CV:\t -0.9248963284128384\n"
          ]
        }
      ]
    },
    {
      "cell_type": "code",
      "source": [
        "ensemble = (pd.DataFrame(opt_oof[:,0], columns=['label_0']))\n",
        "ensemble.head()"
      ],
      "metadata": {
        "colab": {
          "base_uri": "https://localhost:8080/",
          "height": 206
        },
        "id": "OCr_-cibN0yF",
        "outputId": "e5a748ff-3285-4ce6-8343-06669978fd82"
      },
      "execution_count": null,
      "outputs": [
        {
          "output_type": "execute_result",
          "data": {
            "text/plain": [
              "    label_0\n",
              "0  0.024863\n",
              "1  0.002315\n",
              "2  0.993046\n",
              "3  0.095159\n",
              "4  0.984348"
            ],
            "text/html": [
              "\n",
              "  <div id=\"df-2112641e-dd26-4de3-bc58-045780cf4e57\">\n",
              "    <div class=\"colab-df-container\">\n",
              "      <div>\n",
              "<style scoped>\n",
              "    .dataframe tbody tr th:only-of-type {\n",
              "        vertical-align: middle;\n",
              "    }\n",
              "\n",
              "    .dataframe tbody tr th {\n",
              "        vertical-align: top;\n",
              "    }\n",
              "\n",
              "    .dataframe thead th {\n",
              "        text-align: right;\n",
              "    }\n",
              "</style>\n",
              "<table border=\"1\" class=\"dataframe\">\n",
              "  <thead>\n",
              "    <tr style=\"text-align: right;\">\n",
              "      <th></th>\n",
              "      <th>label_0</th>\n",
              "    </tr>\n",
              "  </thead>\n",
              "  <tbody>\n",
              "    <tr>\n",
              "      <th>0</th>\n",
              "      <td>0.024863</td>\n",
              "    </tr>\n",
              "    <tr>\n",
              "      <th>1</th>\n",
              "      <td>0.002315</td>\n",
              "    </tr>\n",
              "    <tr>\n",
              "      <th>2</th>\n",
              "      <td>0.993046</td>\n",
              "    </tr>\n",
              "    <tr>\n",
              "      <th>3</th>\n",
              "      <td>0.095159</td>\n",
              "    </tr>\n",
              "    <tr>\n",
              "      <th>4</th>\n",
              "      <td>0.984348</td>\n",
              "    </tr>\n",
              "  </tbody>\n",
              "</table>\n",
              "</div>\n",
              "      <button class=\"colab-df-convert\" onclick=\"convertToInteractive('df-2112641e-dd26-4de3-bc58-045780cf4e57')\"\n",
              "              title=\"Convert this dataframe to an interactive table.\"\n",
              "              style=\"display:none;\">\n",
              "        \n",
              "  <svg xmlns=\"http://www.w3.org/2000/svg\" height=\"24px\"viewBox=\"0 0 24 24\"\n",
              "       width=\"24px\">\n",
              "    <path d=\"M0 0h24v24H0V0z\" fill=\"none\"/>\n",
              "    <path d=\"M18.56 5.44l.94 2.06.94-2.06 2.06-.94-2.06-.94-.94-2.06-.94 2.06-2.06.94zm-11 1L8.5 8.5l.94-2.06 2.06-.94-2.06-.94L8.5 2.5l-.94 2.06-2.06.94zm10 10l.94 2.06.94-2.06 2.06-.94-2.06-.94-.94-2.06-.94 2.06-2.06.94z\"/><path d=\"M17.41 7.96l-1.37-1.37c-.4-.4-.92-.59-1.43-.59-.52 0-1.04.2-1.43.59L10.3 9.45l-7.72 7.72c-.78.78-.78 2.05 0 2.83L4 21.41c.39.39.9.59 1.41.59.51 0 1.02-.2 1.41-.59l7.78-7.78 2.81-2.81c.8-.78.8-2.07 0-2.86zM5.41 20L4 18.59l7.72-7.72 1.47 1.35L5.41 20z\"/>\n",
              "  </svg>\n",
              "      </button>\n",
              "      \n",
              "  <style>\n",
              "    .colab-df-container {\n",
              "      display:flex;\n",
              "      flex-wrap:wrap;\n",
              "      gap: 12px;\n",
              "    }\n",
              "\n",
              "    .colab-df-convert {\n",
              "      background-color: #E8F0FE;\n",
              "      border: none;\n",
              "      border-radius: 50%;\n",
              "      cursor: pointer;\n",
              "      display: none;\n",
              "      fill: #1967D2;\n",
              "      height: 32px;\n",
              "      padding: 0 0 0 0;\n",
              "      width: 32px;\n",
              "    }\n",
              "\n",
              "    .colab-df-convert:hover {\n",
              "      background-color: #E2EBFA;\n",
              "      box-shadow: 0px 1px 2px rgba(60, 64, 67, 0.3), 0px 1px 3px 1px rgba(60, 64, 67, 0.15);\n",
              "      fill: #174EA6;\n",
              "    }\n",
              "\n",
              "    [theme=dark] .colab-df-convert {\n",
              "      background-color: #3B4455;\n",
              "      fill: #D2E3FC;\n",
              "    }\n",
              "\n",
              "    [theme=dark] .colab-df-convert:hover {\n",
              "      background-color: #434B5C;\n",
              "      box-shadow: 0px 1px 3px 1px rgba(0, 0, 0, 0.15);\n",
              "      filter: drop-shadow(0px 1px 2px rgba(0, 0, 0, 0.3));\n",
              "      fill: #FFFFFF;\n",
              "    }\n",
              "  </style>\n",
              "\n",
              "      <script>\n",
              "        const buttonEl =\n",
              "          document.querySelector('#df-2112641e-dd26-4de3-bc58-045780cf4e57 button.colab-df-convert');\n",
              "        buttonEl.style.display =\n",
              "          google.colab.kernel.accessAllowed ? 'block' : 'none';\n",
              "\n",
              "        async function convertToInteractive(key) {\n",
              "          const element = document.querySelector('#df-2112641e-dd26-4de3-bc58-045780cf4e57');\n",
              "          const dataTable =\n",
              "            await google.colab.kernel.invokeFunction('convertToInteractive',\n",
              "                                                     [key], {});\n",
              "          if (!dataTable) return;\n",
              "\n",
              "          const docLinkHtml = 'Like what you see? Visit the ' +\n",
              "            '<a target=\"_blank\" href=https://colab.research.google.com/notebooks/data_table.ipynb>data table notebook</a>'\n",
              "            + ' to learn more about interactive tables.';\n",
              "          element.innerHTML = '';\n",
              "          dataTable['output_type'] = 'display_data';\n",
              "          await google.colab.output.renderOutput(dataTable, element);\n",
              "          const docLink = document.createElement('div');\n",
              "          docLink.innerHTML = docLinkHtml;\n",
              "          element.appendChild(docLink);\n",
              "        }\n",
              "      </script>\n",
              "    </div>\n",
              "  </div>\n",
              "  "
            ]
          },
          "metadata": {},
          "execution_count": 44
        }
      ]
    },
    {
      "cell_type": "code",
      "source": [
        "y_train = oof_23.loc[not_no_chance,'label'].values\n",
        "y_train = np.where(y_train==0,1,0)\n",
        "y_train"
      ],
      "metadata": {
        "colab": {
          "base_uri": "https://localhost:8080/"
        },
        "id": "kNGB5CroPFm9",
        "outputId": "ab2ceed9-c692-4752-e048-81e588c6114d"
      },
      "execution_count": null,
      "outputs": [
        {
          "output_type": "execute_result",
          "data": {
            "text/plain": [
              "array([0, 0, 1, ..., 1, 0, 0])"
            ]
          },
          "metadata": {},
          "execution_count": 45
        }
      ]
    },
    {
      "cell_type": "code",
      "source": [
        "score_oof = f1_score(y_train, np.round(ensemble,0))\n",
        "print(f'CV:\\t', score_oof)"
      ],
      "metadata": {
        "colab": {
          "base_uri": "https://localhost:8080/"
        },
        "id": "T9Om0OU61kUa",
        "outputId": "b2e7a167-fc0e-41ef-c050-69e4dd362c29"
      },
      "execution_count": null,
      "outputs": [
        {
          "output_type": "stream",
          "name": "stdout",
          "text": [
            "CV:\t 0.9645507007419621\n"
          ]
        }
      ]
    },
    {
      "cell_type": "code",
      "source": [
        "roland = pd.read_csv('/content/drive/MyDrive/nihonga/oof/098_exp/098_exp_oof_preds_0.95245.csv')\n",
        "roland = roland[['label_0']].reset_index(drop=True)\n",
        "roland.head()"
      ],
      "metadata": {
        "colab": {
          "base_uri": "https://localhost:8080/",
          "height": 206
        },
        "id": "erF5HeDFMVy6",
        "outputId": "70aff2cf-ee7c-42b1-b2c6-8117ff0bf65f"
      },
      "execution_count": null,
      "outputs": [
        {
          "output_type": "execute_result",
          "data": {
            "text/plain": [
              "    label_0\n",
              "0  0.000043\n",
              "1  0.000013\n",
              "2  0.999434\n",
              "3  0.000038\n",
              "4  0.999949"
            ],
            "text/html": [
              "\n",
              "  <div id=\"df-a4a8c4a5-16b6-4999-adee-647a5acb5f2b\">\n",
              "    <div class=\"colab-df-container\">\n",
              "      <div>\n",
              "<style scoped>\n",
              "    .dataframe tbody tr th:only-of-type {\n",
              "        vertical-align: middle;\n",
              "    }\n",
              "\n",
              "    .dataframe tbody tr th {\n",
              "        vertical-align: top;\n",
              "    }\n",
              "\n",
              "    .dataframe thead th {\n",
              "        text-align: right;\n",
              "    }\n",
              "</style>\n",
              "<table border=\"1\" class=\"dataframe\">\n",
              "  <thead>\n",
              "    <tr style=\"text-align: right;\">\n",
              "      <th></th>\n",
              "      <th>label_0</th>\n",
              "    </tr>\n",
              "  </thead>\n",
              "  <tbody>\n",
              "    <tr>\n",
              "      <th>0</th>\n",
              "      <td>0.000043</td>\n",
              "    </tr>\n",
              "    <tr>\n",
              "      <th>1</th>\n",
              "      <td>0.000013</td>\n",
              "    </tr>\n",
              "    <tr>\n",
              "      <th>2</th>\n",
              "      <td>0.999434</td>\n",
              "    </tr>\n",
              "    <tr>\n",
              "      <th>3</th>\n",
              "      <td>0.000038</td>\n",
              "    </tr>\n",
              "    <tr>\n",
              "      <th>4</th>\n",
              "      <td>0.999949</td>\n",
              "    </tr>\n",
              "  </tbody>\n",
              "</table>\n",
              "</div>\n",
              "      <button class=\"colab-df-convert\" onclick=\"convertToInteractive('df-a4a8c4a5-16b6-4999-adee-647a5acb5f2b')\"\n",
              "              title=\"Convert this dataframe to an interactive table.\"\n",
              "              style=\"display:none;\">\n",
              "        \n",
              "  <svg xmlns=\"http://www.w3.org/2000/svg\" height=\"24px\"viewBox=\"0 0 24 24\"\n",
              "       width=\"24px\">\n",
              "    <path d=\"M0 0h24v24H0V0z\" fill=\"none\"/>\n",
              "    <path d=\"M18.56 5.44l.94 2.06.94-2.06 2.06-.94-2.06-.94-.94-2.06-.94 2.06-2.06.94zm-11 1L8.5 8.5l.94-2.06 2.06-.94-2.06-.94L8.5 2.5l-.94 2.06-2.06.94zm10 10l.94 2.06.94-2.06 2.06-.94-2.06-.94-.94-2.06-.94 2.06-2.06.94z\"/><path d=\"M17.41 7.96l-1.37-1.37c-.4-.4-.92-.59-1.43-.59-.52 0-1.04.2-1.43.59L10.3 9.45l-7.72 7.72c-.78.78-.78 2.05 0 2.83L4 21.41c.39.39.9.59 1.41.59.51 0 1.02-.2 1.41-.59l7.78-7.78 2.81-2.81c.8-.78.8-2.07 0-2.86zM5.41 20L4 18.59l7.72-7.72 1.47 1.35L5.41 20z\"/>\n",
              "  </svg>\n",
              "      </button>\n",
              "      \n",
              "  <style>\n",
              "    .colab-df-container {\n",
              "      display:flex;\n",
              "      flex-wrap:wrap;\n",
              "      gap: 12px;\n",
              "    }\n",
              "\n",
              "    .colab-df-convert {\n",
              "      background-color: #E8F0FE;\n",
              "      border: none;\n",
              "      border-radius: 50%;\n",
              "      cursor: pointer;\n",
              "      display: none;\n",
              "      fill: #1967D2;\n",
              "      height: 32px;\n",
              "      padding: 0 0 0 0;\n",
              "      width: 32px;\n",
              "    }\n",
              "\n",
              "    .colab-df-convert:hover {\n",
              "      background-color: #E2EBFA;\n",
              "      box-shadow: 0px 1px 2px rgba(60, 64, 67, 0.3), 0px 1px 3px 1px rgba(60, 64, 67, 0.15);\n",
              "      fill: #174EA6;\n",
              "    }\n",
              "\n",
              "    [theme=dark] .colab-df-convert {\n",
              "      background-color: #3B4455;\n",
              "      fill: #D2E3FC;\n",
              "    }\n",
              "\n",
              "    [theme=dark] .colab-df-convert:hover {\n",
              "      background-color: #434B5C;\n",
              "      box-shadow: 0px 1px 3px 1px rgba(0, 0, 0, 0.15);\n",
              "      filter: drop-shadow(0px 1px 2px rgba(0, 0, 0, 0.3));\n",
              "      fill: #FFFFFF;\n",
              "    }\n",
              "  </style>\n",
              "\n",
              "      <script>\n",
              "        const buttonEl =\n",
              "          document.querySelector('#df-a4a8c4a5-16b6-4999-adee-647a5acb5f2b button.colab-df-convert');\n",
              "        buttonEl.style.display =\n",
              "          google.colab.kernel.accessAllowed ? 'block' : 'none';\n",
              "\n",
              "        async function convertToInteractive(key) {\n",
              "          const element = document.querySelector('#df-a4a8c4a5-16b6-4999-adee-647a5acb5f2b');\n",
              "          const dataTable =\n",
              "            await google.colab.kernel.invokeFunction('convertToInteractive',\n",
              "                                                     [key], {});\n",
              "          if (!dataTable) return;\n",
              "\n",
              "          const docLinkHtml = 'Like what you see? Visit the ' +\n",
              "            '<a target=\"_blank\" href=https://colab.research.google.com/notebooks/data_table.ipynb>data table notebook</a>'\n",
              "            + ' to learn more about interactive tables.';\n",
              "          element.innerHTML = '';\n",
              "          dataTable['output_type'] = 'display_data';\n",
              "          await google.colab.output.renderOutput(dataTable, element);\n",
              "          const docLink = document.createElement('div');\n",
              "          docLink.innerHTML = docLinkHtml;\n",
              "          element.appendChild(docLink);\n",
              "        }\n",
              "      </script>\n",
              "    </div>\n",
              "  </div>\n",
              "  "
            ]
          },
          "metadata": {},
          "execution_count": 47
        }
      ]
    },
    {
      "cell_type": "code",
      "source": [
        "def objective(trial):\n",
        "\n",
        "    \"\"\"\n",
        "    trialで条件設定. returnにはscoreを設定.\n",
        "    \"\"\"\n",
        "\n",
        "    w_0 = trial.suggest_uniform('roland', 0, 1)\n",
        "    w_1 = trial.suggest_uniform('ensemble', 0, 1)\n",
        "\n",
        "    pred_0 = roland\n",
        "    pred_1 = ensemble\n",
        "\n",
        "\n",
        "    pred = (\n",
        "        w_0*pred_0 + w_1*pred_1) / 2\n",
        "    score = f1_score(y_train, np.round(pred, 0))\n",
        "\n",
        "    return score"
      ],
      "metadata": {
        "id": "stQHQy3jMVmt"
      },
      "execution_count": null,
      "outputs": []
    },
    {
      "cell_type": "code",
      "source": [
        "# Optuna\n",
        "import optuna\n",
        "study1 = optuna.create_study(direction=\"maximize\", sampler=optuna.samplers.TPESampler(seed=CONFIG.seed))\n",
        "optuna.logging.set_verbosity(0)\n",
        "study1.optimize(objective, n_trials=None,timeout=3600, show_progress_bar=True)"
      ],
      "metadata": {
        "colab": {
          "base_uri": "https://localhost:8080/",
          "height": 49,
          "referenced_widgets": [
            "6ba9dfa4aa01407a9228492dff71d72e",
            "8a7f955035a141d7b34cbc317093c3d9",
            "4254afd9b023480bbfa011d3fd684946",
            "47e64706828a477096b679d744cc7e63",
            "3e9b914b42294fe6a240cc7ea772a530",
            "d6ac980a1c34483cb6c2fe14ca00bca4",
            "da46223788fa40458968875bb0da9ffb",
            "beb14d519f444f6194ae0ce68e1e7c8f",
            "8b7776fa469e434db94075964f19bdb3",
            "7ce6ea7eebc348e28f05c4653a6669ea",
            "7533be32b3a94b62b75899cbb33405bd"
          ]
        },
        "id": "VGx-3l0rPfWB",
        "outputId": "0b20bdc4-ca2d-4a40-debc-f13feb2f3ac0"
      },
      "execution_count": null,
      "outputs": [
        {
          "output_type": "display_data",
          "data": {
            "text/plain": [
              "0it [00:00, ?it/s]"
            ],
            "application/vnd.jupyter.widget-view+json": {
              "version_major": 2,
              "version_minor": 0,
              "model_id": "6ba9dfa4aa01407a9228492dff71d72e"
            }
          },
          "metadata": {}
        }
      ]
    },
    {
      "cell_type": "code",
      "source": [
        "study1.best_trial, study1.best_value"
      ],
      "metadata": {
        "colab": {
          "base_uri": "https://localhost:8080/"
        },
        "id": "AF4NbLWOY2OC",
        "outputId": "ce1a346b-315c-4177-f99c-596029287794"
      },
      "execution_count": null,
      "outputs": [
        {
          "output_type": "execute_result",
          "data": {
            "text/plain": [
              "(FrozenTrial(number=558, values=[0.9608863521907001], datetime_start=datetime.datetime(2022, 8, 7, 11, 12, 13, 392180), datetime_complete=datetime.datetime(2022, 8, 7, 11, 12, 13, 412329), params={'roland': 0.5721136598002166, 'ensemble': 0.9998795334367047}, distributions={'roland': UniformDistribution(high=1.0, low=0.0), 'ensemble': UniformDistribution(high=1.0, low=0.0)}, user_attrs={}, system_attrs={}, intermediate_values={}, trial_id=558, state=TrialState.COMPLETE, value=None),\n",
              " 0.9608863521907001)"
            ]
          },
          "metadata": {},
          "execution_count": 50
        }
      ]
    },
    {
      "cell_type": "code",
      "source": [
        "CV_SCORE = study1.best_trial.values[0]\n",
        "print(f\"CV Score is {CV_SCORE:.5f}\")"
      ],
      "metadata": {
        "colab": {
          "base_uri": "https://localhost:8080/"
        },
        "id": "HxSqz9YvZHw6",
        "outputId": "81ab008b-87ac-48a3-9989-3d4582109513"
      },
      "execution_count": null,
      "outputs": [
        {
          "output_type": "stream",
          "name": "stdout",
          "text": [
            "CV Score is 0.96089\n"
          ]
        }
      ]
    },
    {
      "cell_type": "code",
      "source": [
        "print(\"| exp no.| weight |\")\n",
        "print(\"|:---------:|:----------:|\")\n",
        "\n",
        "for k, v in study1.best_trial.params.items():\n",
        "    print(f\"| {k} | {v} |\")"
      ],
      "metadata": {
        "colab": {
          "base_uri": "https://localhost:8080/"
        },
        "id": "XkkA79ctY-hs",
        "outputId": "2497c804-6132-4039-f706-08ca1bfd19c6"
      },
      "execution_count": null,
      "outputs": [
        {
          "output_type": "stream",
          "name": "stdout",
          "text": [
            "| exp no.| weight |\n",
            "|:---------:|:----------:|\n",
            "| roland | 0.5721136598002166 |\n",
            "| ensemble | 0.9998795334367047 |\n"
          ]
        }
      ]
    },
    {
      "cell_type": "markdown",
      "source": [
        "#### label_0のみを平均する"
      ],
      "metadata": {
        "id": "tstV8xtkCmR3"
      }
    },
    {
      "cell_type": "code",
      "source": [
        "sub_df = pd.read_csv(os.path.join(SUB_DIR, f\"{CONFIG.exp_name}__sub__prob__0.92490_optuna_selected.csv\"))\n",
        "sub_df"
      ],
      "metadata": {
        "colab": {
          "base_uri": "https://localhost:8080/",
          "height": 424
        },
        "id": "tPGXBMXtCl2g",
        "outputId": "e47b8bf4-0740-4be3-dc14-aef6b6c1a116"
      },
      "execution_count": null,
      "outputs": [
        {
          "output_type": "execute_result",
          "data": {
            "text/plain": [
              "        id  y   label_0   label_1   label_2   label_3\n",
              "0        1  1  0.001369  0.996196  0.000423  0.002012\n",
              "1        2  0  0.929821  0.068593  0.000776  0.000810\n",
              "2        3  0  0.997114  0.001245  0.001415  0.000226\n",
              "3        4  2  0.040992  0.001882  0.908700  0.048426\n",
              "4        5  1  0.010843  0.888067  0.100104  0.000986\n",
              "...    ... ..       ...       ...       ...       ...\n",
              "1995  1996  1  0.002801  0.990370  0.001444  0.005384\n",
              "1996  1997  1  0.002087  0.996129  0.000325  0.001459\n",
              "1997  1998  2  0.005386  0.005685  0.987290  0.001638\n",
              "1998  1999  1  0.026871  0.917574  0.005811  0.049745\n",
              "1999  2000  1  0.002590  0.996983  0.000181  0.000246\n",
              "\n",
              "[2000 rows x 6 columns]"
            ],
            "text/html": [
              "\n",
              "  <div id=\"df-00b7d2ec-847f-4f9f-b6ab-688a5603c6fd\">\n",
              "    <div class=\"colab-df-container\">\n",
              "      <div>\n",
              "<style scoped>\n",
              "    .dataframe tbody tr th:only-of-type {\n",
              "        vertical-align: middle;\n",
              "    }\n",
              "\n",
              "    .dataframe tbody tr th {\n",
              "        vertical-align: top;\n",
              "    }\n",
              "\n",
              "    .dataframe thead th {\n",
              "        text-align: right;\n",
              "    }\n",
              "</style>\n",
              "<table border=\"1\" class=\"dataframe\">\n",
              "  <thead>\n",
              "    <tr style=\"text-align: right;\">\n",
              "      <th></th>\n",
              "      <th>id</th>\n",
              "      <th>y</th>\n",
              "      <th>label_0</th>\n",
              "      <th>label_1</th>\n",
              "      <th>label_2</th>\n",
              "      <th>label_3</th>\n",
              "    </tr>\n",
              "  </thead>\n",
              "  <tbody>\n",
              "    <tr>\n",
              "      <th>0</th>\n",
              "      <td>1</td>\n",
              "      <td>1</td>\n",
              "      <td>0.001369</td>\n",
              "      <td>0.996196</td>\n",
              "      <td>0.000423</td>\n",
              "      <td>0.002012</td>\n",
              "    </tr>\n",
              "    <tr>\n",
              "      <th>1</th>\n",
              "      <td>2</td>\n",
              "      <td>0</td>\n",
              "      <td>0.929821</td>\n",
              "      <td>0.068593</td>\n",
              "      <td>0.000776</td>\n",
              "      <td>0.000810</td>\n",
              "    </tr>\n",
              "    <tr>\n",
              "      <th>2</th>\n",
              "      <td>3</td>\n",
              "      <td>0</td>\n",
              "      <td>0.997114</td>\n",
              "      <td>0.001245</td>\n",
              "      <td>0.001415</td>\n",
              "      <td>0.000226</td>\n",
              "    </tr>\n",
              "    <tr>\n",
              "      <th>3</th>\n",
              "      <td>4</td>\n",
              "      <td>2</td>\n",
              "      <td>0.040992</td>\n",
              "      <td>0.001882</td>\n",
              "      <td>0.908700</td>\n",
              "      <td>0.048426</td>\n",
              "    </tr>\n",
              "    <tr>\n",
              "      <th>4</th>\n",
              "      <td>5</td>\n",
              "      <td>1</td>\n",
              "      <td>0.010843</td>\n",
              "      <td>0.888067</td>\n",
              "      <td>0.100104</td>\n",
              "      <td>0.000986</td>\n",
              "    </tr>\n",
              "    <tr>\n",
              "      <th>...</th>\n",
              "      <td>...</td>\n",
              "      <td>...</td>\n",
              "      <td>...</td>\n",
              "      <td>...</td>\n",
              "      <td>...</td>\n",
              "      <td>...</td>\n",
              "    </tr>\n",
              "    <tr>\n",
              "      <th>1995</th>\n",
              "      <td>1996</td>\n",
              "      <td>1</td>\n",
              "      <td>0.002801</td>\n",
              "      <td>0.990370</td>\n",
              "      <td>0.001444</td>\n",
              "      <td>0.005384</td>\n",
              "    </tr>\n",
              "    <tr>\n",
              "      <th>1996</th>\n",
              "      <td>1997</td>\n",
              "      <td>1</td>\n",
              "      <td>0.002087</td>\n",
              "      <td>0.996129</td>\n",
              "      <td>0.000325</td>\n",
              "      <td>0.001459</td>\n",
              "    </tr>\n",
              "    <tr>\n",
              "      <th>1997</th>\n",
              "      <td>1998</td>\n",
              "      <td>2</td>\n",
              "      <td>0.005386</td>\n",
              "      <td>0.005685</td>\n",
              "      <td>0.987290</td>\n",
              "      <td>0.001638</td>\n",
              "    </tr>\n",
              "    <tr>\n",
              "      <th>1998</th>\n",
              "      <td>1999</td>\n",
              "      <td>1</td>\n",
              "      <td>0.026871</td>\n",
              "      <td>0.917574</td>\n",
              "      <td>0.005811</td>\n",
              "      <td>0.049745</td>\n",
              "    </tr>\n",
              "    <tr>\n",
              "      <th>1999</th>\n",
              "      <td>2000</td>\n",
              "      <td>1</td>\n",
              "      <td>0.002590</td>\n",
              "      <td>0.996983</td>\n",
              "      <td>0.000181</td>\n",
              "      <td>0.000246</td>\n",
              "    </tr>\n",
              "  </tbody>\n",
              "</table>\n",
              "<p>2000 rows × 6 columns</p>\n",
              "</div>\n",
              "      <button class=\"colab-df-convert\" onclick=\"convertToInteractive('df-00b7d2ec-847f-4f9f-b6ab-688a5603c6fd')\"\n",
              "              title=\"Convert this dataframe to an interactive table.\"\n",
              "              style=\"display:none;\">\n",
              "        \n",
              "  <svg xmlns=\"http://www.w3.org/2000/svg\" height=\"24px\"viewBox=\"0 0 24 24\"\n",
              "       width=\"24px\">\n",
              "    <path d=\"M0 0h24v24H0V0z\" fill=\"none\"/>\n",
              "    <path d=\"M18.56 5.44l.94 2.06.94-2.06 2.06-.94-2.06-.94-.94-2.06-.94 2.06-2.06.94zm-11 1L8.5 8.5l.94-2.06 2.06-.94-2.06-.94L8.5 2.5l-.94 2.06-2.06.94zm10 10l.94 2.06.94-2.06 2.06-.94-2.06-.94-.94-2.06-.94 2.06-2.06.94z\"/><path d=\"M17.41 7.96l-1.37-1.37c-.4-.4-.92-.59-1.43-.59-.52 0-1.04.2-1.43.59L10.3 9.45l-7.72 7.72c-.78.78-.78 2.05 0 2.83L4 21.41c.39.39.9.59 1.41.59.51 0 1.02-.2 1.41-.59l7.78-7.78 2.81-2.81c.8-.78.8-2.07 0-2.86zM5.41 20L4 18.59l7.72-7.72 1.47 1.35L5.41 20z\"/>\n",
              "  </svg>\n",
              "      </button>\n",
              "      \n",
              "  <style>\n",
              "    .colab-df-container {\n",
              "      display:flex;\n",
              "      flex-wrap:wrap;\n",
              "      gap: 12px;\n",
              "    }\n",
              "\n",
              "    .colab-df-convert {\n",
              "      background-color: #E8F0FE;\n",
              "      border: none;\n",
              "      border-radius: 50%;\n",
              "      cursor: pointer;\n",
              "      display: none;\n",
              "      fill: #1967D2;\n",
              "      height: 32px;\n",
              "      padding: 0 0 0 0;\n",
              "      width: 32px;\n",
              "    }\n",
              "\n",
              "    .colab-df-convert:hover {\n",
              "      background-color: #E2EBFA;\n",
              "      box-shadow: 0px 1px 2px rgba(60, 64, 67, 0.3), 0px 1px 3px 1px rgba(60, 64, 67, 0.15);\n",
              "      fill: #174EA6;\n",
              "    }\n",
              "\n",
              "    [theme=dark] .colab-df-convert {\n",
              "      background-color: #3B4455;\n",
              "      fill: #D2E3FC;\n",
              "    }\n",
              "\n",
              "    [theme=dark] .colab-df-convert:hover {\n",
              "      background-color: #434B5C;\n",
              "      box-shadow: 0px 1px 3px 1px rgba(0, 0, 0, 0.15);\n",
              "      filter: drop-shadow(0px 1px 2px rgba(0, 0, 0, 0.3));\n",
              "      fill: #FFFFFF;\n",
              "    }\n",
              "  </style>\n",
              "\n",
              "      <script>\n",
              "        const buttonEl =\n",
              "          document.querySelector('#df-00b7d2ec-847f-4f9f-b6ab-688a5603c6fd button.colab-df-convert');\n",
              "        buttonEl.style.display =\n",
              "          google.colab.kernel.accessAllowed ? 'block' : 'none';\n",
              "\n",
              "        async function convertToInteractive(key) {\n",
              "          const element = document.querySelector('#df-00b7d2ec-847f-4f9f-b6ab-688a5603c6fd');\n",
              "          const dataTable =\n",
              "            await google.colab.kernel.invokeFunction('convertToInteractive',\n",
              "                                                     [key], {});\n",
              "          if (!dataTable) return;\n",
              "\n",
              "          const docLinkHtml = 'Like what you see? Visit the ' +\n",
              "            '<a target=\"_blank\" href=https://colab.research.google.com/notebooks/data_table.ipynb>data table notebook</a>'\n",
              "            + ' to learn more about interactive tables.';\n",
              "          element.innerHTML = '';\n",
              "          dataTable['output_type'] = 'display_data';\n",
              "          await google.colab.output.renderOutput(dataTable, element);\n",
              "          const docLink = document.createElement('div');\n",
              "          docLink.innerHTML = docLinkHtml;\n",
              "          element.appendChild(docLink);\n",
              "        }\n",
              "      </script>\n",
              "    </div>\n",
              "  </div>\n",
              "  "
            ]
          },
          "metadata": {},
          "execution_count": 113
        }
      ]
    },
    {
      "cell_type": "code",
      "source": [
        "sub_list = [\n",
        "    f'/content/drive/MyDrive/nihonga/sub/{CONFIG.exp_name}/{CONFIG.exp_name}__sub__prob__0.92490_optuna_selected.csv',\n",
        "    '/content/drive/MyDrive/nihonga/sub/098_exp/098_exp_sub_preds_0.95245.csv'\n",
        "]\n",
        "\n",
        "sub = []\n",
        "\n",
        "for i in range(len(sub_list)):\n",
        "\n",
        "    sub.append(pd.read_csv(sub_list[i]))"
      ],
      "metadata": {
        "id": "Hr0gyGduQQ6d"
      },
      "execution_count": null,
      "outputs": []
    },
    {
      "cell_type": "code",
      "source": [
        "opt_sub = np.zeros((2000, 1))\n",
        "tmp = 0\n",
        "for n, (k, v) in enumerate(study1.best_trial.params.items()):\n",
        "\n",
        "    opt_sub += sub[n][['label_0']].values *v\n",
        "    tmp += v\n",
        "opt_sub /= tmp"
      ],
      "metadata": {
        "id": "5z2AZND9RCB3"
      },
      "execution_count": null,
      "outputs": []
    },
    {
      "cell_type": "code",
      "source": [
        "sub_df['label_0'] = (sub_df['label_0'].values + opt_sub[:,0]) / 2"
      ],
      "metadata": {
        "id": "xm-v0sdwEHjO"
      },
      "execution_count": null,
      "outputs": []
    },
    {
      "cell_type": "markdown",
      "source": [
        "### 全学習モデルでアンサンブル"
      ],
      "metadata": {
        "id": "KfCy8srYfYtG"
      }
    },
    {
      "cell_type": "code",
      "source": [
        "# 全学習モデルファイルの読みこみ\n",
        "sub_110 = pd.read_csv('/content/drive/MyDrive/nihonga/sub/110_exp/110_exp_sub_preds.csv')"
      ],
      "metadata": {
        "id": "vQYJGuGmfdhD"
      },
      "execution_count": null,
      "outputs": []
    },
    {
      "cell_type": "code",
      "source": [
        "new_df = sub_df[['id']]\n",
        "a = 0.8\n",
        "col_list = ['label_0','label_1','label_2','label_3']\n",
        "for col in col_list:\n",
        "  new_df[col] = sub_df[col] * a + sub_110[col] * (1-a)\n",
        "new_df['pred'] = new_df[col_list].values.argmax(axis=1)"
      ],
      "metadata": {
        "id": "5yvv170cgBcG"
      },
      "execution_count": null,
      "outputs": []
    },
    {
      "cell_type": "code",
      "source": [
        "new_df[['id','pred']].rename(columns={'pred':'y'}).to_csv(os.path.join(SUB_DIR, f\"{CONFIG.exp_name}__sub__{CV_SCORE:.5f}_optuna_selected_ensemble_all_train110_0.2.csv\"), index=False)"
      ],
      "metadata": {
        "id": "UZtJOowtgGlD"
      },
      "execution_count": null,
      "outputs": []
    },
    {
      "cell_type": "markdown",
      "source": [
        "### opt_subが0と予測しているラベルで上書きする"
      ],
      "metadata": {
        "id": "DA4nllY3FTGH"
      }
    },
    {
      "cell_type": "code",
      "source": [
        "sub_df = new_df.copy()\n",
        "sub_df = sub_df.rename(columns = {'pred':'y'})\n",
        "sub_df['y_opt'] = np.where(np.round(opt_sub,0)==0,1,0)\n",
        "sub_df['y_prob'] = opt_sub"
      ],
      "metadata": {
        "id": "iVtv1mwDUs7V"
      },
      "execution_count": null,
      "outputs": []
    },
    {
      "cell_type": "code",
      "source": [
        "# 化身を予測しているケースは前のモデルの方が精度が良いと考え、置き換えない\n",
        "sub_df[sub_df['y_opt'] != sub_df['y']][sub_df['y_opt']==0][sub_df['y']!=2]"
      ],
      "metadata": {
        "colab": {
          "base_uri": "https://localhost:8080/",
          "height": 363
        },
        "id": "cUefKpj2VBIm",
        "outputId": "b99c7531-48d6-4aa6-9087-5f0fe5eaa348"
      },
      "execution_count": null,
      "outputs": [
        {
          "output_type": "execute_result",
          "data": {
            "text/plain": [
              "        id   label_0   label_1   label_2   label_3  y  y_opt    y_prob\n",
              "122    123  0.490907  0.010884  0.004293  0.614594  3      0  0.528305\n",
              "134    135  0.493834  0.002892  0.000800  0.635952  3      0  0.580003\n",
              "364    365  0.372081  0.019061  0.006742  0.726014  3      0  0.601869\n",
              "501    502  0.335992  0.795209  0.016049  0.005145  1      0  0.592013\n",
              "690    691  0.513865  0.672775  0.000079  0.000088  1      0  0.655773\n",
              "733    734  0.373706  0.741607  0.003757  0.000503  1      0  0.545407\n",
              "987    988  0.377940  0.726945  0.032492  0.000611  1      0  0.504346\n",
              "1321  1322  0.348534  0.817724  0.000080  0.002237  1      0  0.643989\n",
              "1416  1417  0.510649  0.001737  0.003131  0.618812  3      0  0.576175\n",
              "1485  1486  0.514057  0.577381  0.002979  0.001592  1      0  0.552717"
            ],
            "text/html": [
              "\n",
              "  <div id=\"df-4edb4562-dc8b-429e-96c0-663dbe840ee8\">\n",
              "    <div class=\"colab-df-container\">\n",
              "      <div>\n",
              "<style scoped>\n",
              "    .dataframe tbody tr th:only-of-type {\n",
              "        vertical-align: middle;\n",
              "    }\n",
              "\n",
              "    .dataframe tbody tr th {\n",
              "        vertical-align: top;\n",
              "    }\n",
              "\n",
              "    .dataframe thead th {\n",
              "        text-align: right;\n",
              "    }\n",
              "</style>\n",
              "<table border=\"1\" class=\"dataframe\">\n",
              "  <thead>\n",
              "    <tr style=\"text-align: right;\">\n",
              "      <th></th>\n",
              "      <th>id</th>\n",
              "      <th>label_0</th>\n",
              "      <th>label_1</th>\n",
              "      <th>label_2</th>\n",
              "      <th>label_3</th>\n",
              "      <th>y</th>\n",
              "      <th>y_opt</th>\n",
              "      <th>y_prob</th>\n",
              "    </tr>\n",
              "  </thead>\n",
              "  <tbody>\n",
              "    <tr>\n",
              "      <th>122</th>\n",
              "      <td>123</td>\n",
              "      <td>0.490907</td>\n",
              "      <td>0.010884</td>\n",
              "      <td>0.004293</td>\n",
              "      <td>0.614594</td>\n",
              "      <td>3</td>\n",
              "      <td>0</td>\n",
              "      <td>0.528305</td>\n",
              "    </tr>\n",
              "    <tr>\n",
              "      <th>134</th>\n",
              "      <td>135</td>\n",
              "      <td>0.493834</td>\n",
              "      <td>0.002892</td>\n",
              "      <td>0.000800</td>\n",
              "      <td>0.635952</td>\n",
              "      <td>3</td>\n",
              "      <td>0</td>\n",
              "      <td>0.580003</td>\n",
              "    </tr>\n",
              "    <tr>\n",
              "      <th>364</th>\n",
              "      <td>365</td>\n",
              "      <td>0.372081</td>\n",
              "      <td>0.019061</td>\n",
              "      <td>0.006742</td>\n",
              "      <td>0.726014</td>\n",
              "      <td>3</td>\n",
              "      <td>0</td>\n",
              "      <td>0.601869</td>\n",
              "    </tr>\n",
              "    <tr>\n",
              "      <th>501</th>\n",
              "      <td>502</td>\n",
              "      <td>0.335992</td>\n",
              "      <td>0.795209</td>\n",
              "      <td>0.016049</td>\n",
              "      <td>0.005145</td>\n",
              "      <td>1</td>\n",
              "      <td>0</td>\n",
              "      <td>0.592013</td>\n",
              "    </tr>\n",
              "    <tr>\n",
              "      <th>690</th>\n",
              "      <td>691</td>\n",
              "      <td>0.513865</td>\n",
              "      <td>0.672775</td>\n",
              "      <td>0.000079</td>\n",
              "      <td>0.000088</td>\n",
              "      <td>1</td>\n",
              "      <td>0</td>\n",
              "      <td>0.655773</td>\n",
              "    </tr>\n",
              "    <tr>\n",
              "      <th>733</th>\n",
              "      <td>734</td>\n",
              "      <td>0.373706</td>\n",
              "      <td>0.741607</td>\n",
              "      <td>0.003757</td>\n",
              "      <td>0.000503</td>\n",
              "      <td>1</td>\n",
              "      <td>0</td>\n",
              "      <td>0.545407</td>\n",
              "    </tr>\n",
              "    <tr>\n",
              "      <th>987</th>\n",
              "      <td>988</td>\n",
              "      <td>0.377940</td>\n",
              "      <td>0.726945</td>\n",
              "      <td>0.032492</td>\n",
              "      <td>0.000611</td>\n",
              "      <td>1</td>\n",
              "      <td>0</td>\n",
              "      <td>0.504346</td>\n",
              "    </tr>\n",
              "    <tr>\n",
              "      <th>1321</th>\n",
              "      <td>1322</td>\n",
              "      <td>0.348534</td>\n",
              "      <td>0.817724</td>\n",
              "      <td>0.000080</td>\n",
              "      <td>0.002237</td>\n",
              "      <td>1</td>\n",
              "      <td>0</td>\n",
              "      <td>0.643989</td>\n",
              "    </tr>\n",
              "    <tr>\n",
              "      <th>1416</th>\n",
              "      <td>1417</td>\n",
              "      <td>0.510649</td>\n",
              "      <td>0.001737</td>\n",
              "      <td>0.003131</td>\n",
              "      <td>0.618812</td>\n",
              "      <td>3</td>\n",
              "      <td>0</td>\n",
              "      <td>0.576175</td>\n",
              "    </tr>\n",
              "    <tr>\n",
              "      <th>1485</th>\n",
              "      <td>1486</td>\n",
              "      <td>0.514057</td>\n",
              "      <td>0.577381</td>\n",
              "      <td>0.002979</td>\n",
              "      <td>0.001592</td>\n",
              "      <td>1</td>\n",
              "      <td>0</td>\n",
              "      <td>0.552717</td>\n",
              "    </tr>\n",
              "  </tbody>\n",
              "</table>\n",
              "</div>\n",
              "      <button class=\"colab-df-convert\" onclick=\"convertToInteractive('df-4edb4562-dc8b-429e-96c0-663dbe840ee8')\"\n",
              "              title=\"Convert this dataframe to an interactive table.\"\n",
              "              style=\"display:none;\">\n",
              "        \n",
              "  <svg xmlns=\"http://www.w3.org/2000/svg\" height=\"24px\"viewBox=\"0 0 24 24\"\n",
              "       width=\"24px\">\n",
              "    <path d=\"M0 0h24v24H0V0z\" fill=\"none\"/>\n",
              "    <path d=\"M18.56 5.44l.94 2.06.94-2.06 2.06-.94-2.06-.94-.94-2.06-.94 2.06-2.06.94zm-11 1L8.5 8.5l.94-2.06 2.06-.94-2.06-.94L8.5 2.5l-.94 2.06-2.06.94zm10 10l.94 2.06.94-2.06 2.06-.94-2.06-.94-.94-2.06-.94 2.06-2.06.94z\"/><path d=\"M17.41 7.96l-1.37-1.37c-.4-.4-.92-.59-1.43-.59-.52 0-1.04.2-1.43.59L10.3 9.45l-7.72 7.72c-.78.78-.78 2.05 0 2.83L4 21.41c.39.39.9.59 1.41.59.51 0 1.02-.2 1.41-.59l7.78-7.78 2.81-2.81c.8-.78.8-2.07 0-2.86zM5.41 20L4 18.59l7.72-7.72 1.47 1.35L5.41 20z\"/>\n",
              "  </svg>\n",
              "      </button>\n",
              "      \n",
              "  <style>\n",
              "    .colab-df-container {\n",
              "      display:flex;\n",
              "      flex-wrap:wrap;\n",
              "      gap: 12px;\n",
              "    }\n",
              "\n",
              "    .colab-df-convert {\n",
              "      background-color: #E8F0FE;\n",
              "      border: none;\n",
              "      border-radius: 50%;\n",
              "      cursor: pointer;\n",
              "      display: none;\n",
              "      fill: #1967D2;\n",
              "      height: 32px;\n",
              "      padding: 0 0 0 0;\n",
              "      width: 32px;\n",
              "    }\n",
              "\n",
              "    .colab-df-convert:hover {\n",
              "      background-color: #E2EBFA;\n",
              "      box-shadow: 0px 1px 2px rgba(60, 64, 67, 0.3), 0px 1px 3px 1px rgba(60, 64, 67, 0.15);\n",
              "      fill: #174EA6;\n",
              "    }\n",
              "\n",
              "    [theme=dark] .colab-df-convert {\n",
              "      background-color: #3B4455;\n",
              "      fill: #D2E3FC;\n",
              "    }\n",
              "\n",
              "    [theme=dark] .colab-df-convert:hover {\n",
              "      background-color: #434B5C;\n",
              "      box-shadow: 0px 1px 3px 1px rgba(0, 0, 0, 0.15);\n",
              "      filter: drop-shadow(0px 1px 2px rgba(0, 0, 0, 0.3));\n",
              "      fill: #FFFFFF;\n",
              "    }\n",
              "  </style>\n",
              "\n",
              "      <script>\n",
              "        const buttonEl =\n",
              "          document.querySelector('#df-4edb4562-dc8b-429e-96c0-663dbe840ee8 button.colab-df-convert');\n",
              "        buttonEl.style.display =\n",
              "          google.colab.kernel.accessAllowed ? 'block' : 'none';\n",
              "\n",
              "        async function convertToInteractive(key) {\n",
              "          const element = document.querySelector('#df-4edb4562-dc8b-429e-96c0-663dbe840ee8');\n",
              "          const dataTable =\n",
              "            await google.colab.kernel.invokeFunction('convertToInteractive',\n",
              "                                                     [key], {});\n",
              "          if (!dataTable) return;\n",
              "\n",
              "          const docLinkHtml = 'Like what you see? Visit the ' +\n",
              "            '<a target=\"_blank\" href=https://colab.research.google.com/notebooks/data_table.ipynb>data table notebook</a>'\n",
              "            + ' to learn more about interactive tables.';\n",
              "          element.innerHTML = '';\n",
              "          dataTable['output_type'] = 'display_data';\n",
              "          await google.colab.output.renderOutput(dataTable, element);\n",
              "          const docLink = document.createElement('div');\n",
              "          docLink.innerHTML = docLinkHtml;\n",
              "          element.appendChild(docLink);\n",
              "        }\n",
              "      </script>\n",
              "    </div>\n",
              "  </div>\n",
              "  "
            ]
          },
          "metadata": {},
          "execution_count": 122
        }
      ]
    },
    {
      "cell_type": "code",
      "source": [
        "idx = sub_df[sub_df['y_opt'] != sub_df['y']][sub_df['y_opt']==0][sub_df['y']!=2].index\n",
        "sub_df.loc[idx, 'y'] = 0"
      ],
      "metadata": {
        "id": "WZ10crHds28I"
      },
      "execution_count": null,
      "outputs": []
    },
    {
      "cell_type": "code",
      "source": [
        "sub_df[['id','y']].to_csv(os.path.join(SUB_DIR, f\"{CONFIG.exp_name}__sub__{CV_SCORE:.5f}_optuna_selected_pp_roland0_0.2.csv\"), index=False)\n",
        "sub_df"
      ],
      "metadata": {
        "id": "nCyMJWtarwKq",
        "colab": {
          "base_uri": "https://localhost:8080/",
          "height": 424
        },
        "outputId": "b7d975d3-8356-445e-d720-d24f98ff72be"
      },
      "execution_count": null,
      "outputs": [
        {
          "output_type": "execute_result",
          "data": {
            "text/plain": [
              "        id   label_0   label_1   label_2   label_3  y  y_opt    y_prob\n",
              "0        1  0.000423  0.997112  0.000322  0.001517  1      1  0.000535\n",
              "1        2  0.945297  0.052518  0.000585  0.000609  0      0  0.928501\n",
              "2        3  0.999112  0.000962  0.001067  0.000177  0      0  0.998870\n",
              "3        4  0.031412  0.001431  0.930053  0.036510  2      1  0.040200\n",
              "4        5  0.033611  0.916010  0.075087  0.000746  1      1  0.044783\n",
              "...    ...       ...       ...       ...       ... ..    ...       ...\n",
              "1995  1996  0.000813  0.992748  0.001091  0.004046  1      1  0.001065\n",
              "1996  1997  0.000624  0.997062  0.000250  0.001103  1      1  0.000806\n",
              "1997  1998  0.001616  0.004321  0.990133  0.001395  2      1  0.002007\n",
              "1998  1999  0.007705  0.937745  0.004365  0.037436  1      1  0.009873\n",
              "1999  2000  0.000754  0.997708  0.000142  0.000190  1      1  0.000982\n",
              "\n",
              "[2000 rows x 8 columns]"
            ],
            "text/html": [
              "\n",
              "  <div id=\"df-a7e6e051-05fb-476d-ae28-5c7ab7655033\">\n",
              "    <div class=\"colab-df-container\">\n",
              "      <div>\n",
              "<style scoped>\n",
              "    .dataframe tbody tr th:only-of-type {\n",
              "        vertical-align: middle;\n",
              "    }\n",
              "\n",
              "    .dataframe tbody tr th {\n",
              "        vertical-align: top;\n",
              "    }\n",
              "\n",
              "    .dataframe thead th {\n",
              "        text-align: right;\n",
              "    }\n",
              "</style>\n",
              "<table border=\"1\" class=\"dataframe\">\n",
              "  <thead>\n",
              "    <tr style=\"text-align: right;\">\n",
              "      <th></th>\n",
              "      <th>id</th>\n",
              "      <th>label_0</th>\n",
              "      <th>label_1</th>\n",
              "      <th>label_2</th>\n",
              "      <th>label_3</th>\n",
              "      <th>y</th>\n",
              "      <th>y_opt</th>\n",
              "      <th>y_prob</th>\n",
              "    </tr>\n",
              "  </thead>\n",
              "  <tbody>\n",
              "    <tr>\n",
              "      <th>0</th>\n",
              "      <td>1</td>\n",
              "      <td>0.000423</td>\n",
              "      <td>0.997112</td>\n",
              "      <td>0.000322</td>\n",
              "      <td>0.001517</td>\n",
              "      <td>1</td>\n",
              "      <td>1</td>\n",
              "      <td>0.000535</td>\n",
              "    </tr>\n",
              "    <tr>\n",
              "      <th>1</th>\n",
              "      <td>2</td>\n",
              "      <td>0.945297</td>\n",
              "      <td>0.052518</td>\n",
              "      <td>0.000585</td>\n",
              "      <td>0.000609</td>\n",
              "      <td>0</td>\n",
              "      <td>0</td>\n",
              "      <td>0.928501</td>\n",
              "    </tr>\n",
              "    <tr>\n",
              "      <th>2</th>\n",
              "      <td>3</td>\n",
              "      <td>0.999112</td>\n",
              "      <td>0.000962</td>\n",
              "      <td>0.001067</td>\n",
              "      <td>0.000177</td>\n",
              "      <td>0</td>\n",
              "      <td>0</td>\n",
              "      <td>0.998870</td>\n",
              "    </tr>\n",
              "    <tr>\n",
              "      <th>3</th>\n",
              "      <td>4</td>\n",
              "      <td>0.031412</td>\n",
              "      <td>0.001431</td>\n",
              "      <td>0.930053</td>\n",
              "      <td>0.036510</td>\n",
              "      <td>2</td>\n",
              "      <td>1</td>\n",
              "      <td>0.040200</td>\n",
              "    </tr>\n",
              "    <tr>\n",
              "      <th>4</th>\n",
              "      <td>5</td>\n",
              "      <td>0.033611</td>\n",
              "      <td>0.916010</td>\n",
              "      <td>0.075087</td>\n",
              "      <td>0.000746</td>\n",
              "      <td>1</td>\n",
              "      <td>1</td>\n",
              "      <td>0.044783</td>\n",
              "    </tr>\n",
              "    <tr>\n",
              "      <th>...</th>\n",
              "      <td>...</td>\n",
              "      <td>...</td>\n",
              "      <td>...</td>\n",
              "      <td>...</td>\n",
              "      <td>...</td>\n",
              "      <td>...</td>\n",
              "      <td>...</td>\n",
              "      <td>...</td>\n",
              "    </tr>\n",
              "    <tr>\n",
              "      <th>1995</th>\n",
              "      <td>1996</td>\n",
              "      <td>0.000813</td>\n",
              "      <td>0.992748</td>\n",
              "      <td>0.001091</td>\n",
              "      <td>0.004046</td>\n",
              "      <td>1</td>\n",
              "      <td>1</td>\n",
              "      <td>0.001065</td>\n",
              "    </tr>\n",
              "    <tr>\n",
              "      <th>1996</th>\n",
              "      <td>1997</td>\n",
              "      <td>0.000624</td>\n",
              "      <td>0.997062</td>\n",
              "      <td>0.000250</td>\n",
              "      <td>0.001103</td>\n",
              "      <td>1</td>\n",
              "      <td>1</td>\n",
              "      <td>0.000806</td>\n",
              "    </tr>\n",
              "    <tr>\n",
              "      <th>1997</th>\n",
              "      <td>1998</td>\n",
              "      <td>0.001616</td>\n",
              "      <td>0.004321</td>\n",
              "      <td>0.990133</td>\n",
              "      <td>0.001395</td>\n",
              "      <td>2</td>\n",
              "      <td>1</td>\n",
              "      <td>0.002007</td>\n",
              "    </tr>\n",
              "    <tr>\n",
              "      <th>1998</th>\n",
              "      <td>1999</td>\n",
              "      <td>0.007705</td>\n",
              "      <td>0.937745</td>\n",
              "      <td>0.004365</td>\n",
              "      <td>0.037436</td>\n",
              "      <td>1</td>\n",
              "      <td>1</td>\n",
              "      <td>0.009873</td>\n",
              "    </tr>\n",
              "    <tr>\n",
              "      <th>1999</th>\n",
              "      <td>2000</td>\n",
              "      <td>0.000754</td>\n",
              "      <td>0.997708</td>\n",
              "      <td>0.000142</td>\n",
              "      <td>0.000190</td>\n",
              "      <td>1</td>\n",
              "      <td>1</td>\n",
              "      <td>0.000982</td>\n",
              "    </tr>\n",
              "  </tbody>\n",
              "</table>\n",
              "<p>2000 rows × 8 columns</p>\n",
              "</div>\n",
              "      <button class=\"colab-df-convert\" onclick=\"convertToInteractive('df-a7e6e051-05fb-476d-ae28-5c7ab7655033')\"\n",
              "              title=\"Convert this dataframe to an interactive table.\"\n",
              "              style=\"display:none;\">\n",
              "        \n",
              "  <svg xmlns=\"http://www.w3.org/2000/svg\" height=\"24px\"viewBox=\"0 0 24 24\"\n",
              "       width=\"24px\">\n",
              "    <path d=\"M0 0h24v24H0V0z\" fill=\"none\"/>\n",
              "    <path d=\"M18.56 5.44l.94 2.06.94-2.06 2.06-.94-2.06-.94-.94-2.06-.94 2.06-2.06.94zm-11 1L8.5 8.5l.94-2.06 2.06-.94-2.06-.94L8.5 2.5l-.94 2.06-2.06.94zm10 10l.94 2.06.94-2.06 2.06-.94-2.06-.94-.94-2.06-.94 2.06-2.06.94z\"/><path d=\"M17.41 7.96l-1.37-1.37c-.4-.4-.92-.59-1.43-.59-.52 0-1.04.2-1.43.59L10.3 9.45l-7.72 7.72c-.78.78-.78 2.05 0 2.83L4 21.41c.39.39.9.59 1.41.59.51 0 1.02-.2 1.41-.59l7.78-7.78 2.81-2.81c.8-.78.8-2.07 0-2.86zM5.41 20L4 18.59l7.72-7.72 1.47 1.35L5.41 20z\"/>\n",
              "  </svg>\n",
              "      </button>\n",
              "      \n",
              "  <style>\n",
              "    .colab-df-container {\n",
              "      display:flex;\n",
              "      flex-wrap:wrap;\n",
              "      gap: 12px;\n",
              "    }\n",
              "\n",
              "    .colab-df-convert {\n",
              "      background-color: #E8F0FE;\n",
              "      border: none;\n",
              "      border-radius: 50%;\n",
              "      cursor: pointer;\n",
              "      display: none;\n",
              "      fill: #1967D2;\n",
              "      height: 32px;\n",
              "      padding: 0 0 0 0;\n",
              "      width: 32px;\n",
              "    }\n",
              "\n",
              "    .colab-df-convert:hover {\n",
              "      background-color: #E2EBFA;\n",
              "      box-shadow: 0px 1px 2px rgba(60, 64, 67, 0.3), 0px 1px 3px 1px rgba(60, 64, 67, 0.15);\n",
              "      fill: #174EA6;\n",
              "    }\n",
              "\n",
              "    [theme=dark] .colab-df-convert {\n",
              "      background-color: #3B4455;\n",
              "      fill: #D2E3FC;\n",
              "    }\n",
              "\n",
              "    [theme=dark] .colab-df-convert:hover {\n",
              "      background-color: #434B5C;\n",
              "      box-shadow: 0px 1px 3px 1px rgba(0, 0, 0, 0.15);\n",
              "      filter: drop-shadow(0px 1px 2px rgba(0, 0, 0, 0.3));\n",
              "      fill: #FFFFFF;\n",
              "    }\n",
              "  </style>\n",
              "\n",
              "      <script>\n",
              "        const buttonEl =\n",
              "          document.querySelector('#df-a7e6e051-05fb-476d-ae28-5c7ab7655033 button.colab-df-convert');\n",
              "        buttonEl.style.display =\n",
              "          google.colab.kernel.accessAllowed ? 'block' : 'none';\n",
              "\n",
              "        async function convertToInteractive(key) {\n",
              "          const element = document.querySelector('#df-a7e6e051-05fb-476d-ae28-5c7ab7655033');\n",
              "          const dataTable =\n",
              "            await google.colab.kernel.invokeFunction('convertToInteractive',\n",
              "                                                     [key], {});\n",
              "          if (!dataTable) return;\n",
              "\n",
              "          const docLinkHtml = 'Like what you see? Visit the ' +\n",
              "            '<a target=\"_blank\" href=https://colab.research.google.com/notebooks/data_table.ipynb>data table notebook</a>'\n",
              "            + ' to learn more about interactive tables.';\n",
              "          element.innerHTML = '';\n",
              "          dataTable['output_type'] = 'display_data';\n",
              "          await google.colab.output.renderOutput(dataTable, element);\n",
              "          const docLink = document.createElement('div');\n",
              "          docLink.innerHTML = docLinkHtml;\n",
              "          element.appendChild(docLink);\n",
              "        }\n",
              "      </script>\n",
              "    </div>\n",
              "  </div>\n",
              "  "
            ]
          },
          "metadata": {},
          "execution_count": 110
        }
      ]
    }
  ],
  "metadata": {
    "colab": {
      "collapsed_sections": [],
      "name": "nihonga_136_exp.ipynb のコピー",
      "provenance": []
    },
    "gpuClass": "standard",
    "kernelspec": {
      "display_name": "Python 3",
      "name": "python3"
    },
    "language_info": {
      "name": "python"
    },
    "widgets": {
      "application/vnd.jupyter.widget-state+json": {
        "61d2d242ed274d8db9c3d430cb29651b": {
          "model_module": "@jupyter-widgets/controls",
          "model_name": "HBoxModel",
          "model_module_version": "1.5.0",
          "state": {
            "_dom_classes": [],
            "_model_module": "@jupyter-widgets/controls",
            "_model_module_version": "1.5.0",
            "_model_name": "HBoxModel",
            "_view_count": null,
            "_view_module": "@jupyter-widgets/controls",
            "_view_module_version": "1.5.0",
            "_view_name": "HBoxView",
            "box_style": "",
            "children": [
              "IPY_MODEL_74b2c6a3cdd34e218d094b18929b57ff",
              "IPY_MODEL_d7d6d4d42c014b20860dd8a3eb764117",
              "IPY_MODEL_32f59ae9579246888001a17402bf23c8"
            ],
            "layout": "IPY_MODEL_c4282c701a404bf99b694e53d28570bd"
          }
        },
        "74b2c6a3cdd34e218d094b18929b57ff": {
          "model_module": "@jupyter-widgets/controls",
          "model_name": "HTMLModel",
          "model_module_version": "1.5.0",
          "state": {
            "_dom_classes": [],
            "_model_module": "@jupyter-widgets/controls",
            "_model_module_version": "1.5.0",
            "_model_name": "HTMLModel",
            "_view_count": null,
            "_view_module": "@jupyter-widgets/controls",
            "_view_module_version": "1.5.0",
            "_view_name": "HTMLView",
            "description": "",
            "description_tooltip": null,
            "layout": "IPY_MODEL_f97f9e5f04514b56b7eabb30833b6736",
            "placeholder": "​",
            "style": "IPY_MODEL_f672ac92e70d45c1bf496c7ff22a2344",
            "value": ""
          }
        },
        "d7d6d4d42c014b20860dd8a3eb764117": {
          "model_module": "@jupyter-widgets/controls",
          "model_name": "FloatProgressModel",
          "model_module_version": "1.5.0",
          "state": {
            "_dom_classes": [],
            "_model_module": "@jupyter-widgets/controls",
            "_model_module_version": "1.5.0",
            "_model_name": "FloatProgressModel",
            "_view_count": null,
            "_view_module": "@jupyter-widgets/controls",
            "_view_module_version": "1.5.0",
            "_view_name": "ProgressView",
            "bar_style": "success",
            "description": "",
            "description_tooltip": null,
            "layout": "IPY_MODEL_3f0bff120e654ec4ad8e7fc9460bd60d",
            "max": 1,
            "min": 0,
            "orientation": "horizontal",
            "style": "IPY_MODEL_342847bcf63149078fdc39064b203f82",
            "value": 1
          }
        },
        "32f59ae9579246888001a17402bf23c8": {
          "model_module": "@jupyter-widgets/controls",
          "model_name": "HTMLModel",
          "model_module_version": "1.5.0",
          "state": {
            "_dom_classes": [],
            "_model_module": "@jupyter-widgets/controls",
            "_model_module_version": "1.5.0",
            "_model_name": "HTMLModel",
            "_view_count": null,
            "_view_module": "@jupyter-widgets/controls",
            "_view_module_version": "1.5.0",
            "_view_name": "HTMLView",
            "description": "",
            "description_tooltip": null,
            "layout": "IPY_MODEL_738adda2850d43da8a74abb388ee5f76",
            "placeholder": "​",
            "style": "IPY_MODEL_6e39edfa319e46479ca84e60a1d24ee7",
            "value": " 8182/? [1:00:00&lt;00:00,  1.13it/s, 3600.04/3600 seconds]"
          }
        },
        "c4282c701a404bf99b694e53d28570bd": {
          "model_module": "@jupyter-widgets/base",
          "model_name": "LayoutModel",
          "model_module_version": "1.2.0",
          "state": {
            "_model_module": "@jupyter-widgets/base",
            "_model_module_version": "1.2.0",
            "_model_name": "LayoutModel",
            "_view_count": null,
            "_view_module": "@jupyter-widgets/base",
            "_view_module_version": "1.2.0",
            "_view_name": "LayoutView",
            "align_content": null,
            "align_items": null,
            "align_self": null,
            "border": null,
            "bottom": null,
            "display": null,
            "flex": null,
            "flex_flow": null,
            "grid_area": null,
            "grid_auto_columns": null,
            "grid_auto_flow": null,
            "grid_auto_rows": null,
            "grid_column": null,
            "grid_gap": null,
            "grid_row": null,
            "grid_template_areas": null,
            "grid_template_columns": null,
            "grid_template_rows": null,
            "height": null,
            "justify_content": null,
            "justify_items": null,
            "left": null,
            "margin": null,
            "max_height": null,
            "max_width": null,
            "min_height": null,
            "min_width": null,
            "object_fit": null,
            "object_position": null,
            "order": null,
            "overflow": null,
            "overflow_x": null,
            "overflow_y": null,
            "padding": null,
            "right": null,
            "top": null,
            "visibility": null,
            "width": null
          }
        },
        "f97f9e5f04514b56b7eabb30833b6736": {
          "model_module": "@jupyter-widgets/base",
          "model_name": "LayoutModel",
          "model_module_version": "1.2.0",
          "state": {
            "_model_module": "@jupyter-widgets/base",
            "_model_module_version": "1.2.0",
            "_model_name": "LayoutModel",
            "_view_count": null,
            "_view_module": "@jupyter-widgets/base",
            "_view_module_version": "1.2.0",
            "_view_name": "LayoutView",
            "align_content": null,
            "align_items": null,
            "align_self": null,
            "border": null,
            "bottom": null,
            "display": null,
            "flex": null,
            "flex_flow": null,
            "grid_area": null,
            "grid_auto_columns": null,
            "grid_auto_flow": null,
            "grid_auto_rows": null,
            "grid_column": null,
            "grid_gap": null,
            "grid_row": null,
            "grid_template_areas": null,
            "grid_template_columns": null,
            "grid_template_rows": null,
            "height": null,
            "justify_content": null,
            "justify_items": null,
            "left": null,
            "margin": null,
            "max_height": null,
            "max_width": null,
            "min_height": null,
            "min_width": null,
            "object_fit": null,
            "object_position": null,
            "order": null,
            "overflow": null,
            "overflow_x": null,
            "overflow_y": null,
            "padding": null,
            "right": null,
            "top": null,
            "visibility": null,
            "width": null
          }
        },
        "f672ac92e70d45c1bf496c7ff22a2344": {
          "model_module": "@jupyter-widgets/controls",
          "model_name": "DescriptionStyleModel",
          "model_module_version": "1.5.0",
          "state": {
            "_model_module": "@jupyter-widgets/controls",
            "_model_module_version": "1.5.0",
            "_model_name": "DescriptionStyleModel",
            "_view_count": null,
            "_view_module": "@jupyter-widgets/base",
            "_view_module_version": "1.2.0",
            "_view_name": "StyleView",
            "description_width": ""
          }
        },
        "3f0bff120e654ec4ad8e7fc9460bd60d": {
          "model_module": "@jupyter-widgets/base",
          "model_name": "LayoutModel",
          "model_module_version": "1.2.0",
          "state": {
            "_model_module": "@jupyter-widgets/base",
            "_model_module_version": "1.2.0",
            "_model_name": "LayoutModel",
            "_view_count": null,
            "_view_module": "@jupyter-widgets/base",
            "_view_module_version": "1.2.0",
            "_view_name": "LayoutView",
            "align_content": null,
            "align_items": null,
            "align_self": null,
            "border": null,
            "bottom": null,
            "display": null,
            "flex": null,
            "flex_flow": null,
            "grid_area": null,
            "grid_auto_columns": null,
            "grid_auto_flow": null,
            "grid_auto_rows": null,
            "grid_column": null,
            "grid_gap": null,
            "grid_row": null,
            "grid_template_areas": null,
            "grid_template_columns": null,
            "grid_template_rows": null,
            "height": null,
            "justify_content": null,
            "justify_items": null,
            "left": null,
            "margin": null,
            "max_height": null,
            "max_width": null,
            "min_height": null,
            "min_width": null,
            "object_fit": null,
            "object_position": null,
            "order": null,
            "overflow": null,
            "overflow_x": null,
            "overflow_y": null,
            "padding": null,
            "right": null,
            "top": null,
            "visibility": null,
            "width": "20px"
          }
        },
        "342847bcf63149078fdc39064b203f82": {
          "model_module": "@jupyter-widgets/controls",
          "model_name": "ProgressStyleModel",
          "model_module_version": "1.5.0",
          "state": {
            "_model_module": "@jupyter-widgets/controls",
            "_model_module_version": "1.5.0",
            "_model_name": "ProgressStyleModel",
            "_view_count": null,
            "_view_module": "@jupyter-widgets/base",
            "_view_module_version": "1.2.0",
            "_view_name": "StyleView",
            "bar_color": null,
            "description_width": ""
          }
        },
        "738adda2850d43da8a74abb388ee5f76": {
          "model_module": "@jupyter-widgets/base",
          "model_name": "LayoutModel",
          "model_module_version": "1.2.0",
          "state": {
            "_model_module": "@jupyter-widgets/base",
            "_model_module_version": "1.2.0",
            "_model_name": "LayoutModel",
            "_view_count": null,
            "_view_module": "@jupyter-widgets/base",
            "_view_module_version": "1.2.0",
            "_view_name": "LayoutView",
            "align_content": null,
            "align_items": null,
            "align_self": null,
            "border": null,
            "bottom": null,
            "display": null,
            "flex": null,
            "flex_flow": null,
            "grid_area": null,
            "grid_auto_columns": null,
            "grid_auto_flow": null,
            "grid_auto_rows": null,
            "grid_column": null,
            "grid_gap": null,
            "grid_row": null,
            "grid_template_areas": null,
            "grid_template_columns": null,
            "grid_template_rows": null,
            "height": null,
            "justify_content": null,
            "justify_items": null,
            "left": null,
            "margin": null,
            "max_height": null,
            "max_width": null,
            "min_height": null,
            "min_width": null,
            "object_fit": null,
            "object_position": null,
            "order": null,
            "overflow": null,
            "overflow_x": null,
            "overflow_y": null,
            "padding": null,
            "right": null,
            "top": null,
            "visibility": null,
            "width": null
          }
        },
        "6e39edfa319e46479ca84e60a1d24ee7": {
          "model_module": "@jupyter-widgets/controls",
          "model_name": "DescriptionStyleModel",
          "model_module_version": "1.5.0",
          "state": {
            "_model_module": "@jupyter-widgets/controls",
            "_model_module_version": "1.5.0",
            "_model_name": "DescriptionStyleModel",
            "_view_count": null,
            "_view_module": "@jupyter-widgets/base",
            "_view_module_version": "1.2.0",
            "_view_name": "StyleView",
            "description_width": ""
          }
        },
        "6ba9dfa4aa01407a9228492dff71d72e": {
          "model_module": "@jupyter-widgets/controls",
          "model_name": "HBoxModel",
          "model_module_version": "1.5.0",
          "state": {
            "_dom_classes": [],
            "_model_module": "@jupyter-widgets/controls",
            "_model_module_version": "1.5.0",
            "_model_name": "HBoxModel",
            "_view_count": null,
            "_view_module": "@jupyter-widgets/controls",
            "_view_module_version": "1.5.0",
            "_view_name": "HBoxView",
            "box_style": "",
            "children": [
              "IPY_MODEL_8a7f955035a141d7b34cbc317093c3d9",
              "IPY_MODEL_4254afd9b023480bbfa011d3fd684946",
              "IPY_MODEL_47e64706828a477096b679d744cc7e63"
            ],
            "layout": "IPY_MODEL_3e9b914b42294fe6a240cc7ea772a530"
          }
        },
        "8a7f955035a141d7b34cbc317093c3d9": {
          "model_module": "@jupyter-widgets/controls",
          "model_name": "HTMLModel",
          "model_module_version": "1.5.0",
          "state": {
            "_dom_classes": [],
            "_model_module": "@jupyter-widgets/controls",
            "_model_module_version": "1.5.0",
            "_model_name": "HTMLModel",
            "_view_count": null,
            "_view_module": "@jupyter-widgets/controls",
            "_view_module_version": "1.5.0",
            "_view_name": "HTMLView",
            "description": "",
            "description_tooltip": null,
            "layout": "IPY_MODEL_d6ac980a1c34483cb6c2fe14ca00bca4",
            "placeholder": "​",
            "style": "IPY_MODEL_da46223788fa40458968875bb0da9ffb",
            "value": ""
          }
        },
        "4254afd9b023480bbfa011d3fd684946": {
          "model_module": "@jupyter-widgets/controls",
          "model_name": "FloatProgressModel",
          "model_module_version": "1.5.0",
          "state": {
            "_dom_classes": [],
            "_model_module": "@jupyter-widgets/controls",
            "_model_module_version": "1.5.0",
            "_model_name": "FloatProgressModel",
            "_view_count": null,
            "_view_module": "@jupyter-widgets/controls",
            "_view_module_version": "1.5.0",
            "_view_name": "ProgressView",
            "bar_style": "success",
            "description": "",
            "description_tooltip": null,
            "layout": "IPY_MODEL_beb14d519f444f6194ae0ce68e1e7c8f",
            "max": 1,
            "min": 0,
            "orientation": "horizontal",
            "style": "IPY_MODEL_8b7776fa469e434db94075964f19bdb3",
            "value": 1
          }
        },
        "47e64706828a477096b679d744cc7e63": {
          "model_module": "@jupyter-widgets/controls",
          "model_name": "HTMLModel",
          "model_module_version": "1.5.0",
          "state": {
            "_dom_classes": [],
            "_model_module": "@jupyter-widgets/controls",
            "_model_module_version": "1.5.0",
            "_model_name": "HTMLModel",
            "_view_count": null,
            "_view_module": "@jupyter-widgets/controls",
            "_view_module_version": "1.5.0",
            "_view_name": "HTMLView",
            "description": "",
            "description_tooltip": null,
            "layout": "IPY_MODEL_7ce6ea7eebc348e28f05c4653a6669ea",
            "placeholder": "​",
            "style": "IPY_MODEL_7533be32b3a94b62b75899cbb33405bd",
            "value": " 16871/? [1:00:00&lt;00:00,  2.37it/s, 3600.30/3600 seconds]"
          }
        },
        "3e9b914b42294fe6a240cc7ea772a530": {
          "model_module": "@jupyter-widgets/base",
          "model_name": "LayoutModel",
          "model_module_version": "1.2.0",
          "state": {
            "_model_module": "@jupyter-widgets/base",
            "_model_module_version": "1.2.0",
            "_model_name": "LayoutModel",
            "_view_count": null,
            "_view_module": "@jupyter-widgets/base",
            "_view_module_version": "1.2.0",
            "_view_name": "LayoutView",
            "align_content": null,
            "align_items": null,
            "align_self": null,
            "border": null,
            "bottom": null,
            "display": null,
            "flex": null,
            "flex_flow": null,
            "grid_area": null,
            "grid_auto_columns": null,
            "grid_auto_flow": null,
            "grid_auto_rows": null,
            "grid_column": null,
            "grid_gap": null,
            "grid_row": null,
            "grid_template_areas": null,
            "grid_template_columns": null,
            "grid_template_rows": null,
            "height": null,
            "justify_content": null,
            "justify_items": null,
            "left": null,
            "margin": null,
            "max_height": null,
            "max_width": null,
            "min_height": null,
            "min_width": null,
            "object_fit": null,
            "object_position": null,
            "order": null,
            "overflow": null,
            "overflow_x": null,
            "overflow_y": null,
            "padding": null,
            "right": null,
            "top": null,
            "visibility": null,
            "width": null
          }
        },
        "d6ac980a1c34483cb6c2fe14ca00bca4": {
          "model_module": "@jupyter-widgets/base",
          "model_name": "LayoutModel",
          "model_module_version": "1.2.0",
          "state": {
            "_model_module": "@jupyter-widgets/base",
            "_model_module_version": "1.2.0",
            "_model_name": "LayoutModel",
            "_view_count": null,
            "_view_module": "@jupyter-widgets/base",
            "_view_module_version": "1.2.0",
            "_view_name": "LayoutView",
            "align_content": null,
            "align_items": null,
            "align_self": null,
            "border": null,
            "bottom": null,
            "display": null,
            "flex": null,
            "flex_flow": null,
            "grid_area": null,
            "grid_auto_columns": null,
            "grid_auto_flow": null,
            "grid_auto_rows": null,
            "grid_column": null,
            "grid_gap": null,
            "grid_row": null,
            "grid_template_areas": null,
            "grid_template_columns": null,
            "grid_template_rows": null,
            "height": null,
            "justify_content": null,
            "justify_items": null,
            "left": null,
            "margin": null,
            "max_height": null,
            "max_width": null,
            "min_height": null,
            "min_width": null,
            "object_fit": null,
            "object_position": null,
            "order": null,
            "overflow": null,
            "overflow_x": null,
            "overflow_y": null,
            "padding": null,
            "right": null,
            "top": null,
            "visibility": null,
            "width": null
          }
        },
        "da46223788fa40458968875bb0da9ffb": {
          "model_module": "@jupyter-widgets/controls",
          "model_name": "DescriptionStyleModel",
          "model_module_version": "1.5.0",
          "state": {
            "_model_module": "@jupyter-widgets/controls",
            "_model_module_version": "1.5.0",
            "_model_name": "DescriptionStyleModel",
            "_view_count": null,
            "_view_module": "@jupyter-widgets/base",
            "_view_module_version": "1.2.0",
            "_view_name": "StyleView",
            "description_width": ""
          }
        },
        "beb14d519f444f6194ae0ce68e1e7c8f": {
          "model_module": "@jupyter-widgets/base",
          "model_name": "LayoutModel",
          "model_module_version": "1.2.0",
          "state": {
            "_model_module": "@jupyter-widgets/base",
            "_model_module_version": "1.2.0",
            "_model_name": "LayoutModel",
            "_view_count": null,
            "_view_module": "@jupyter-widgets/base",
            "_view_module_version": "1.2.0",
            "_view_name": "LayoutView",
            "align_content": null,
            "align_items": null,
            "align_self": null,
            "border": null,
            "bottom": null,
            "display": null,
            "flex": null,
            "flex_flow": null,
            "grid_area": null,
            "grid_auto_columns": null,
            "grid_auto_flow": null,
            "grid_auto_rows": null,
            "grid_column": null,
            "grid_gap": null,
            "grid_row": null,
            "grid_template_areas": null,
            "grid_template_columns": null,
            "grid_template_rows": null,
            "height": null,
            "justify_content": null,
            "justify_items": null,
            "left": null,
            "margin": null,
            "max_height": null,
            "max_width": null,
            "min_height": null,
            "min_width": null,
            "object_fit": null,
            "object_position": null,
            "order": null,
            "overflow": null,
            "overflow_x": null,
            "overflow_y": null,
            "padding": null,
            "right": null,
            "top": null,
            "visibility": null,
            "width": "20px"
          }
        },
        "8b7776fa469e434db94075964f19bdb3": {
          "model_module": "@jupyter-widgets/controls",
          "model_name": "ProgressStyleModel",
          "model_module_version": "1.5.0",
          "state": {
            "_model_module": "@jupyter-widgets/controls",
            "_model_module_version": "1.5.0",
            "_model_name": "ProgressStyleModel",
            "_view_count": null,
            "_view_module": "@jupyter-widgets/base",
            "_view_module_version": "1.2.0",
            "_view_name": "StyleView",
            "bar_color": null,
            "description_width": ""
          }
        },
        "7ce6ea7eebc348e28f05c4653a6669ea": {
          "model_module": "@jupyter-widgets/base",
          "model_name": "LayoutModel",
          "model_module_version": "1.2.0",
          "state": {
            "_model_module": "@jupyter-widgets/base",
            "_model_module_version": "1.2.0",
            "_model_name": "LayoutModel",
            "_view_count": null,
            "_view_module": "@jupyter-widgets/base",
            "_view_module_version": "1.2.0",
            "_view_name": "LayoutView",
            "align_content": null,
            "align_items": null,
            "align_self": null,
            "border": null,
            "bottom": null,
            "display": null,
            "flex": null,
            "flex_flow": null,
            "grid_area": null,
            "grid_auto_columns": null,
            "grid_auto_flow": null,
            "grid_auto_rows": null,
            "grid_column": null,
            "grid_gap": null,
            "grid_row": null,
            "grid_template_areas": null,
            "grid_template_columns": null,
            "grid_template_rows": null,
            "height": null,
            "justify_content": null,
            "justify_items": null,
            "left": null,
            "margin": null,
            "max_height": null,
            "max_width": null,
            "min_height": null,
            "min_width": null,
            "object_fit": null,
            "object_position": null,
            "order": null,
            "overflow": null,
            "overflow_x": null,
            "overflow_y": null,
            "padding": null,
            "right": null,
            "top": null,
            "visibility": null,
            "width": null
          }
        },
        "7533be32b3a94b62b75899cbb33405bd": {
          "model_module": "@jupyter-widgets/controls",
          "model_name": "DescriptionStyleModel",
          "model_module_version": "1.5.0",
          "state": {
            "_model_module": "@jupyter-widgets/controls",
            "_model_module_version": "1.5.0",
            "_model_name": "DescriptionStyleModel",
            "_view_count": null,
            "_view_module": "@jupyter-widgets/base",
            "_view_module_version": "1.2.0",
            "_view_name": "StyleView",
            "description_width": ""
          }
        }
      }
    }
  },
  "nbformat": 4,
  "nbformat_minor": 0
}